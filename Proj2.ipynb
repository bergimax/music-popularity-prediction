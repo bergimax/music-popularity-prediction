{
 "cells": [
  {
   "cell_type": "code",
   "execution_count": 1,
   "id": "c95e1d0c",
   "metadata": {
    "execution": {
     "iopub.execute_input": "2023-12-22T22:58:51.594023Z",
     "iopub.status.busy": "2023-12-22T22:58:51.593649Z",
     "iopub.status.idle": "2023-12-22T22:58:57.541381Z",
     "shell.execute_reply": "2023-12-22T22:58:57.540759Z",
     "shell.execute_reply.started": "2023-12-22T22:58:51.593995Z"
    },
    "tags": []
   },
   "outputs": [
    {
     "name": "stderr",
     "output_type": "stream",
     "text": [
      "2023-12-22 22:58:54.700906: I tensorflow/core/util/port.cc:113] oneDNN custom operations are on. You may see slightly different numerical results due to floating-point round-off errors from different computation orders. To turn them off, set the environment variable `TF_ENABLE_ONEDNN_OPTS=0`.\n",
      "2023-12-22 22:58:54.748082: E external/local_xla/xla/stream_executor/cuda/cuda_dnn.cc:9261] Unable to register cuDNN factory: Attempting to register factory for plugin cuDNN when one has already been registered\n",
      "2023-12-22 22:58:54.748112: E external/local_xla/xla/stream_executor/cuda/cuda_fft.cc:607] Unable to register cuFFT factory: Attempting to register factory for plugin cuFFT when one has already been registered\n",
      "2023-12-22 22:58:54.749270: E external/local_xla/xla/stream_executor/cuda/cuda_blas.cc:1515] Unable to register cuBLAS factory: Attempting to register factory for plugin cuBLAS when one has already been registered\n",
      "2023-12-22 22:58:54.756579: I tensorflow/core/platform/cpu_feature_guard.cc:182] This TensorFlow binary is optimized to use available CPU instructions in performance-critical operations.\n",
      "To enable the following instructions: AVX2 AVX512F AVX512_VNNI FMA, in other operations, rebuild TensorFlow with the appropriate compiler flags.\n",
      "2023-12-22 22:58:55.666503: W tensorflow/compiler/tf2tensorrt/utils/py_utils.cc:38] TF-TRT Warning: Could not find TensorRT\n"
     ]
    }
   ],
   "source": [
    "import numpy as np\n",
    "import pandas as pd\n",
    "\n",
    "from sklearn.model_selection import train_test_split\n",
    "from sklearn.feature_extraction import DictVectorizer\n",
    "from sklearn.tree import DecisionTreeRegressor\n",
    "from sklearn.tree import export_text\n",
    "from sklearn.ensemble import RandomForestRegressor\n",
    "\n",
    "import tensorflow as tf\n",
    "from tensorflow import keras\n",
    "from tensorflow.keras import layers\n",
    "from tensorflow.keras import models\n",
    "from tensorflow.keras import optimizers\n",
    "\n",
    "import seaborn as sns\n",
    "from matplotlib import pyplot as plt\n",
    "%matplotlib inline"
   ]
  },
  {
   "cell_type": "code",
   "execution_count": 3,
   "id": "fc48ea65",
   "metadata": {
    "execution": {
     "iopub.execute_input": "2023-12-22T23:00:40.443682Z",
     "iopub.status.busy": "2023-12-22T23:00:40.443291Z",
     "iopub.status.idle": "2023-12-22T23:00:40.520132Z",
     "shell.execute_reply": "2023-12-22T23:00:40.519419Z",
     "shell.execute_reply.started": "2023-12-22T23:00:40.443655Z"
    },
    "tags": []
   },
   "outputs": [
    {
     "data": {
      "text/plain": [
       "(17643, 21)"
      ]
     },
     "execution_count": 3,
     "metadata": {},
     "output_type": "execute_result"
    }
   ],
   "source": [
    "df = pd.read_csv('data/spotify.csv')\n",
    "df.shape"
   ]
  },
  {
   "cell_type": "markdown",
   "id": "25aebab9",
   "metadata": {},
   "source": [
    "Dataset from kaggle: https://www.kaggle.com/datasets/thedevastator/spotify-tracks-genre-dataset/data"
   ]
  },
  {
   "cell_type": "code",
   "execution_count": 4,
   "id": "3433da05",
   "metadata": {
    "execution": {
     "iopub.execute_input": "2023-12-22T23:00:43.350938Z",
     "iopub.status.busy": "2023-12-22T23:00:43.350562Z",
     "iopub.status.idle": "2023-12-22T23:00:43.379276Z",
     "shell.execute_reply": "2023-12-22T23:00:43.378608Z",
     "shell.execute_reply.started": "2023-12-22T23:00:43.350908Z"
    },
    "tags": []
   },
   "outputs": [
    {
     "data": {
      "text/html": [
       "<div>\n",
       "<style scoped>\n",
       "    .dataframe tbody tr th:only-of-type {\n",
       "        vertical-align: middle;\n",
       "    }\n",
       "\n",
       "    .dataframe tbody tr th {\n",
       "        vertical-align: top;\n",
       "    }\n",
       "\n",
       "    .dataframe thead th {\n",
       "        text-align: right;\n",
       "    }\n",
       "</style>\n",
       "<table border=\"1\" class=\"dataframe\">\n",
       "  <thead>\n",
       "    <tr style=\"text-align: right;\">\n",
       "      <th></th>\n",
       "      <th>Unnamed: 0</th>\n",
       "      <th>track_id</th>\n",
       "      <th>artists</th>\n",
       "      <th>album_name</th>\n",
       "      <th>track_name</th>\n",
       "      <th>popularity</th>\n",
       "      <th>duration_ms</th>\n",
       "      <th>explicit</th>\n",
       "      <th>danceability</th>\n",
       "      <th>energy</th>\n",
       "      <th>...</th>\n",
       "      <th>loudness</th>\n",
       "      <th>mode</th>\n",
       "      <th>speechiness</th>\n",
       "      <th>acousticness</th>\n",
       "      <th>instrumentalness</th>\n",
       "      <th>liveness</th>\n",
       "      <th>valence</th>\n",
       "      <th>tempo</th>\n",
       "      <th>time_signature</th>\n",
       "      <th>track_genre</th>\n",
       "    </tr>\n",
       "  </thead>\n",
       "  <tbody>\n",
       "    <tr>\n",
       "      <th>0</th>\n",
       "      <td>0</td>\n",
       "      <td>5SuOikwiRyPMVoIQDJUgSV</td>\n",
       "      <td>Gen Hoshino</td>\n",
       "      <td>Comedy</td>\n",
       "      <td>Comedy</td>\n",
       "      <td>73.0</td>\n",
       "      <td>230666.0</td>\n",
       "      <td>False</td>\n",
       "      <td>0.676</td>\n",
       "      <td>0.4610</td>\n",
       "      <td>...</td>\n",
       "      <td>-6.746</td>\n",
       "      <td>0.0</td>\n",
       "      <td>0.1430</td>\n",
       "      <td>0.0322</td>\n",
       "      <td>0.000001</td>\n",
       "      <td>0.3580</td>\n",
       "      <td>0.715</td>\n",
       "      <td>87.917</td>\n",
       "      <td>4.0</td>\n",
       "      <td>acoustic</td>\n",
       "    </tr>\n",
       "    <tr>\n",
       "      <th>1</th>\n",
       "      <td>1</td>\n",
       "      <td>4qPNDBW1i3p13qLCt0Ki3A</td>\n",
       "      <td>Ben Woodward</td>\n",
       "      <td>Ghost (Acoustic)</td>\n",
       "      <td>Ghost - Acoustic</td>\n",
       "      <td>55.0</td>\n",
       "      <td>149610.0</td>\n",
       "      <td>False</td>\n",
       "      <td>0.420</td>\n",
       "      <td>0.1660</td>\n",
       "      <td>...</td>\n",
       "      <td>-17.235</td>\n",
       "      <td>1.0</td>\n",
       "      <td>0.0763</td>\n",
       "      <td>0.9240</td>\n",
       "      <td>0.000006</td>\n",
       "      <td>0.1010</td>\n",
       "      <td>0.267</td>\n",
       "      <td>77.489</td>\n",
       "      <td>4.0</td>\n",
       "      <td>acoustic</td>\n",
       "    </tr>\n",
       "    <tr>\n",
       "      <th>2</th>\n",
       "      <td>2</td>\n",
       "      <td>1iJBSr7s7jYXzM8EGcbK5b</td>\n",
       "      <td>Ingrid Michaelson;ZAYN</td>\n",
       "      <td>To Begin Again</td>\n",
       "      <td>To Begin Again</td>\n",
       "      <td>57.0</td>\n",
       "      <td>210826.0</td>\n",
       "      <td>False</td>\n",
       "      <td>0.438</td>\n",
       "      <td>0.3590</td>\n",
       "      <td>...</td>\n",
       "      <td>-9.734</td>\n",
       "      <td>1.0</td>\n",
       "      <td>0.0557</td>\n",
       "      <td>0.2100</td>\n",
       "      <td>0.000000</td>\n",
       "      <td>0.1170</td>\n",
       "      <td>0.120</td>\n",
       "      <td>76.332</td>\n",
       "      <td>4.0</td>\n",
       "      <td>acoustic</td>\n",
       "    </tr>\n",
       "    <tr>\n",
       "      <th>3</th>\n",
       "      <td>3</td>\n",
       "      <td>6lfxq3CG4xtTiEg7opyCyx</td>\n",
       "      <td>Kina Grannis</td>\n",
       "      <td>Crazy Rich Asians (Original Motion Picture Sou...</td>\n",
       "      <td>Can't Help Falling In Love</td>\n",
       "      <td>71.0</td>\n",
       "      <td>201933.0</td>\n",
       "      <td>False</td>\n",
       "      <td>0.266</td>\n",
       "      <td>0.0596</td>\n",
       "      <td>...</td>\n",
       "      <td>-18.515</td>\n",
       "      <td>1.0</td>\n",
       "      <td>0.0363</td>\n",
       "      <td>0.9050</td>\n",
       "      <td>0.000071</td>\n",
       "      <td>0.1320</td>\n",
       "      <td>0.143</td>\n",
       "      <td>181.740</td>\n",
       "      <td>3.0</td>\n",
       "      <td>acoustic</td>\n",
       "    </tr>\n",
       "    <tr>\n",
       "      <th>4</th>\n",
       "      <td>4</td>\n",
       "      <td>5vjLSffimiIP26QG5WcN2K</td>\n",
       "      <td>Chord Overstreet</td>\n",
       "      <td>Hold On</td>\n",
       "      <td>Hold On</td>\n",
       "      <td>82.0</td>\n",
       "      <td>198853.0</td>\n",
       "      <td>False</td>\n",
       "      <td>0.618</td>\n",
       "      <td>0.4430</td>\n",
       "      <td>...</td>\n",
       "      <td>-9.681</td>\n",
       "      <td>1.0</td>\n",
       "      <td>0.0526</td>\n",
       "      <td>0.4690</td>\n",
       "      <td>0.000000</td>\n",
       "      <td>0.0829</td>\n",
       "      <td>0.167</td>\n",
       "      <td>119.949</td>\n",
       "      <td>4.0</td>\n",
       "      <td>acoustic</td>\n",
       "    </tr>\n",
       "  </tbody>\n",
       "</table>\n",
       "<p>5 rows × 21 columns</p>\n",
       "</div>"
      ],
      "text/plain": [
       "   Unnamed: 0                track_id                 artists  \\\n",
       "0           0  5SuOikwiRyPMVoIQDJUgSV             Gen Hoshino   \n",
       "1           1  4qPNDBW1i3p13qLCt0Ki3A            Ben Woodward   \n",
       "2           2  1iJBSr7s7jYXzM8EGcbK5b  Ingrid Michaelson;ZAYN   \n",
       "3           3  6lfxq3CG4xtTiEg7opyCyx            Kina Grannis   \n",
       "4           4  5vjLSffimiIP26QG5WcN2K        Chord Overstreet   \n",
       "\n",
       "                                          album_name  \\\n",
       "0                                             Comedy   \n",
       "1                                   Ghost (Acoustic)   \n",
       "2                                     To Begin Again   \n",
       "3  Crazy Rich Asians (Original Motion Picture Sou...   \n",
       "4                                            Hold On   \n",
       "\n",
       "                   track_name  popularity  duration_ms explicit  danceability  \\\n",
       "0                      Comedy        73.0     230666.0    False         0.676   \n",
       "1            Ghost - Acoustic        55.0     149610.0    False         0.420   \n",
       "2              To Begin Again        57.0     210826.0    False         0.438   \n",
       "3  Can't Help Falling In Love        71.0     201933.0    False         0.266   \n",
       "4                     Hold On        82.0     198853.0    False         0.618   \n",
       "\n",
       "   energy  ...  loudness  mode  speechiness  acousticness  instrumentalness  \\\n",
       "0  0.4610  ...    -6.746   0.0       0.1430        0.0322          0.000001   \n",
       "1  0.1660  ...   -17.235   1.0       0.0763        0.9240          0.000006   \n",
       "2  0.3590  ...    -9.734   1.0       0.0557        0.2100          0.000000   \n",
       "3  0.0596  ...   -18.515   1.0       0.0363        0.9050          0.000071   \n",
       "4  0.4430  ...    -9.681   1.0       0.0526        0.4690          0.000000   \n",
       "\n",
       "   liveness  valence    tempo  time_signature  track_genre  \n",
       "0    0.3580    0.715   87.917             4.0     acoustic  \n",
       "1    0.1010    0.267   77.489             4.0     acoustic  \n",
       "2    0.1170    0.120   76.332             4.0     acoustic  \n",
       "3    0.1320    0.143  181.740             3.0     acoustic  \n",
       "4    0.0829    0.167  119.949             4.0     acoustic  \n",
       "\n",
       "[5 rows x 21 columns]"
      ]
     },
     "execution_count": 4,
     "metadata": {},
     "output_type": "execute_result"
    }
   ],
   "source": [
    "df.head()"
   ]
  },
  {
   "cell_type": "code",
   "execution_count": 5,
   "id": "b9602999",
   "metadata": {
    "execution": {
     "iopub.execute_input": "2023-12-22T23:00:45.278982Z",
     "iopub.status.busy": "2023-12-22T23:00:45.278594Z",
     "iopub.status.idle": "2023-12-22T23:00:45.299663Z",
     "shell.execute_reply": "2023-12-22T23:00:45.298983Z",
     "shell.execute_reply.started": "2023-12-22T23:00:45.278956Z"
    },
    "tags": []
   },
   "outputs": [
    {
     "data": {
      "text/html": [
       "<div>\n",
       "<style scoped>\n",
       "    .dataframe tbody tr th:only-of-type {\n",
       "        vertical-align: middle;\n",
       "    }\n",
       "\n",
       "    .dataframe tbody tr th {\n",
       "        vertical-align: top;\n",
       "    }\n",
       "\n",
       "    .dataframe thead th {\n",
       "        text-align: right;\n",
       "    }\n",
       "</style>\n",
       "<table border=\"1\" class=\"dataframe\">\n",
       "  <thead>\n",
       "    <tr style=\"text-align: right;\">\n",
       "      <th></th>\n",
       "      <th>Unnamed: 0</th>\n",
       "      <th>track_id</th>\n",
       "      <th>artists</th>\n",
       "      <th>album_name</th>\n",
       "      <th>track_name</th>\n",
       "      <th>popularity</th>\n",
       "      <th>duration_ms</th>\n",
       "      <th>explicit</th>\n",
       "      <th>danceability</th>\n",
       "      <th>energy</th>\n",
       "      <th>...</th>\n",
       "      <th>loudness</th>\n",
       "      <th>mode</th>\n",
       "      <th>speechiness</th>\n",
       "      <th>acousticness</th>\n",
       "      <th>instrumentalness</th>\n",
       "      <th>liveness</th>\n",
       "      <th>valence</th>\n",
       "      <th>tempo</th>\n",
       "      <th>time_signature</th>\n",
       "      <th>track_genre</th>\n",
       "    </tr>\n",
       "  </thead>\n",
       "  <tbody>\n",
       "    <tr>\n",
       "      <th>17638</th>\n",
       "      <td>17638</td>\n",
       "      <td>6nljbSma4YDzJJEcnLQ3oF</td>\n",
       "      <td>The Softies</td>\n",
       "      <td>Holiday In Rhode Island</td>\n",
       "      <td>Holiday In Rhode Island</td>\n",
       "      <td>19.0</td>\n",
       "      <td>115826.0</td>\n",
       "      <td>False</td>\n",
       "      <td>0.618</td>\n",
       "      <td>0.295</td>\n",
       "      <td>...</td>\n",
       "      <td>-8.871</td>\n",
       "      <td>0.0</td>\n",
       "      <td>0.0310</td>\n",
       "      <td>0.861000</td>\n",
       "      <td>0.000006</td>\n",
       "      <td>0.1380</td>\n",
       "      <td>0.129</td>\n",
       "      <td>126.026</td>\n",
       "      <td>4.0</td>\n",
       "      <td>club</td>\n",
       "    </tr>\n",
       "    <tr>\n",
       "      <th>17639</th>\n",
       "      <td>17639</td>\n",
       "      <td>4klAoEgBUf5caLNhU4dR8S</td>\n",
       "      <td>Neoslave</td>\n",
       "      <td>Autoviolator</td>\n",
       "      <td>Cross of Fire</td>\n",
       "      <td>17.0</td>\n",
       "      <td>230500.0</td>\n",
       "      <td>False</td>\n",
       "      <td>0.587</td>\n",
       "      <td>0.767</td>\n",
       "      <td>...</td>\n",
       "      <td>-4.620</td>\n",
       "      <td>0.0</td>\n",
       "      <td>0.0314</td>\n",
       "      <td>0.006740</td>\n",
       "      <td>0.964000</td>\n",
       "      <td>0.1760</td>\n",
       "      <td>0.408</td>\n",
       "      <td>120.020</td>\n",
       "      <td>4.0</td>\n",
       "      <td>club</td>\n",
       "    </tr>\n",
       "    <tr>\n",
       "      <th>17640</th>\n",
       "      <td>17640</td>\n",
       "      <td>3toYsd6LHT1HVr8eGQoApk</td>\n",
       "      <td>Neoslave</td>\n",
       "      <td>From Womb to Doom</td>\n",
       "      <td>Necrodancer</td>\n",
       "      <td>17.0</td>\n",
       "      <td>280000.0</td>\n",
       "      <td>True</td>\n",
       "      <td>0.423</td>\n",
       "      <td>0.875</td>\n",
       "      <td>...</td>\n",
       "      <td>-7.303</td>\n",
       "      <td>1.0</td>\n",
       "      <td>0.0640</td>\n",
       "      <td>0.000224</td>\n",
       "      <td>0.900000</td>\n",
       "      <td>0.1100</td>\n",
       "      <td>0.173</td>\n",
       "      <td>75.146</td>\n",
       "      <td>4.0</td>\n",
       "      <td>club</td>\n",
       "    </tr>\n",
       "    <tr>\n",
       "      <th>17641</th>\n",
       "      <td>17641</td>\n",
       "      <td>0tv7AfxhAdba4daHMbaZLw</td>\n",
       "      <td>Glee Cast;Darren Criss</td>\n",
       "      <td>Glee Love Songs</td>\n",
       "      <td>Teenage Dream (feat. Darren Criss)</td>\n",
       "      <td>42.0</td>\n",
       "      <td>220373.0</td>\n",
       "      <td>False</td>\n",
       "      <td>0.760</td>\n",
       "      <td>0.543</td>\n",
       "      <td>...</td>\n",
       "      <td>-5.759</td>\n",
       "      <td>1.0</td>\n",
       "      <td>0.0415</td>\n",
       "      <td>0.494000</td>\n",
       "      <td>0.000000</td>\n",
       "      <td>0.0802</td>\n",
       "      <td>0.840</td>\n",
       "      <td>120.003</td>\n",
       "      <td>4.0</td>\n",
       "      <td>club</td>\n",
       "    </tr>\n",
       "    <tr>\n",
       "      <th>17642</th>\n",
       "      <td>17642</td>\n",
       "      <td>5SekMqPSRq3YUrezggydWs</td>\n",
       "      <td>Lil E</td>\n",
       "      <td>E</td>\n",
       "      <td>NaN</td>\n",
       "      <td>NaN</td>\n",
       "      <td>NaN</td>\n",
       "      <td>NaN</td>\n",
       "      <td>NaN</td>\n",
       "      <td>NaN</td>\n",
       "      <td>...</td>\n",
       "      <td>NaN</td>\n",
       "      <td>NaN</td>\n",
       "      <td>NaN</td>\n",
       "      <td>NaN</td>\n",
       "      <td>NaN</td>\n",
       "      <td>NaN</td>\n",
       "      <td>NaN</td>\n",
       "      <td>NaN</td>\n",
       "      <td>NaN</td>\n",
       "      <td>NaN</td>\n",
       "    </tr>\n",
       "  </tbody>\n",
       "</table>\n",
       "<p>5 rows × 21 columns</p>\n",
       "</div>"
      ],
      "text/plain": [
       "       Unnamed: 0                track_id                 artists  \\\n",
       "17638       17638  6nljbSma4YDzJJEcnLQ3oF             The Softies   \n",
       "17639       17639  4klAoEgBUf5caLNhU4dR8S                Neoslave   \n",
       "17640       17640  3toYsd6LHT1HVr8eGQoApk                Neoslave   \n",
       "17641       17641  0tv7AfxhAdba4daHMbaZLw  Glee Cast;Darren Criss   \n",
       "17642       17642  5SekMqPSRq3YUrezggydWs                   Lil E   \n",
       "\n",
       "                    album_name                          track_name  \\\n",
       "17638  Holiday In Rhode Island             Holiday In Rhode Island   \n",
       "17639             Autoviolator                       Cross of Fire   \n",
       "17640        From Womb to Doom                         Necrodancer   \n",
       "17641          Glee Love Songs  Teenage Dream (feat. Darren Criss)   \n",
       "17642                        E                                 NaN   \n",
       "\n",
       "       popularity  duration_ms explicit  danceability  energy  ...  loudness  \\\n",
       "17638        19.0     115826.0    False         0.618   0.295  ...    -8.871   \n",
       "17639        17.0     230500.0    False         0.587   0.767  ...    -4.620   \n",
       "17640        17.0     280000.0     True         0.423   0.875  ...    -7.303   \n",
       "17641        42.0     220373.0    False         0.760   0.543  ...    -5.759   \n",
       "17642         NaN          NaN      NaN           NaN     NaN  ...       NaN   \n",
       "\n",
       "       mode  speechiness  acousticness  instrumentalness  liveness  valence  \\\n",
       "17638   0.0       0.0310      0.861000          0.000006    0.1380    0.129   \n",
       "17639   0.0       0.0314      0.006740          0.964000    0.1760    0.408   \n",
       "17640   1.0       0.0640      0.000224          0.900000    0.1100    0.173   \n",
       "17641   1.0       0.0415      0.494000          0.000000    0.0802    0.840   \n",
       "17642   NaN          NaN           NaN               NaN       NaN      NaN   \n",
       "\n",
       "         tempo  time_signature  track_genre  \n",
       "17638  126.026             4.0         club  \n",
       "17639  120.020             4.0         club  \n",
       "17640   75.146             4.0         club  \n",
       "17641  120.003             4.0         club  \n",
       "17642      NaN             NaN          NaN  \n",
       "\n",
       "[5 rows x 21 columns]"
      ]
     },
     "execution_count": 5,
     "metadata": {},
     "output_type": "execute_result"
    }
   ],
   "source": [
    "df.tail()"
   ]
  },
  {
   "cell_type": "code",
   "execution_count": 6,
   "id": "4fb5a887",
   "metadata": {
    "execution": {
     "iopub.execute_input": "2023-12-22T23:00:45.938844Z",
     "iopub.status.busy": "2023-12-22T23:00:45.938446Z",
     "iopub.status.idle": "2023-12-22T23:00:45.944918Z",
     "shell.execute_reply": "2023-12-22T23:00:45.944245Z",
     "shell.execute_reply.started": "2023-12-22T23:00:45.938815Z"
    },
    "tags": []
   },
   "outputs": [
    {
     "data": {
      "text/plain": [
       "Unnamed: 0                                  300\n",
       "track_id                 2C9ePPz58he8jmYEod9pvT\n",
       "artists                         Callum J Wright\n",
       "album_name          Isn't She Lovely (Acoustic)\n",
       "track_name          Isn't She Lovely - Acoustic\n",
       "popularity                                 54.0\n",
       "duration_ms                            145771.0\n",
       "explicit                                  False\n",
       "danceability                               0.69\n",
       "energy                                    0.306\n",
       "key                                         9.0\n",
       "loudness                                 -9.193\n",
       "mode                                        1.0\n",
       "speechiness                              0.0356\n",
       "acousticness                              0.805\n",
       "instrumentalness                            0.0\n",
       "liveness                                 0.0968\n",
       "valence                                   0.424\n",
       "tempo                                   115.671\n",
       "time_signature                              4.0\n",
       "track_genre                            acoustic\n",
       "Name: 300, dtype: object"
      ]
     },
     "execution_count": 6,
     "metadata": {},
     "output_type": "execute_result"
    }
   ],
   "source": [
    "df.loc[300] #tester for test.py"
   ]
  },
  {
   "cell_type": "markdown",
   "id": "1e7d2152",
   "metadata": {},
   "source": [
    "# EDA and data pre-processing"
   ]
  },
  {
   "cell_type": "markdown",
   "id": "2f76787a",
   "metadata": {},
   "source": [
    "- Check and fix dtypes\n",
    "- Check and fix null values\n",
    "- Stats for numerical columns\n",
    "- Subset data for use with prophet\n",
    "- Visualize"
   ]
  },
  {
   "cell_type": "code",
   "execution_count": 7,
   "id": "f7ef8ca6",
   "metadata": {
    "execution": {
     "iopub.execute_input": "2023-12-22T23:00:48.200853Z",
     "iopub.status.busy": "2023-12-22T23:00:48.200455Z",
     "iopub.status.idle": "2023-12-22T23:00:48.205604Z",
     "shell.execute_reply": "2023-12-22T23:00:48.204903Z",
     "shell.execute_reply.started": "2023-12-22T23:00:48.200826Z"
    },
    "tags": []
   },
   "outputs": [
    {
     "data": {
      "text/plain": [
       "Index(['Unnamed: 0', 'track_id', 'artists', 'album_name', 'track_name',\n",
       "       'popularity', 'duration_ms', 'explicit', 'danceability', 'energy',\n",
       "       'key', 'loudness', 'mode', 'speechiness', 'acousticness',\n",
       "       'instrumentalness', 'liveness', 'valence', 'tempo', 'time_signature',\n",
       "       'track_genre'],\n",
       "      dtype='object')"
      ]
     },
     "execution_count": 7,
     "metadata": {},
     "output_type": "execute_result"
    }
   ],
   "source": [
    "df.columns"
   ]
  },
  {
   "cell_type": "code",
   "execution_count": 8,
   "id": "a19fe9ca",
   "metadata": {
    "execution": {
     "iopub.execute_input": "2023-12-22T23:00:49.203490Z",
     "iopub.status.busy": "2023-12-22T23:00:49.202751Z",
     "iopub.status.idle": "2023-12-22T23:00:49.233836Z",
     "shell.execute_reply": "2023-12-22T23:00:49.233206Z",
     "shell.execute_reply.started": "2023-12-22T23:00:49.203459Z"
    },
    "tags": []
   },
   "outputs": [
    {
     "data": {
      "text/html": [
       "<div>\n",
       "<style scoped>\n",
       "    .dataframe tbody tr th:only-of-type {\n",
       "        vertical-align: middle;\n",
       "    }\n",
       "\n",
       "    .dataframe tbody tr th {\n",
       "        vertical-align: top;\n",
       "    }\n",
       "\n",
       "    .dataframe thead th {\n",
       "        text-align: right;\n",
       "    }\n",
       "</style>\n",
       "<table border=\"1\" class=\"dataframe\">\n",
       "  <thead>\n",
       "    <tr style=\"text-align: right;\">\n",
       "      <th></th>\n",
       "      <th>artists</th>\n",
       "      <th>album_name</th>\n",
       "      <th>track_name</th>\n",
       "      <th>popularity</th>\n",
       "      <th>duration_ms</th>\n",
       "      <th>explicit</th>\n",
       "      <th>danceability</th>\n",
       "      <th>energy</th>\n",
       "      <th>key</th>\n",
       "      <th>loudness</th>\n",
       "      <th>mode</th>\n",
       "      <th>speechiness</th>\n",
       "      <th>acousticness</th>\n",
       "      <th>instrumentalness</th>\n",
       "      <th>liveness</th>\n",
       "      <th>valence</th>\n",
       "      <th>tempo</th>\n",
       "      <th>time_signature</th>\n",
       "      <th>track_genre</th>\n",
       "    </tr>\n",
       "  </thead>\n",
       "  <tbody>\n",
       "    <tr>\n",
       "      <th>0</th>\n",
       "      <td>Gen Hoshino</td>\n",
       "      <td>Comedy</td>\n",
       "      <td>Comedy</td>\n",
       "      <td>73.0</td>\n",
       "      <td>230666.0</td>\n",
       "      <td>False</td>\n",
       "      <td>0.676</td>\n",
       "      <td>0.4610</td>\n",
       "      <td>1.0</td>\n",
       "      <td>-6.746</td>\n",
       "      <td>0.0</td>\n",
       "      <td>0.1430</td>\n",
       "      <td>0.032200</td>\n",
       "      <td>0.000001</td>\n",
       "      <td>0.3580</td>\n",
       "      <td>0.715</td>\n",
       "      <td>87.917</td>\n",
       "      <td>4.0</td>\n",
       "      <td>acoustic</td>\n",
       "    </tr>\n",
       "    <tr>\n",
       "      <th>1</th>\n",
       "      <td>Ben Woodward</td>\n",
       "      <td>Ghost (Acoustic)</td>\n",
       "      <td>Ghost - Acoustic</td>\n",
       "      <td>55.0</td>\n",
       "      <td>149610.0</td>\n",
       "      <td>False</td>\n",
       "      <td>0.420</td>\n",
       "      <td>0.1660</td>\n",
       "      <td>1.0</td>\n",
       "      <td>-17.235</td>\n",
       "      <td>1.0</td>\n",
       "      <td>0.0763</td>\n",
       "      <td>0.924000</td>\n",
       "      <td>0.000006</td>\n",
       "      <td>0.1010</td>\n",
       "      <td>0.267</td>\n",
       "      <td>77.489</td>\n",
       "      <td>4.0</td>\n",
       "      <td>acoustic</td>\n",
       "    </tr>\n",
       "    <tr>\n",
       "      <th>2</th>\n",
       "      <td>Ingrid Michaelson;ZAYN</td>\n",
       "      <td>To Begin Again</td>\n",
       "      <td>To Begin Again</td>\n",
       "      <td>57.0</td>\n",
       "      <td>210826.0</td>\n",
       "      <td>False</td>\n",
       "      <td>0.438</td>\n",
       "      <td>0.3590</td>\n",
       "      <td>0.0</td>\n",
       "      <td>-9.734</td>\n",
       "      <td>1.0</td>\n",
       "      <td>0.0557</td>\n",
       "      <td>0.210000</td>\n",
       "      <td>0.000000</td>\n",
       "      <td>0.1170</td>\n",
       "      <td>0.120</td>\n",
       "      <td>76.332</td>\n",
       "      <td>4.0</td>\n",
       "      <td>acoustic</td>\n",
       "    </tr>\n",
       "    <tr>\n",
       "      <th>3</th>\n",
       "      <td>Kina Grannis</td>\n",
       "      <td>Crazy Rich Asians (Original Motion Picture Sou...</td>\n",
       "      <td>Can't Help Falling In Love</td>\n",
       "      <td>71.0</td>\n",
       "      <td>201933.0</td>\n",
       "      <td>False</td>\n",
       "      <td>0.266</td>\n",
       "      <td>0.0596</td>\n",
       "      <td>0.0</td>\n",
       "      <td>-18.515</td>\n",
       "      <td>1.0</td>\n",
       "      <td>0.0363</td>\n",
       "      <td>0.905000</td>\n",
       "      <td>0.000071</td>\n",
       "      <td>0.1320</td>\n",
       "      <td>0.143</td>\n",
       "      <td>181.740</td>\n",
       "      <td>3.0</td>\n",
       "      <td>acoustic</td>\n",
       "    </tr>\n",
       "    <tr>\n",
       "      <th>4</th>\n",
       "      <td>Chord Overstreet</td>\n",
       "      <td>Hold On</td>\n",
       "      <td>Hold On</td>\n",
       "      <td>82.0</td>\n",
       "      <td>198853.0</td>\n",
       "      <td>False</td>\n",
       "      <td>0.618</td>\n",
       "      <td>0.4430</td>\n",
       "      <td>2.0</td>\n",
       "      <td>-9.681</td>\n",
       "      <td>1.0</td>\n",
       "      <td>0.0526</td>\n",
       "      <td>0.469000</td>\n",
       "      <td>0.000000</td>\n",
       "      <td>0.0829</td>\n",
       "      <td>0.167</td>\n",
       "      <td>119.949</td>\n",
       "      <td>4.0</td>\n",
       "      <td>acoustic</td>\n",
       "    </tr>\n",
       "    <tr>\n",
       "      <th>...</th>\n",
       "      <td>...</td>\n",
       "      <td>...</td>\n",
       "      <td>...</td>\n",
       "      <td>...</td>\n",
       "      <td>...</td>\n",
       "      <td>...</td>\n",
       "      <td>...</td>\n",
       "      <td>...</td>\n",
       "      <td>...</td>\n",
       "      <td>...</td>\n",
       "      <td>...</td>\n",
       "      <td>...</td>\n",
       "      <td>...</td>\n",
       "      <td>...</td>\n",
       "      <td>...</td>\n",
       "      <td>...</td>\n",
       "      <td>...</td>\n",
       "      <td>...</td>\n",
       "      <td>...</td>\n",
       "    </tr>\n",
       "    <tr>\n",
       "      <th>17638</th>\n",
       "      <td>The Softies</td>\n",
       "      <td>Holiday In Rhode Island</td>\n",
       "      <td>Holiday In Rhode Island</td>\n",
       "      <td>19.0</td>\n",
       "      <td>115826.0</td>\n",
       "      <td>False</td>\n",
       "      <td>0.618</td>\n",
       "      <td>0.2950</td>\n",
       "      <td>9.0</td>\n",
       "      <td>-8.871</td>\n",
       "      <td>0.0</td>\n",
       "      <td>0.0310</td>\n",
       "      <td>0.861000</td>\n",
       "      <td>0.000006</td>\n",
       "      <td>0.1380</td>\n",
       "      <td>0.129</td>\n",
       "      <td>126.026</td>\n",
       "      <td>4.0</td>\n",
       "      <td>club</td>\n",
       "    </tr>\n",
       "    <tr>\n",
       "      <th>17639</th>\n",
       "      <td>Neoslave</td>\n",
       "      <td>Autoviolator</td>\n",
       "      <td>Cross of Fire</td>\n",
       "      <td>17.0</td>\n",
       "      <td>230500.0</td>\n",
       "      <td>False</td>\n",
       "      <td>0.587</td>\n",
       "      <td>0.7670</td>\n",
       "      <td>10.0</td>\n",
       "      <td>-4.620</td>\n",
       "      <td>0.0</td>\n",
       "      <td>0.0314</td>\n",
       "      <td>0.006740</td>\n",
       "      <td>0.964000</td>\n",
       "      <td>0.1760</td>\n",
       "      <td>0.408</td>\n",
       "      <td>120.020</td>\n",
       "      <td>4.0</td>\n",
       "      <td>club</td>\n",
       "    </tr>\n",
       "    <tr>\n",
       "      <th>17640</th>\n",
       "      <td>Neoslave</td>\n",
       "      <td>From Womb to Doom</td>\n",
       "      <td>Necrodancer</td>\n",
       "      <td>17.0</td>\n",
       "      <td>280000.0</td>\n",
       "      <td>True</td>\n",
       "      <td>0.423</td>\n",
       "      <td>0.8750</td>\n",
       "      <td>1.0</td>\n",
       "      <td>-7.303</td>\n",
       "      <td>1.0</td>\n",
       "      <td>0.0640</td>\n",
       "      <td>0.000224</td>\n",
       "      <td>0.900000</td>\n",
       "      <td>0.1100</td>\n",
       "      <td>0.173</td>\n",
       "      <td>75.146</td>\n",
       "      <td>4.0</td>\n",
       "      <td>club</td>\n",
       "    </tr>\n",
       "    <tr>\n",
       "      <th>17641</th>\n",
       "      <td>Glee Cast;Darren Criss</td>\n",
       "      <td>Glee Love Songs</td>\n",
       "      <td>Teenage Dream (feat. Darren Criss)</td>\n",
       "      <td>42.0</td>\n",
       "      <td>220373.0</td>\n",
       "      <td>False</td>\n",
       "      <td>0.760</td>\n",
       "      <td>0.5430</td>\n",
       "      <td>3.0</td>\n",
       "      <td>-5.759</td>\n",
       "      <td>1.0</td>\n",
       "      <td>0.0415</td>\n",
       "      <td>0.494000</td>\n",
       "      <td>0.000000</td>\n",
       "      <td>0.0802</td>\n",
       "      <td>0.840</td>\n",
       "      <td>120.003</td>\n",
       "      <td>4.0</td>\n",
       "      <td>club</td>\n",
       "    </tr>\n",
       "    <tr>\n",
       "      <th>17642</th>\n",
       "      <td>Lil E</td>\n",
       "      <td>E</td>\n",
       "      <td>NaN</td>\n",
       "      <td>NaN</td>\n",
       "      <td>NaN</td>\n",
       "      <td>NaN</td>\n",
       "      <td>NaN</td>\n",
       "      <td>NaN</td>\n",
       "      <td>NaN</td>\n",
       "      <td>NaN</td>\n",
       "      <td>NaN</td>\n",
       "      <td>NaN</td>\n",
       "      <td>NaN</td>\n",
       "      <td>NaN</td>\n",
       "      <td>NaN</td>\n",
       "      <td>NaN</td>\n",
       "      <td>NaN</td>\n",
       "      <td>NaN</td>\n",
       "      <td>NaN</td>\n",
       "    </tr>\n",
       "  </tbody>\n",
       "</table>\n",
       "<p>17643 rows × 19 columns</p>\n",
       "</div>"
      ],
      "text/plain": [
       "                      artists  \\\n",
       "0                 Gen Hoshino   \n",
       "1                Ben Woodward   \n",
       "2      Ingrid Michaelson;ZAYN   \n",
       "3                Kina Grannis   \n",
       "4            Chord Overstreet   \n",
       "...                       ...   \n",
       "17638             The Softies   \n",
       "17639                Neoslave   \n",
       "17640                Neoslave   \n",
       "17641  Glee Cast;Darren Criss   \n",
       "17642                   Lil E   \n",
       "\n",
       "                                              album_name  \\\n",
       "0                                                 Comedy   \n",
       "1                                       Ghost (Acoustic)   \n",
       "2                                         To Begin Again   \n",
       "3      Crazy Rich Asians (Original Motion Picture Sou...   \n",
       "4                                                Hold On   \n",
       "...                                                  ...   \n",
       "17638                            Holiday In Rhode Island   \n",
       "17639                                       Autoviolator   \n",
       "17640                                  From Womb to Doom   \n",
       "17641                                    Glee Love Songs   \n",
       "17642                                                  E   \n",
       "\n",
       "                               track_name  popularity  duration_ms explicit  \\\n",
       "0                                  Comedy        73.0     230666.0    False   \n",
       "1                        Ghost - Acoustic        55.0     149610.0    False   \n",
       "2                          To Begin Again        57.0     210826.0    False   \n",
       "3              Can't Help Falling In Love        71.0     201933.0    False   \n",
       "4                                 Hold On        82.0     198853.0    False   \n",
       "...                                   ...         ...          ...      ...   \n",
       "17638             Holiday In Rhode Island        19.0     115826.0    False   \n",
       "17639                       Cross of Fire        17.0     230500.0    False   \n",
       "17640                         Necrodancer        17.0     280000.0     True   \n",
       "17641  Teenage Dream (feat. Darren Criss)        42.0     220373.0    False   \n",
       "17642                                 NaN         NaN          NaN      NaN   \n",
       "\n",
       "       danceability  energy   key  loudness  mode  speechiness  acousticness  \\\n",
       "0             0.676  0.4610   1.0    -6.746   0.0       0.1430      0.032200   \n",
       "1             0.420  0.1660   1.0   -17.235   1.0       0.0763      0.924000   \n",
       "2             0.438  0.3590   0.0    -9.734   1.0       0.0557      0.210000   \n",
       "3             0.266  0.0596   0.0   -18.515   1.0       0.0363      0.905000   \n",
       "4             0.618  0.4430   2.0    -9.681   1.0       0.0526      0.469000   \n",
       "...             ...     ...   ...       ...   ...          ...           ...   \n",
       "17638         0.618  0.2950   9.0    -8.871   0.0       0.0310      0.861000   \n",
       "17639         0.587  0.7670  10.0    -4.620   0.0       0.0314      0.006740   \n",
       "17640         0.423  0.8750   1.0    -7.303   1.0       0.0640      0.000224   \n",
       "17641         0.760  0.5430   3.0    -5.759   1.0       0.0415      0.494000   \n",
       "17642           NaN     NaN   NaN       NaN   NaN          NaN           NaN   \n",
       "\n",
       "       instrumentalness  liveness  valence    tempo  time_signature  \\\n",
       "0              0.000001    0.3580    0.715   87.917             4.0   \n",
       "1              0.000006    0.1010    0.267   77.489             4.0   \n",
       "2              0.000000    0.1170    0.120   76.332             4.0   \n",
       "3              0.000071    0.1320    0.143  181.740             3.0   \n",
       "4              0.000000    0.0829    0.167  119.949             4.0   \n",
       "...                 ...       ...      ...      ...             ...   \n",
       "17638          0.000006    0.1380    0.129  126.026             4.0   \n",
       "17639          0.964000    0.1760    0.408  120.020             4.0   \n",
       "17640          0.900000    0.1100    0.173   75.146             4.0   \n",
       "17641          0.000000    0.0802    0.840  120.003             4.0   \n",
       "17642               NaN       NaN      NaN      NaN             NaN   \n",
       "\n",
       "      track_genre  \n",
       "0        acoustic  \n",
       "1        acoustic  \n",
       "2        acoustic  \n",
       "3        acoustic  \n",
       "4        acoustic  \n",
       "...           ...  \n",
       "17638        club  \n",
       "17639        club  \n",
       "17640        club  \n",
       "17641        club  \n",
       "17642         NaN  \n",
       "\n",
       "[17643 rows x 19 columns]"
      ]
     },
     "execution_count": 8,
     "metadata": {},
     "output_type": "execute_result"
    }
   ],
   "source": [
    "df = df.drop([\"Unnamed: 0\", \"track_id\"], axis = 1)\n",
    "df"
   ]
  },
  {
   "cell_type": "code",
   "execution_count": 9,
   "id": "2bec9706",
   "metadata": {
    "execution": {
     "iopub.execute_input": "2023-12-22T23:00:49.911710Z",
     "iopub.status.busy": "2023-12-22T23:00:49.911311Z",
     "iopub.status.idle": "2023-12-22T23:00:49.933368Z",
     "shell.execute_reply": "2023-12-22T23:00:49.932562Z",
     "shell.execute_reply.started": "2023-12-22T23:00:49.911682Z"
    },
    "tags": []
   },
   "outputs": [
    {
     "name": "stdout",
     "output_type": "stream",
     "text": [
      "<class 'pandas.core.frame.DataFrame'>\n",
      "RangeIndex: 17643 entries, 0 to 17642\n",
      "Data columns (total 19 columns):\n",
      " #   Column            Non-Null Count  Dtype  \n",
      "---  ------            --------------  -----  \n",
      " 0   artists           17643 non-null  object \n",
      " 1   album_name        17643 non-null  object \n",
      " 2   track_name        17642 non-null  object \n",
      " 3   popularity        17642 non-null  float64\n",
      " 4   duration_ms       17642 non-null  float64\n",
      " 5   explicit          17642 non-null  object \n",
      " 6   danceability      17642 non-null  float64\n",
      " 7   energy            17642 non-null  float64\n",
      " 8   key               17642 non-null  float64\n",
      " 9   loudness          17642 non-null  float64\n",
      " 10  mode              17642 non-null  float64\n",
      " 11  speechiness       17642 non-null  float64\n",
      " 12  acousticness      17642 non-null  float64\n",
      " 13  instrumentalness  17642 non-null  float64\n",
      " 14  liveness          17642 non-null  float64\n",
      " 15  valence           17642 non-null  float64\n",
      " 16  tempo             17642 non-null  float64\n",
      " 17  time_signature    17642 non-null  float64\n",
      " 18  track_genre       17642 non-null  object \n",
      "dtypes: float64(14), object(5)\n",
      "memory usage: 2.6+ MB\n"
     ]
    }
   ],
   "source": [
    "df.info()"
   ]
  },
  {
   "cell_type": "code",
   "execution_count": 12,
   "id": "5c5ca22b",
   "metadata": {
    "execution": {
     "iopub.execute_input": "2023-12-22T23:01:30.461923Z",
     "iopub.status.busy": "2023-12-22T23:01:30.461548Z",
     "iopub.status.idle": "2023-12-22T23:01:30.482704Z",
     "shell.execute_reply": "2023-12-22T23:01:30.481960Z",
     "shell.execute_reply.started": "2023-12-22T23:01:30.461894Z"
    },
    "tags": []
   },
   "outputs": [
    {
     "name": "stdout",
     "output_type": "stream",
     "text": [
      "<class 'pandas.core.frame.DataFrame'>\n",
      "Int64Index: 17642 entries, 0 to 17641\n",
      "Data columns (total 19 columns):\n",
      " #   Column            Non-Null Count  Dtype  \n",
      "---  ------            --------------  -----  \n",
      " 0   artists           17642 non-null  object \n",
      " 1   album_name        17642 non-null  object \n",
      " 2   track_name        17642 non-null  object \n",
      " 3   popularity        17642 non-null  float64\n",
      " 4   duration_ms       17642 non-null  float64\n",
      " 5   explicit          17642 non-null  int64  \n",
      " 6   danceability      17642 non-null  float64\n",
      " 7   energy            17642 non-null  float64\n",
      " 8   key               17642 non-null  float64\n",
      " 9   loudness          17642 non-null  float64\n",
      " 10  mode              17642 non-null  float64\n",
      " 11  speechiness       17642 non-null  float64\n",
      " 12  acousticness      17642 non-null  float64\n",
      " 13  instrumentalness  17642 non-null  float64\n",
      " 14  liveness          17642 non-null  float64\n",
      " 15  valence           17642 non-null  float64\n",
      " 16  tempo             17642 non-null  float64\n",
      " 17  time_signature    17642 non-null  float64\n",
      " 18  track_genre       17642 non-null  object \n",
      "dtypes: float64(14), int64(1), object(4)\n",
      "memory usage: 2.7+ MB\n"
     ]
    },
    {
     "name": "stderr",
     "output_type": "stream",
     "text": [
      "/tmp/ipykernel_234/1535172463.py:1: SettingWithCopyWarning: \n",
      "A value is trying to be set on a copy of a slice from a DataFrame.\n",
      "Try using .loc[row_indexer,col_indexer] = value instead\n",
      "\n",
      "See the caveats in the documentation: https://pandas.pydata.org/pandas-docs/stable/user_guide/indexing.html#returning-a-view-versus-a-copy\n",
      "  df[\"explicit\"] = df[\"explicit\"].astype(int)\n"
     ]
    }
   ],
   "source": [
    "df[\"explicit\"] = df[\"explicit\"].astype(int)\n",
    "df.info()"
   ]
  },
  {
   "cell_type": "code",
   "execution_count": 13,
   "id": "439c923b",
   "metadata": {
    "execution": {
     "iopub.execute_input": "2023-12-22T23:01:32.631235Z",
     "iopub.status.busy": "2023-12-22T23:01:32.630829Z",
     "iopub.status.idle": "2023-12-22T23:01:32.646563Z",
     "shell.execute_reply": "2023-12-22T23:01:32.645944Z",
     "shell.execute_reply.started": "2023-12-22T23:01:32.631208Z"
    },
    "tags": []
   },
   "outputs": [
    {
     "data": {
      "text/plain": [
       "artists             0\n",
       "album_name          0\n",
       "track_name          0\n",
       "popularity          0\n",
       "duration_ms         0\n",
       "explicit            0\n",
       "danceability        0\n",
       "energy              0\n",
       "key                 0\n",
       "loudness            0\n",
       "mode                0\n",
       "speechiness         0\n",
       "acousticness        0\n",
       "instrumentalness    0\n",
       "liveness            0\n",
       "valence             0\n",
       "tempo               0\n",
       "time_signature      0\n",
       "track_genre         0\n",
       "dtype: int64"
      ]
     },
     "execution_count": 13,
     "metadata": {},
     "output_type": "execute_result"
    }
   ],
   "source": [
    "df.isnull().sum()"
   ]
  },
  {
   "cell_type": "code",
   "execution_count": 14,
   "id": "a19bfd1d",
   "metadata": {
    "execution": {
     "iopub.execute_input": "2023-12-22T23:01:33.662961Z",
     "iopub.status.busy": "2023-12-22T23:01:33.662582Z",
     "iopub.status.idle": "2023-12-22T23:01:33.691200Z",
     "shell.execute_reply": "2023-12-22T23:01:33.690484Z",
     "shell.execute_reply.started": "2023-12-22T23:01:33.662935Z"
    },
    "tags": []
   },
   "outputs": [
    {
     "data": {
      "text/plain": [
       "artists             0\n",
       "album_name          0\n",
       "track_name          0\n",
       "popularity          0\n",
       "duration_ms         0\n",
       "explicit            0\n",
       "danceability        0\n",
       "energy              0\n",
       "key                 0\n",
       "loudness            0\n",
       "mode                0\n",
       "speechiness         0\n",
       "acousticness        0\n",
       "instrumentalness    0\n",
       "liveness            0\n",
       "valence             0\n",
       "tempo               0\n",
       "time_signature      0\n",
       "track_genre         0\n",
       "dtype: int64"
      ]
     },
     "execution_count": 14,
     "metadata": {},
     "output_type": "execute_result"
    }
   ],
   "source": [
    "df = df.dropna() #deleting the few small null raws\n",
    "df.isnull().sum()"
   ]
  },
  {
   "cell_type": "code",
   "execution_count": 15,
   "id": "88a47a80",
   "metadata": {
    "execution": {
     "iopub.execute_input": "2023-12-22T23:01:34.501634Z",
     "iopub.status.busy": "2023-12-22T23:01:34.501120Z",
     "iopub.status.idle": "2023-12-22T23:01:34.510845Z",
     "shell.execute_reply": "2023-12-22T23:01:34.510229Z",
     "shell.execute_reply.started": "2023-12-22T23:01:34.501596Z"
    },
    "tags": []
   },
   "outputs": [
    {
     "data": {
      "text/plain": [
       "artists              object\n",
       "album_name           object\n",
       "track_name           object\n",
       "popularity          float64\n",
       "duration_ms         float64\n",
       "explicit              int64\n",
       "danceability        float64\n",
       "energy              float64\n",
       "key                 float64\n",
       "loudness            float64\n",
       "mode                float64\n",
       "speechiness         float64\n",
       "acousticness        float64\n",
       "instrumentalness    float64\n",
       "liveness            float64\n",
       "valence             float64\n",
       "tempo               float64\n",
       "time_signature      float64\n",
       "track_genre          object\n",
       "dtype: object"
      ]
     },
     "execution_count": 15,
     "metadata": {},
     "output_type": "execute_result"
    }
   ],
   "source": [
    "df.dtypes"
   ]
  },
  {
   "cell_type": "code",
   "execution_count": 16,
   "id": "f6803c52",
   "metadata": {
    "execution": {
     "iopub.execute_input": "2023-12-22T23:01:35.813015Z",
     "iopub.status.busy": "2023-12-22T23:01:35.812640Z",
     "iopub.status.idle": "2023-12-22T23:01:35.863225Z",
     "shell.execute_reply": "2023-12-22T23:01:35.862450Z",
     "shell.execute_reply.started": "2023-12-22T23:01:35.812988Z"
    },
    "tags": []
   },
   "outputs": [
    {
     "data": {
      "text/html": [
       "<div>\n",
       "<style scoped>\n",
       "    .dataframe tbody tr th:only-of-type {\n",
       "        vertical-align: middle;\n",
       "    }\n",
       "\n",
       "    .dataframe tbody tr th {\n",
       "        vertical-align: top;\n",
       "    }\n",
       "\n",
       "    .dataframe thead th {\n",
       "        text-align: right;\n",
       "    }\n",
       "</style>\n",
       "<table border=\"1\" class=\"dataframe\">\n",
       "  <thead>\n",
       "    <tr style=\"text-align: right;\">\n",
       "      <th></th>\n",
       "      <th>count</th>\n",
       "      <th>mean</th>\n",
       "      <th>std</th>\n",
       "      <th>min</th>\n",
       "      <th>25%</th>\n",
       "      <th>50%</th>\n",
       "      <th>75%</th>\n",
       "      <th>max</th>\n",
       "    </tr>\n",
       "  </thead>\n",
       "  <tbody>\n",
       "    <tr>\n",
       "      <th>popularity</th>\n",
       "      <td>17642.0</td>\n",
       "      <td>32.802914</td>\n",
       "      <td>21.659387</td>\n",
       "      <td>0.000000</td>\n",
       "      <td>16.0000</td>\n",
       "      <td>33.000000</td>\n",
       "      <td>50.00000</td>\n",
       "      <td>93.000</td>\n",
       "    </tr>\n",
       "    <tr>\n",
       "      <th>duration_ms</th>\n",
       "      <td>17642.0</td>\n",
       "      <td>238531.890715</td>\n",
       "      <td>141356.418756</td>\n",
       "      <td>17453.000000</td>\n",
       "      <td>173147.0000</td>\n",
       "      <td>221229.000000</td>\n",
       "      <td>275968.25000</td>\n",
       "      <td>4789026.000</td>\n",
       "    </tr>\n",
       "    <tr>\n",
       "      <th>explicit</th>\n",
       "      <td>17642.0</td>\n",
       "      <td>0.052205</td>\n",
       "      <td>0.222446</td>\n",
       "      <td>0.000000</td>\n",
       "      <td>0.0000</td>\n",
       "      <td>0.000000</td>\n",
       "      <td>0.00000</td>\n",
       "      <td>1.000</td>\n",
       "    </tr>\n",
       "    <tr>\n",
       "      <th>danceability</th>\n",
       "      <td>17642.0</td>\n",
       "      <td>0.555609</td>\n",
       "      <td>0.181560</td>\n",
       "      <td>0.000000</td>\n",
       "      <td>0.4370</td>\n",
       "      <td>0.570000</td>\n",
       "      <td>0.68900</td>\n",
       "      <td>0.981</td>\n",
       "    </tr>\n",
       "    <tr>\n",
       "      <th>energy</th>\n",
       "      <td>17642.0</td>\n",
       "      <td>0.582111</td>\n",
       "      <td>0.272656</td>\n",
       "      <td>0.000756</td>\n",
       "      <td>0.3730</td>\n",
       "      <td>0.609000</td>\n",
       "      <td>0.82475</td>\n",
       "      <td>1.000</td>\n",
       "    </tr>\n",
       "    <tr>\n",
       "      <th>key</th>\n",
       "      <td>17642.0</td>\n",
       "      <td>5.311189</td>\n",
       "      <td>3.563188</td>\n",
       "      <td>0.000000</td>\n",
       "      <td>2.0000</td>\n",
       "      <td>5.000000</td>\n",
       "      <td>9.00000</td>\n",
       "      <td>11.000</td>\n",
       "    </tr>\n",
       "    <tr>\n",
       "      <th>loudness</th>\n",
       "      <td>17642.0</td>\n",
       "      <td>-9.533904</td>\n",
       "      <td>5.746593</td>\n",
       "      <td>-41.808000</td>\n",
       "      <td>-11.4830</td>\n",
       "      <td>-8.012000</td>\n",
       "      <td>-5.73525</td>\n",
       "      <td>4.532</td>\n",
       "    </tr>\n",
       "    <tr>\n",
       "      <th>mode</th>\n",
       "      <td>17642.0</td>\n",
       "      <td>0.664664</td>\n",
       "      <td>0.472121</td>\n",
       "      <td>0.000000</td>\n",
       "      <td>0.0000</td>\n",
       "      <td>1.000000</td>\n",
       "      <td>1.00000</td>\n",
       "      <td>1.000</td>\n",
       "    </tr>\n",
       "    <tr>\n",
       "      <th>speechiness</th>\n",
       "      <td>17642.0</td>\n",
       "      <td>0.069471</td>\n",
       "      <td>0.073102</td>\n",
       "      <td>0.000000</td>\n",
       "      <td>0.0341</td>\n",
       "      <td>0.044500</td>\n",
       "      <td>0.06940</td>\n",
       "      <td>0.943</td>\n",
       "    </tr>\n",
       "    <tr>\n",
       "      <th>acousticness</th>\n",
       "      <td>17642.0</td>\n",
       "      <td>0.370660</td>\n",
       "      <td>0.359350</td>\n",
       "      <td>0.000000</td>\n",
       "      <td>0.0164</td>\n",
       "      <td>0.256000</td>\n",
       "      <td>0.72100</td>\n",
       "      <td>0.996</td>\n",
       "    </tr>\n",
       "    <tr>\n",
       "      <th>instrumentalness</th>\n",
       "      <td>17642.0</td>\n",
       "      <td>0.232542</td>\n",
       "      <td>0.358380</td>\n",
       "      <td>0.000000</td>\n",
       "      <td>0.0000</td>\n",
       "      <td>0.000712</td>\n",
       "      <td>0.49600</td>\n",
       "      <td>0.995</td>\n",
       "    </tr>\n",
       "    <tr>\n",
       "      <th>liveness</th>\n",
       "      <td>17642.0</td>\n",
       "      <td>0.192700</td>\n",
       "      <td>0.168277</td>\n",
       "      <td>0.011600</td>\n",
       "      <td>0.0953</td>\n",
       "      <td>0.123000</td>\n",
       "      <td>0.23700</td>\n",
       "      <td>0.995</td>\n",
       "    </tr>\n",
       "    <tr>\n",
       "      <th>valence</th>\n",
       "      <td>17642.0</td>\n",
       "      <td>0.467661</td>\n",
       "      <td>0.267486</td>\n",
       "      <td>0.000000</td>\n",
       "      <td>0.2410</td>\n",
       "      <td>0.449000</td>\n",
       "      <td>0.68500</td>\n",
       "      <td>0.995</td>\n",
       "    </tr>\n",
       "    <tr>\n",
       "      <th>tempo</th>\n",
       "      <td>17642.0</td>\n",
       "      <td>121.265151</td>\n",
       "      <td>29.144801</td>\n",
       "      <td>0.000000</td>\n",
       "      <td>99.9630</td>\n",
       "      <td>121.689000</td>\n",
       "      <td>139.32450</td>\n",
       "      <td>243.372</td>\n",
       "    </tr>\n",
       "    <tr>\n",
       "      <th>time_signature</th>\n",
       "      <td>17642.0</td>\n",
       "      <td>3.891679</td>\n",
       "      <td>0.426836</td>\n",
       "      <td>0.000000</td>\n",
       "      <td>4.0000</td>\n",
       "      <td>4.000000</td>\n",
       "      <td>4.00000</td>\n",
       "      <td>5.000</td>\n",
       "    </tr>\n",
       "  </tbody>\n",
       "</table>\n",
       "</div>"
      ],
      "text/plain": [
       "                    count           mean            std           min  \\\n",
       "popularity        17642.0      32.802914      21.659387      0.000000   \n",
       "duration_ms       17642.0  238531.890715  141356.418756  17453.000000   \n",
       "explicit          17642.0       0.052205       0.222446      0.000000   \n",
       "danceability      17642.0       0.555609       0.181560      0.000000   \n",
       "energy            17642.0       0.582111       0.272656      0.000756   \n",
       "key               17642.0       5.311189       3.563188      0.000000   \n",
       "loudness          17642.0      -9.533904       5.746593    -41.808000   \n",
       "mode              17642.0       0.664664       0.472121      0.000000   \n",
       "speechiness       17642.0       0.069471       0.073102      0.000000   \n",
       "acousticness      17642.0       0.370660       0.359350      0.000000   \n",
       "instrumentalness  17642.0       0.232542       0.358380      0.000000   \n",
       "liveness          17642.0       0.192700       0.168277      0.011600   \n",
       "valence           17642.0       0.467661       0.267486      0.000000   \n",
       "tempo             17642.0     121.265151      29.144801      0.000000   \n",
       "time_signature    17642.0       3.891679       0.426836      0.000000   \n",
       "\n",
       "                          25%            50%           75%          max  \n",
       "popularity            16.0000      33.000000      50.00000       93.000  \n",
       "duration_ms       173147.0000  221229.000000  275968.25000  4789026.000  \n",
       "explicit               0.0000       0.000000       0.00000        1.000  \n",
       "danceability           0.4370       0.570000       0.68900        0.981  \n",
       "energy                 0.3730       0.609000       0.82475        1.000  \n",
       "key                    2.0000       5.000000       9.00000       11.000  \n",
       "loudness             -11.4830      -8.012000      -5.73525        4.532  \n",
       "mode                   0.0000       1.000000       1.00000        1.000  \n",
       "speechiness            0.0341       0.044500       0.06940        0.943  \n",
       "acousticness           0.0164       0.256000       0.72100        0.996  \n",
       "instrumentalness       0.0000       0.000712       0.49600        0.995  \n",
       "liveness               0.0953       0.123000       0.23700        0.995  \n",
       "valence                0.2410       0.449000       0.68500        0.995  \n",
       "tempo                 99.9630     121.689000     139.32450      243.372  \n",
       "time_signature         4.0000       4.000000       4.00000        5.000  "
      ]
     },
     "execution_count": 16,
     "metadata": {},
     "output_type": "execute_result"
    }
   ],
   "source": [
    "# stats for numerical columns\n",
    "df.describe().T"
   ]
  },
  {
   "cell_type": "code",
   "execution_count": 17,
   "id": "0927d53f",
   "metadata": {
    "execution": {
     "iopub.execute_input": "2023-12-22T23:01:37.123802Z",
     "iopub.status.busy": "2023-12-22T23:01:37.123403Z",
     "iopub.status.idle": "2023-12-22T23:01:37.129494Z",
     "shell.execute_reply": "2023-12-22T23:01:37.128678Z",
     "shell.execute_reply.started": "2023-12-22T23:01:37.123775Z"
    },
    "tags": []
   },
   "outputs": [
    {
     "data": {
      "text/plain": [
       "['artists', 'album_name', 'track_name', 'track_genre']"
      ]
     },
     "execution_count": 17,
     "metadata": {},
     "output_type": "execute_result"
    }
   ],
   "source": [
    "strings = list(df.dtypes[df.dtypes == 'object'].index) #ottengo gli indici che hanno solo valori string\n",
    "strings"
   ]
  },
  {
   "cell_type": "code",
   "execution_count": 18,
   "id": "cf4a5cc0",
   "metadata": {
    "execution": {
     "iopub.execute_input": "2023-12-22T23:01:38.373173Z",
     "iopub.status.busy": "2023-12-22T23:01:38.372784Z",
     "iopub.status.idle": "2023-12-22T23:01:39.218412Z",
     "shell.execute_reply": "2023-12-22T23:01:39.217617Z",
     "shell.execute_reply.started": "2023-12-22T23:01:38.373148Z"
    },
    "tags": []
   },
   "outputs": [
    {
     "data": {
      "text/plain": [
       "<Axes: xlabel='danceability', ylabel='Count'>"
      ]
     },
     "execution_count": 18,
     "metadata": {},
     "output_type": "execute_result"
    },
    {
     "data": {
      "image/png": "[encoded data removed]",
      "text/plain": [
       "<Figure size 640x480 with 1 Axes>"
      ]
     },
     "metadata": {},
     "output_type": "display_data"
    }
   ],
   "source": [
    "sns.histplot(df.danceability, bins=500)"
   ]
  },
  {
   "cell_type": "code",
   "execution_count": 19,
   "id": "5f318a1c",
   "metadata": {
    "execution": {
     "iopub.execute_input": "2023-12-22T23:01:40.091133Z",
     "iopub.status.busy": "2023-12-22T23:01:40.090751Z",
     "iopub.status.idle": "2023-12-22T23:01:40.928035Z",
     "shell.execute_reply": "2023-12-22T23:01:40.927350Z",
     "shell.execute_reply.started": "2023-12-22T23:01:40.091103Z"
    },
    "tags": []
   },
   "outputs": [
    {
     "data": {
      "text/plain": [
       "<Axes: xlabel='energy', ylabel='Count'>"
      ]
     },
     "execution_count": 19,
     "metadata": {},
     "output_type": "execute_result"
    },
    {
     "data": {
      "image/png": "[encoded data removed]",
      "text/plain": [
       "<Figure size 640x480 with 1 Axes>"
      ]
     },
     "metadata": {},
     "output_type": "display_data"
    }
   ],
   "source": [
    "sns.histplot(df.energy, bins=500)"
   ]
  },
  {
   "cell_type": "code",
   "execution_count": 20,
   "id": "391b6964",
   "metadata": {
    "execution": {
     "iopub.execute_input": "2023-12-22T23:01:41.441081Z",
     "iopub.status.busy": "2023-12-22T23:01:41.440703Z",
     "iopub.status.idle": "2023-12-22T23:01:42.454273Z",
     "shell.execute_reply": "2023-12-22T23:01:42.453441Z",
     "shell.execute_reply.started": "2023-12-22T23:01:41.441054Z"
    },
    "tags": []
   },
   "outputs": [
    {
     "data": {
      "text/plain": [
       "<Axes: xlabel='liveness', ylabel='Count'>"
      ]
     },
     "execution_count": 20,
     "metadata": {},
     "output_type": "execute_result"
    },
    {
     "data": {
      "image/png": "[encoded data removed]",
      "text/plain": [
       "<Figure size 640x480 with 1 Axes>"
      ]
     },
     "metadata": {},
     "output_type": "display_data"
    }
   ],
   "source": [
    "sns.histplot(df.liveness, bins=500)"
   ]
  },
  {
   "cell_type": "code",
   "execution_count": 21,
   "id": "aa816420",
   "metadata": {
    "execution": {
     "iopub.execute_input": "2023-12-22T23:01:42.458138Z",
     "iopub.status.busy": "2023-12-22T23:01:42.457815Z",
     "iopub.status.idle": "2023-12-22T23:01:43.253746Z",
     "shell.execute_reply": "2023-12-22T23:01:43.252954Z",
     "shell.execute_reply.started": "2023-12-22T23:01:42.458113Z"
    },
    "tags": []
   },
   "outputs": [
    {
     "data": {
      "text/plain": [
       "<Axes: xlabel='loudness', ylabel='Count'>"
      ]
     },
     "execution_count": 21,
     "metadata": {},
     "output_type": "execute_result"
    },
    {
     "data": {
      "image/png": "[encoded data removed]",
      "text/plain": [
       "<Figure size 640x480 with 1 Axes>"
      ]
     },
     "metadata": {},
     "output_type": "display_data"
    }
   ],
   "source": [
    "sns.histplot(df.loudness, bins=500)"
   ]
  },
  {
   "cell_type": "code",
   "execution_count": 22,
   "id": "540287c7",
   "metadata": {
    "execution": {
     "iopub.execute_input": "2023-12-22T23:01:43.255934Z",
     "iopub.status.busy": "2023-12-22T23:01:43.255364Z",
     "iopub.status.idle": "2023-12-22T23:01:44.023742Z",
     "shell.execute_reply": "2023-12-22T23:01:44.022964Z",
     "shell.execute_reply.started": "2023-12-22T23:01:43.255895Z"
    },
    "tags": []
   },
   "outputs": [
    {
     "data": {
      "text/plain": [
       "<Axes: xlabel='tempo', ylabel='Count'>"
      ]
     },
     "execution_count": 22,
     "metadata": {},
     "output_type": "execute_result"
    },
    {
     "data": {
      "image/png": "[encoded data removed]",
      "text/plain": [
       "<Figure size 640x480 with 1 Axes>"
      ]
     },
     "metadata": {},
     "output_type": "display_data"
    }
   ],
   "source": [
    "sns.histplot(df.tempo, bins=500)"
   ]
  },
  {
   "cell_type": "code",
   "execution_count": 23,
   "id": "6e607ecd",
   "metadata": {
    "execution": {
     "iopub.execute_input": "2023-12-22T23:01:44.025968Z",
     "iopub.status.busy": "2023-12-22T23:01:44.025347Z",
     "iopub.status.idle": "2023-12-22T23:01:44.842239Z",
     "shell.execute_reply": "2023-12-22T23:01:44.841421Z",
     "shell.execute_reply.started": "2023-12-22T23:01:44.025927Z"
    },
    "tags": []
   },
   "outputs": [
    {
     "data": {
      "text/plain": [
       "<Axes: xlabel='valence', ylabel='Count'>"
      ]
     },
     "execution_count": 23,
     "metadata": {},
     "output_type": "execute_result"
    },
    {
     "data": {
      "image/png": "[encoded data removed]",
      "text/plain": [
       "<Figure size 640x480 with 1 Axes>"
      ]
     },
     "metadata": {},
     "output_type": "display_data"
    }
   ],
   "source": [
    "sns.histplot(df.valence, bins=500)"
   ]
  },
  {
   "cell_type": "code",
   "execution_count": 24,
   "id": "63ac3a21",
   "metadata": {
    "execution": {
     "iopub.execute_input": "2023-12-22T23:01:44.844663Z",
     "iopub.status.busy": "2023-12-22T23:01:44.843937Z",
     "iopub.status.idle": "2023-12-22T23:01:45.638167Z",
     "shell.execute_reply": "2023-12-22T23:01:45.637379Z",
     "shell.execute_reply.started": "2023-12-22T23:01:44.844622Z"
    },
    "tags": []
   },
   "outputs": [
    {
     "data": {
      "text/plain": [
       "<Axes: xlabel='acousticness', ylabel='Count'>"
      ]
     },
     "execution_count": 24,
     "metadata": {},
     "output_type": "execute_result"
    },
    {
     "data": {
      "image/png": "[encoded data removed]",
      "text/plain": [
       "<Figure size 640x480 with 1 Axes>"
      ]
     },
     "metadata": {},
     "output_type": "display_data"
    }
   ],
   "source": [
    "sns.histplot(df.acousticness, bins=500)"
   ]
  },
  {
   "cell_type": "code",
   "execution_count": 25,
   "id": "46e58aeb",
   "metadata": {
    "execution": {
     "iopub.execute_input": "2023-12-22T23:01:45.639997Z",
     "iopub.status.busy": "2023-12-22T23:01:45.639355Z",
     "iopub.status.idle": "2023-12-22T23:01:46.662527Z",
     "shell.execute_reply": "2023-12-22T23:01:46.661763Z",
     "shell.execute_reply.started": "2023-12-22T23:01:45.639958Z"
    },
    "tags": []
   },
   "outputs": [
    {
     "data": {
      "text/plain": [
       "<Axes: xlabel='duration_ms', ylabel='Count'>"
      ]
     },
     "execution_count": 25,
     "metadata": {},
     "output_type": "execute_result"
    },
    {
     "data": {
      "image/png": "[encoded data removed]",
      "text/plain": [
       "<Figure size 640x480 with 1 Axes>"
      ]
     },
     "metadata": {},
     "output_type": "display_data"
    }
   ],
   "source": [
    "sns.histplot(df.duration_ms, bins=500)"
   ]
  },
  {
   "cell_type": "code",
   "execution_count": 26,
   "id": "a7790762",
   "metadata": {
    "execution": {
     "iopub.execute_input": "2023-12-22T23:01:46.665219Z",
     "iopub.status.busy": "2023-12-22T23:01:46.664449Z",
     "iopub.status.idle": "2023-12-22T23:01:46.670608Z",
     "shell.execute_reply": "2023-12-22T23:01:46.669830Z",
     "shell.execute_reply.started": "2023-12-22T23:01:46.665180Z"
    },
    "tags": []
   },
   "outputs": [],
   "source": [
    "df['duration_ms'] = np.log1p(df['duration_ms'])"
   ]
  },
  {
   "cell_type": "code",
   "execution_count": 27,
   "id": "26ae833a",
   "metadata": {
    "execution": {
     "iopub.execute_input": "2023-12-22T23:01:46.672203Z",
     "iopub.status.busy": "2023-12-22T23:01:46.671480Z",
     "iopub.status.idle": "2023-12-22T23:01:47.473232Z",
     "shell.execute_reply": "2023-12-22T23:01:47.472632Z",
     "shell.execute_reply.started": "2023-12-22T23:01:46.672180Z"
    },
    "tags": []
   },
   "outputs": [
    {
     "data": {
      "text/plain": [
       "<Axes: xlabel='duration_ms', ylabel='Count'>"
      ]
     },
     "execution_count": 27,
     "metadata": {},
     "output_type": "execute_result"
    },
    {
     "data": {
      "image/png": "[encoded data removed]",
      "text/plain": [
       "<Figure size 640x480 with 1 Axes>"
      ]
     },
     "metadata": {},
     "output_type": "display_data"
    }
   ],
   "source": [
    "sns.histplot(df.duration_ms, bins=500)"
   ]
  },
  {
   "cell_type": "code",
   "execution_count": 30,
   "id": "19e08fc8",
   "metadata": {
    "execution": {
     "iopub.execute_input": "2023-12-22T23:02:08.583251Z",
     "iopub.status.busy": "2023-12-22T23:02:08.582866Z",
     "iopub.status.idle": "2023-12-22T23:02:08.589229Z",
     "shell.execute_reply": "2023-12-22T23:02:08.588395Z",
     "shell.execute_reply.started": "2023-12-22T23:02:08.583225Z"
    },
    "tags": []
   },
   "outputs": [
    {
     "data": {
      "text/plain": [
       "array(['acoustic', 'afrobeat', 'alt-rock', 'alternative', 'ambient',\n",
       "       'anime', 'black-metal', 'bluegrass', 'blues', 'brazil',\n",
       "       'breakbeat', 'british', 'cantopop', 'chicago-house', 'children',\n",
       "       'chill', 'classical', 'club'], dtype=object)"
      ]
     },
     "execution_count": 30,
     "metadata": {},
     "output_type": "execute_result"
    }
   ],
   "source": [
    "df.track_genre.unique()"
   ]
  },
  {
   "cell_type": "code",
   "execution_count": 31,
   "id": "94381c61",
   "metadata": {
    "execution": {
     "iopub.execute_input": "2023-12-22T23:02:21.741166Z",
     "iopub.status.busy": "2023-12-22T23:02:21.740782Z",
     "iopub.status.idle": "2023-12-22T23:02:21.763962Z",
     "shell.execute_reply": "2023-12-22T23:02:21.763274Z",
     "shell.execute_reply.started": "2023-12-22T23:02:21.741137Z"
    },
    "tags": []
   },
   "outputs": [],
   "source": [
    "for col in strings: #loop per ogni colonna\n",
    "    df[col] = df[col].str.lower()"
   ]
  },
  {
   "cell_type": "code",
   "execution_count": 32,
   "id": "b272c79c",
   "metadata": {
    "execution": {
     "iopub.execute_input": "2023-12-22T23:02:23.438077Z",
     "iopub.status.busy": "2023-12-22T23:02:23.437698Z",
     "iopub.status.idle": "2023-12-22T23:02:23.473400Z",
     "shell.execute_reply": "2023-12-22T23:02:23.472638Z",
     "shell.execute_reply.started": "2023-12-22T23:02:23.438049Z"
    },
    "tags": []
   },
   "outputs": [
    {
     "name": "stdout",
     "output_type": "stream",
     "text": [
      "artists\n",
      "['gen hoshino' 'ben woodward' 'ingrid michaelson;zayn' 'kina grannis'\n",
      " 'chord overstreet']\n",
      "5572\n",
      "\n",
      "album_name\n",
      "['comedy' 'ghost (acoustic)' 'to begin again'\n",
      " 'crazy rich asians (original motion picture soundtrack)' 'hold on']\n",
      "9210\n",
      "\n",
      "track_name\n",
      "['comedy' 'ghost - acoustic' 'to begin again' \"can't help falling in love\"\n",
      " 'hold on']\n",
      "14487\n",
      "\n",
      "popularity\n",
      "[73. 55. 57. 71. 82.]\n",
      "89\n",
      "\n",
      "duration_ms\n",
      "[12.34873039 11.91579387 12.25879317 12.21569619 12.20032617]\n",
      "13370\n",
      "\n",
      "explicit\n",
      "[0 1]\n",
      "2\n",
      "\n",
      "danceability\n",
      "[0.676 0.42  0.438 0.266 0.618]\n",
      "955\n",
      "\n",
      "energy\n",
      "[0.461  0.166  0.359  0.0596 0.443 ]\n",
      "1494\n",
      "\n",
      "key\n",
      "[ 1.  0.  2.  6. 11.]\n",
      "12\n",
      "\n",
      "loudness\n",
      "[ -6.746 -17.235  -9.734 -18.515  -9.681]\n",
      "9828\n",
      "\n",
      "mode\n",
      "[0. 1.]\n",
      "2\n",
      "\n",
      "speechiness\n",
      "[0.143  0.0763 0.0557 0.0363 0.0526]\n",
      "1162\n",
      "\n",
      "acousticness\n",
      "[0.0322 0.924  0.21   0.905  0.469 ]\n",
      "3595\n",
      "\n",
      "instrumentalness\n",
      "[1.01e-06 5.56e-06 0.00e+00 7.07e-05 2.89e-06]\n",
      "3868\n",
      "\n",
      "liveness\n",
      "[0.358  0.101  0.117  0.132  0.0829]\n",
      "1522\n",
      "\n",
      "valence\n",
      "[0.715 0.267 0.12  0.143 0.167]\n",
      "1462\n",
      "\n",
      "tempo\n",
      "[ 87.917  77.489  76.332 181.74  119.949]\n",
      "12845\n",
      "\n",
      "time_signature\n",
      "[4. 3. 1. 5. 0.]\n",
      "5\n",
      "\n",
      "track_genre\n",
      "['acoustic' 'afrobeat' 'alt-rock' 'alternative' 'ambient']\n",
      "18\n",
      "\n"
     ]
    }
   ],
   "source": [
    "for col in df.columns:\n",
    "    print(col)\n",
    "    print(df[col].unique()[:5]) #stampo solo i primi 5 valori diversi\n",
    "    print(df[col].nunique())\n",
    "    print()"
   ]
  },
  {
   "cell_type": "markdown",
   "id": "2ec15c5a",
   "metadata": {},
   "source": [
    "# Splitting the Data"
   ]
  },
  {
   "cell_type": "code",
   "execution_count": 33,
   "id": "17dff2bd",
   "metadata": {
    "execution": {
     "iopub.execute_input": "2023-12-22T23:02:25.741434Z",
     "iopub.status.busy": "2023-12-22T23:02:25.741057Z",
     "iopub.status.idle": "2023-12-22T23:02:25.755939Z",
     "shell.execute_reply": "2023-12-22T23:02:25.755037Z",
     "shell.execute_reply.started": "2023-12-22T23:02:25.741404Z"
    },
    "tags": []
   },
   "outputs": [],
   "source": [
    "df_full_train, df_test = train_test_split(df, test_size=0.2, random_state=11)\n",
    "df_train, df_val = train_test_split(df_full_train, test_size=0.25, random_state=11)"
   ]
  },
  {
   "cell_type": "code",
   "execution_count": 34,
   "id": "6d15f83e",
   "metadata": {
    "execution": {
     "iopub.execute_input": "2023-12-22T23:02:26.541061Z",
     "iopub.status.busy": "2023-12-22T23:02:26.540674Z",
     "iopub.status.idle": "2023-12-22T23:02:26.549954Z",
     "shell.execute_reply": "2023-12-22T23:02:26.549298Z",
     "shell.execute_reply.started": "2023-12-22T23:02:26.541036Z"
    },
    "tags": []
   },
   "outputs": [],
   "source": [
    "df_train = df_train.reset_index(drop=True)\n",
    "df_val = df_val.reset_index(drop=True)\n",
    "df_test = df_test.reset_index(drop=True)\n",
    "df_full_train = df_full_train.reset_index(drop=True)"
   ]
  },
  {
   "cell_type": "code",
   "execution_count": 35,
   "id": "6a65f2a7",
   "metadata": {
    "execution": {
     "iopub.execute_input": "2023-12-22T23:02:27.210953Z",
     "iopub.status.busy": "2023-12-22T23:02:27.210573Z",
     "iopub.status.idle": "2023-12-22T23:02:27.215636Z",
     "shell.execute_reply": "2023-12-22T23:02:27.214996Z",
     "shell.execute_reply.started": "2023-12-22T23:02:27.210926Z"
    },
    "tags": []
   },
   "outputs": [
    {
     "data": {
      "text/plain": [
       "(10584, 3529, 3529)"
      ]
     },
     "execution_count": 35,
     "metadata": {},
     "output_type": "execute_result"
    }
   ],
   "source": [
    "len(df_train), len(df_test), len(df_val)"
   ]
  },
  {
   "cell_type": "code",
   "execution_count": 36,
   "id": "59c3497c",
   "metadata": {
    "execution": {
     "iopub.execute_input": "2023-12-22T23:02:27.813151Z",
     "iopub.status.busy": "2023-12-22T23:02:27.812759Z",
     "iopub.status.idle": "2023-12-22T23:02:27.816764Z",
     "shell.execute_reply": "2023-12-22T23:02:27.816114Z",
     "shell.execute_reply.started": "2023-12-22T23:02:27.813124Z"
    },
    "tags": []
   },
   "outputs": [],
   "source": [
    "y_train = df_train.popularity\n",
    "y_val = df_val.popularity\n",
    "y_test = df_test.popularity\n",
    "y_full_train = df_full_train.popularity"
   ]
  },
  {
   "cell_type": "code",
   "execution_count": 37,
   "id": "6c12354a",
   "metadata": {
    "execution": {
     "iopub.execute_input": "2023-12-22T23:02:28.431127Z",
     "iopub.status.busy": "2023-12-22T23:02:28.430758Z",
     "iopub.status.idle": "2023-12-22T23:02:28.435769Z",
     "shell.execute_reply": "2023-12-22T23:02:28.434970Z",
     "shell.execute_reply.started": "2023-12-22T23:02:28.431100Z"
    },
    "tags": []
   },
   "outputs": [],
   "source": [
    "del df_train['popularity']\n",
    "del df_val['popularity']\n",
    "del df_test['popularity']\n",
    "del df_full_train['popularity']"
   ]
  },
  {
   "cell_type": "code",
   "execution_count": 38,
   "id": "bca94b56",
   "metadata": {
    "execution": {
     "iopub.execute_input": "2023-12-22T23:02:29.040954Z",
     "iopub.status.busy": "2023-12-22T23:02:29.040586Z",
     "iopub.status.idle": "2023-12-22T23:02:29.045584Z",
     "shell.execute_reply": "2023-12-22T23:02:29.044710Z",
     "shell.execute_reply.started": "2023-12-22T23:02:29.040926Z"
    },
    "tags": []
   },
   "outputs": [],
   "source": [
    "def rmse(y, y_pred):\n",
    "    error = y - y_pred #calcolo errore tra i 2 array\n",
    "    se = error **2 #quadrato della differenza\n",
    "    mse = se.mean() #media della differenza\n",
    "    return np.sqrt(mse) #radice del valore medio"
   ]
  },
  {
   "cell_type": "markdown",
   "id": "483f6a40",
   "metadata": {},
   "source": [
    "# DECISION TREES"
   ]
  },
  {
   "cell_type": "code",
   "execution_count": 39,
   "id": "d28d1035",
   "metadata": {
    "execution": {
     "iopub.execute_input": "2023-12-22T23:02:30.281641Z",
     "iopub.status.busy": "2023-12-22T23:02:30.281160Z",
     "iopub.status.idle": "2023-12-22T23:02:30.867318Z",
     "shell.execute_reply": "2023-12-22T23:02:30.866692Z",
     "shell.execute_reply.started": "2023-12-22T23:02:30.281610Z"
    },
    "tags": []
   },
   "outputs": [],
   "source": [
    "train_dicts = df_train.to_dict(orient='records')\n",
    "dv = DictVectorizer(sparse=False)\n",
    "X_train = dv.fit_transform(train_dicts)\n",
    "\n",
    "val_dicts = df_val.to_dict(orient='records')\n",
    "X_val = dv.transform(val_dicts)"
   ]
  },
  {
   "cell_type": "code",
   "execution_count": 40,
   "id": "0fd266c5",
   "metadata": {
    "execution": {
     "iopub.execute_input": "2023-12-22T23:02:34.423095Z",
     "iopub.status.busy": "2023-12-22T23:02:34.422708Z",
     "iopub.status.idle": "2023-12-22T23:03:22.752927Z",
     "shell.execute_reply": "2023-12-22T23:03:22.752258Z",
     "shell.execute_reply.started": "2023-12-22T23:02:34.423069Z"
    },
    "tags": []
   },
   "outputs": [
    {
     "data": {
      "text/html": [
       "<style>#sk-container-id-1 {color: black;}#sk-container-id-1 pre{padding: 0;}#sk-container-id-1 div.sk-toggleable {background-color: white;}#sk-container-id-1 label.sk-toggleable__label {cursor: pointer;display: block;width: 100%;margin-bottom: 0;padding: 0.3em;box-sizing: border-box;text-align: center;}#sk-container-id-1 label.sk-toggleable__label-arrow:before {content: \"▸\";float: left;margin-right: 0.25em;color: #696969;}#sk-container-id-1 label.sk-toggleable__label-arrow:hover:before {color: black;}#sk-container-id-1 div.sk-estimator:hover label.sk-toggleable__label-arrow:before {color: black;}#sk-container-id-1 div.sk-toggleable__content {max-height: 0;max-width: 0;overflow: hidden;text-align: left;background-color: #f0f8ff;}#sk-container-id-1 div.sk-toggleable__content pre {margin: 0.2em;color: black;border-radius: 0.25em;background-color: #f0f8ff;}#sk-container-id-1 input.sk-toggleable__control:checked~div.sk-toggleable__content {max-height: 200px;max-width: 100%;overflow: auto;}#sk-container-id-1 input.sk-toggleable__control:checked~label.sk-toggleable__label-arrow:before {content: \"▾\";}#sk-container-id-1 div.sk-estimator input.sk-toggleable__control:checked~label.sk-toggleable__label {background-color: #d4ebff;}#sk-container-id-1 div.sk-label input.sk-toggleable__control:checked~label.sk-toggleable__label {background-color: #d4ebff;}#sk-container-id-1 input.sk-hidden--visually {border: 0;clip: rect(1px 1px 1px 1px);clip: rect(1px, 1px, 1px, 1px);height: 1px;margin: -1px;overflow: hidden;padding: 0;position: absolute;width: 1px;}#sk-container-id-1 div.sk-estimator {font-family: monospace;background-color: #f0f8ff;border: 1px dotted black;border-radius: 0.25em;box-sizing: border-box;margin-bottom: 0.5em;}#sk-container-id-1 div.sk-estimator:hover {background-color: #d4ebff;}#sk-container-id-1 div.sk-parallel-item::after {content: \"\";width: 100%;border-bottom: 1px solid gray;flex-grow: 1;}#sk-container-id-1 div.sk-label:hover label.sk-toggleable__label {background-color: #d4ebff;}#sk-container-id-1 div.sk-serial::before {content: \"\";position: absolute;border-left: 1px solid gray;box-sizing: border-box;top: 0;bottom: 0;left: 50%;z-index: 0;}#sk-container-id-1 div.sk-serial {display: flex;flex-direction: column;align-items: center;background-color: white;padding-right: 0.2em;padding-left: 0.2em;position: relative;}#sk-container-id-1 div.sk-item {position: relative;z-index: 1;}#sk-container-id-1 div.sk-parallel {display: flex;align-items: stretch;justify-content: center;background-color: white;position: relative;}#sk-container-id-1 div.sk-item::before, #sk-container-id-1 div.sk-parallel-item::before {content: \"\";position: absolute;border-left: 1px solid gray;box-sizing: border-box;top: 0;bottom: 0;left: 50%;z-index: -1;}#sk-container-id-1 div.sk-parallel-item {display: flex;flex-direction: column;z-index: 1;position: relative;background-color: white;}#sk-container-id-1 div.sk-parallel-item:first-child::after {align-self: flex-end;width: 50%;}#sk-container-id-1 div.sk-parallel-item:last-child::after {align-self: flex-start;width: 50%;}#sk-container-id-1 div.sk-parallel-item:only-child::after {width: 0;}#sk-container-id-1 div.sk-dashed-wrapped {border: 1px dashed gray;margin: 0 0.4em 0.5em 0.4em;box-sizing: border-box;padding-bottom: 0.4em;background-color: white;}#sk-container-id-1 div.sk-label label {font-family: monospace;font-weight: bold;display: inline-block;line-height: 1.2em;}#sk-container-id-1 div.sk-label-container {text-align: center;}#sk-container-id-1 div.sk-container {/* jupyter's `normalize.less` sets `[hidden] { display: none; }` but bootstrap.min.css set `[hidden] { display: none !important; }` so we also need the `!important` here to be able to override the default hidden behavior on the sphinx rendered scikit-learn.org. See: https://github.com/scikit-learn/scikit-learn/issues/21755 */display: inline-block !important;position: relative;}#sk-container-id-1 div.sk-text-repr-fallback {display: none;}</style><div id=\"sk-container-id-1\" class=\"sk-top-container\"><div class=\"sk-text-repr-fallback\"><pre>DecisionTreeRegressor()</pre><b>In a Jupyter environment, please rerun this cell to show the HTML representation or trust the notebook. <br />On GitHub, the HTML representation is unable to render, please try loading this page with nbviewer.org.</b></div><div class=\"sk-container\" hidden><div class=\"sk-item\"><div class=\"sk-estimator sk-toggleable\"><input class=\"sk-toggleable__control sk-hidden--visually\" id=\"sk-estimator-id-1\" type=\"checkbox\" checked><label for=\"sk-estimator-id-1\" class=\"sk-toggleable__label sk-toggleable__label-arrow\">DecisionTreeRegressor</label><div class=\"sk-toggleable__content\"><pre>DecisionTreeRegressor()</pre></div></div></div></div></div>"
      ],
      "text/plain": [
       "DecisionTreeRegressor()"
      ]
     },
     "execution_count": 40,
     "metadata": {},
     "output_type": "execute_result"
    }
   ],
   "source": [
    "dt = DecisionTreeRegressor()\n",
    "dt.fit(X_train, y_train)"
   ]
  },
  {
   "cell_type": "code",
   "execution_count": 41,
   "id": "21f5a0d0",
   "metadata": {
    "execution": {
     "iopub.execute_input": "2023-12-22T23:03:22.755115Z",
     "iopub.status.busy": "2023-12-22T23:03:22.754472Z",
     "iopub.status.idle": "2023-12-22T23:03:22.888418Z",
     "shell.execute_reply": "2023-12-22T23:03:22.887773Z",
     "shell.execute_reply.started": "2023-12-22T23:03:22.755075Z"
    },
    "tags": []
   },
   "outputs": [],
   "source": [
    "val_dicts = df_val.to_dict(orient='records')\n",
    "X_val = dv.transform(val_dicts)"
   ]
  },
  {
   "cell_type": "code",
   "execution_count": 42,
   "id": "14fdd116",
   "metadata": {
    "execution": {
     "iopub.execute_input": "2023-12-22T23:05:26.112908Z",
     "iopub.status.busy": "2023-12-22T23:05:26.112515Z",
     "iopub.status.idle": "2023-12-22T23:05:26.341589Z",
     "shell.execute_reply": "2023-12-22T23:05:26.340783Z",
     "shell.execute_reply.started": "2023-12-22T23:05:26.112882Z"
    },
    "tags": []
   },
   "outputs": [
    {
     "data": {
      "text/plain": [
       "array([44., 32., 74., ..., 45., 16., 71.])"
      ]
     },
     "execution_count": 42,
     "metadata": {},
     "output_type": "execute_result"
    }
   ],
   "source": [
    "y_pred = dt.predict(X_val)\n",
    "y_pred"
   ]
  },
  {
   "cell_type": "code",
   "execution_count": 43,
   "id": "e2cecbd5-3400-4565-8652-eb72230b16a3",
   "metadata": {
    "execution": {
     "iopub.execute_input": "2023-12-22T23:05:36.093063Z",
     "iopub.status.busy": "2023-12-22T23:05:36.092679Z",
     "iopub.status.idle": "2023-12-22T23:05:36.099214Z",
     "shell.execute_reply": "2023-12-22T23:05:36.098302Z",
     "shell.execute_reply.started": "2023-12-22T23:05:36.093037Z"
    },
    "tags": []
   },
   "outputs": [
    {
     "data": {
      "text/plain": [
       "17.73980735772687"
      ]
     },
     "execution_count": 43,
     "metadata": {},
     "output_type": "execute_result"
    }
   ],
   "source": [
    "rmse(y_val, y_pred)"
   ]
  },
  {
   "cell_type": "code",
   "execution_count": 44,
   "id": "282be6db-c509-4fa4-8348-776b1e2582c0",
   "metadata": {
    "execution": {
     "iopub.execute_input": "2023-12-22T23:06:17.732826Z",
     "iopub.status.busy": "2023-12-22T23:06:17.732406Z",
     "iopub.status.idle": "2023-12-22T23:07:26.157583Z",
     "shell.execute_reply": "2023-12-22T23:07:26.156780Z",
     "shell.execute_reply.started": "2023-12-22T23:06:17.732799Z"
    },
    "tags": []
   },
   "outputs": [
    {
     "data": {
      "text/plain": [
       "16.885543052637896"
      ]
     },
     "execution_count": 44,
     "metadata": {},
     "output_type": "execute_result"
    }
   ],
   "source": [
    "#train\n",
    "dicts_ft = df_full_train.to_dict(orient='records')\n",
    "dv = DictVectorizer(sparse = False)\n",
    "X_full_train = dv.fit_transform(dicts_ft)\n",
    "    \n",
    "dt = DecisionTreeRegressor()\n",
    "dt.fit(X_full_train, y_full_train)\n",
    "#predict\n",
    "dicts_test = df_test.to_dict(orient='records')\n",
    "   \n",
    "X_test = dv.transform(dicts_test)\n",
    "y_pred = dt.predict(X_test)\n",
    "\n",
    "_rmse = rmse(y_test, y_pred)\n",
    "_rmse"
   ]
  },
  {
   "cell_type": "code",
   "execution_count": 45,
   "id": "132b7346-d8c3-4a3a-99bb-5b1290889f1b",
   "metadata": {
    "execution": {
     "iopub.execute_input": "2023-12-22T23:07:43.762262Z",
     "iopub.status.busy": "2023-12-22T23:07:43.761856Z",
     "iopub.status.idle": "2023-12-22T23:32:14.487278Z",
     "shell.execute_reply": "2023-12-22T23:32:14.486621Z",
     "shell.execute_reply.started": "2023-12-22T23:07:43.762233Z"
    },
    "tags": []
   },
   "outputs": [
    {
     "name": "stdout",
     "output_type": "stream",
     "text": [
      "(1, 1, 21.16067670448737)\n",
      "(1, 2, 21.16067670448737)\n",
      "(1, 5, 21.16067670448737)\n",
      "(1, 10, 21.16067670448737)\n",
      "(1, 20, 21.16067670448737)\n",
      "(1, 50, 21.16067670448737)\n",
      "(1, 100, 21.16067670448737)\n",
      "(1, 200, 21.16067670448737)\n",
      "(1, 500, 21.16067670448737)\n",
      "(2, 1, 20.54507959292357)\n",
      "(2, 2, 20.54507959292357)\n",
      "(2, 5, 20.54507959292357)\n",
      "(2, 10, 20.54507959292357)\n",
      "(2, 20, 20.54507959292357)\n",
      "(2, 50, 20.544077765872103)\n",
      "(2, 100, 20.531804767629975)\n",
      "(2, 200, 20.531804767629975)\n",
      "(2, 500, 20.533305931264614)\n",
      "(5, 1, 19.240152821772032)\n",
      "(5, 2, 19.260530126805158)\n",
      "(5, 5, 19.281847834092094)\n",
      "(5, 10, 19.30134229647501)\n",
      "(5, 20, 19.294456778034775)\n",
      "(5, 50, 19.266053535465655)\n",
      "(5, 100, 19.29972245755107)\n",
      "(5, 200, 19.29355302057906)\n",
      "(5, 500, 19.322716634354325)\n",
      "(10, 1, 17.946774375036636)\n",
      "(10, 2, 17.8805232025986)\n",
      "(10, 5, 17.991266555908958)\n",
      "(10, 10, 18.063772226743843)\n",
      "(10, 20, 18.267117365497523)\n",
      "(10, 50, 18.164669185894937)\n",
      "(10, 100, 18.207387684016727)\n",
      "(10, 200, 18.19588141709861)\n",
      "(10, 500, 18.28060687535084)\n",
      "(20, 1, 17.34956385565539)\n",
      "(20, 2, 17.590763842978095)\n",
      "(20, 5, 17.50857107451047)\n",
      "(20, 10, 17.629328315462548)\n",
      "(20, 20, 17.697797473641803)\n",
      "(20, 50, 17.84660463843395)\n",
      "(20, 100, 17.86135167753846)\n",
      "(20, 200, 18.027696982669386)\n",
      "(20, 500, 18.254443639697413)\n",
      "(50, 1, 17.78896615206481)\n",
      "(50, 2, 18.001734198438847)\n",
      "(50, 5, 17.89752056026382)\n",
      "(50, 10, 18.343577410288546)\n",
      "(50, 20, 18.09659239234096)\n",
      "(50, 50, 17.914236851819023)\n",
      "(50, 100, 17.876387843392788)\n",
      "(50, 200, 18.027696982669386)\n",
      "(50, 500, 18.254443639697413)\n",
      "(100, 1, 17.267231965856556)\n",
      "(100, 2, 18.46739682604484)\n",
      "(100, 5, 18.559173129373672)\n",
      "(100, 10, 18.346676108067207)\n",
      "(100, 20, 18.09659239234096)\n",
      "(100, 50, 17.914236851819023)\n",
      "(100, 100, 17.876387843392788)\n",
      "(100, 200, 18.027696982669386)\n",
      "(100, 500, 18.254443639697413)\n",
      "(200, 1, 18.46052400241531)\n",
      "(200, 2, 18.42050623081264)\n",
      "(200, 5, 18.482103863521065)\n",
      "(200, 10, 18.349965609654774)\n",
      "(200, 20, 18.09659239234096)\n",
      "(200, 50, 17.914236851819023)\n",
      "(200, 100, 17.876387843392788)\n",
      "(200, 200, 18.027696982669386)\n",
      "(200, 500, 18.254443639697413)\n",
      "(500, 1, 17.785992447565498)\n",
      "(500, 2, 18.39473648667603)\n",
      "(500, 5, 18.55696892383902)\n",
      "(500, 10, 18.319789825772965)\n",
      "(500, 20, 18.09659239234096)\n",
      "(500, 50, 17.914236851819023)\n",
      "(500, 100, 17.876387843392788)\n",
      "(500, 200, 18.027696982669386)\n",
      "(500, 500, 18.254443639697413)\n",
      "(None, 1, 17.41765429708628)\n",
      "(None, 2, 19.21249367576964)\n",
      "(None, 5, 18.494875639068642)\n",
      "(None, 10, 18.34054876430409)\n",
      "(None, 20, 18.09659239234096)\n",
      "(None, 50, 17.914236851819023)\n",
      "(None, 100, 17.876387843392788)\n",
      "(None, 200, 18.027696982669386)\n",
      "(None, 500, 18.254443639697413)\n"
     ]
    },
    {
     "data": {
      "text/html": [
       "<div>\n",
       "<style scoped>\n",
       "    .dataframe tbody tr th:only-of-type {\n",
       "        vertical-align: middle;\n",
       "    }\n",
       "\n",
       "    .dataframe tbody tr th {\n",
       "        vertical-align: top;\n",
       "    }\n",
       "\n",
       "    .dataframe thead th {\n",
       "        text-align: right;\n",
       "    }\n",
       "</style>\n",
       "<table border=\"1\" class=\"dataframe\">\n",
       "  <thead>\n",
       "    <tr style=\"text-align: right;\">\n",
       "      <th></th>\n",
       "      <th>max_depth</th>\n",
       "      <th>min_samples_leaf</th>\n",
       "      <th>rmse</th>\n",
       "    </tr>\n",
       "  </thead>\n",
       "  <tbody>\n",
       "    <tr>\n",
       "      <th>0</th>\n",
       "      <td>1.0</td>\n",
       "      <td>1</td>\n",
       "      <td>21.160677</td>\n",
       "    </tr>\n",
       "    <tr>\n",
       "      <th>1</th>\n",
       "      <td>1.0</td>\n",
       "      <td>2</td>\n",
       "      <td>21.160677</td>\n",
       "    </tr>\n",
       "    <tr>\n",
       "      <th>2</th>\n",
       "      <td>1.0</td>\n",
       "      <td>5</td>\n",
       "      <td>21.160677</td>\n",
       "    </tr>\n",
       "    <tr>\n",
       "      <th>3</th>\n",
       "      <td>1.0</td>\n",
       "      <td>10</td>\n",
       "      <td>21.160677</td>\n",
       "    </tr>\n",
       "    <tr>\n",
       "      <th>4</th>\n",
       "      <td>1.0</td>\n",
       "      <td>20</td>\n",
       "      <td>21.160677</td>\n",
       "    </tr>\n",
       "    <tr>\n",
       "      <th>...</th>\n",
       "      <td>...</td>\n",
       "      <td>...</td>\n",
       "      <td>...</td>\n",
       "    </tr>\n",
       "    <tr>\n",
       "      <th>85</th>\n",
       "      <td>NaN</td>\n",
       "      <td>20</td>\n",
       "      <td>18.096592</td>\n",
       "    </tr>\n",
       "    <tr>\n",
       "      <th>86</th>\n",
       "      <td>NaN</td>\n",
       "      <td>50</td>\n",
       "      <td>17.914237</td>\n",
       "    </tr>\n",
       "    <tr>\n",
       "      <th>87</th>\n",
       "      <td>NaN</td>\n",
       "      <td>100</td>\n",
       "      <td>17.876388</td>\n",
       "    </tr>\n",
       "    <tr>\n",
       "      <th>88</th>\n",
       "      <td>NaN</td>\n",
       "      <td>200</td>\n",
       "      <td>18.027697</td>\n",
       "    </tr>\n",
       "    <tr>\n",
       "      <th>89</th>\n",
       "      <td>NaN</td>\n",
       "      <td>500</td>\n",
       "      <td>18.254444</td>\n",
       "    </tr>\n",
       "  </tbody>\n",
       "</table>\n",
       "<p>90 rows × 3 columns</p>\n",
       "</div>"
      ],
      "text/plain": [
       "    max_depth  min_samples_leaf       rmse\n",
       "0         1.0                 1  21.160677\n",
       "1         1.0                 2  21.160677\n",
       "2         1.0                 5  21.160677\n",
       "3         1.0                10  21.160677\n",
       "4         1.0                20  21.160677\n",
       "..        ...               ...        ...\n",
       "85        NaN                20  18.096592\n",
       "86        NaN                50  17.914237\n",
       "87        NaN               100  17.876388\n",
       "88        NaN               200  18.027697\n",
       "89        NaN               500  18.254444\n",
       "\n",
       "[90 rows x 3 columns]"
      ]
     },
     "execution_count": 45,
     "metadata": {},
     "output_type": "execute_result"
    }
   ],
   "source": [
    "scores = []\n",
    "\n",
    "for d in [1,2,5,10,20,50,100,200,500, None]: \n",
    "    for s in [1,2,5,10,20,50,100,200,500]: \n",
    "        dt = DecisionTreeRegressor( max_depth=d, min_samples_leaf=s)\n",
    "        dt.fit(X_train, y_train)\n",
    "\n",
    "        y_pred = dt.predict(X_val)\n",
    "        _rmse = rmse(y_val, y_pred)\n",
    "        scores.append((d,s,_rmse))\n",
    "        print((d,s,_rmse))\n",
    "col = ['max_depth', 'min_samples_leaf', 'rmse']\n",
    "df_scores = pd.DataFrame(scores, columns=col)\n",
    "df_scores"
   ]
  },
  {
   "cell_type": "code",
   "execution_count": 46,
   "id": "e2b85614-ff01-4ce7-af56-02bfb8d68f25",
   "metadata": {
    "execution": {
     "iopub.execute_input": "2023-12-22T23:44:15.164102Z",
     "iopub.status.busy": "2023-12-22T23:44:15.163728Z",
     "iopub.status.idle": "2023-12-22T23:44:15.194558Z",
     "shell.execute_reply": "2023-12-22T23:44:15.193834Z",
     "shell.execute_reply.started": "2023-12-22T23:44:15.164074Z"
    },
    "tags": []
   },
   "outputs": [
    {
     "data": {
      "text/html": [
       "<div>\n",
       "<style scoped>\n",
       "    .dataframe tbody tr th:only-of-type {\n",
       "        vertical-align: middle;\n",
       "    }\n",
       "\n",
       "    .dataframe tbody tr th {\n",
       "        vertical-align: top;\n",
       "    }\n",
       "\n",
       "    .dataframe thead tr th {\n",
       "        text-align: left;\n",
       "    }\n",
       "\n",
       "    .dataframe thead tr:last-of-type th {\n",
       "        text-align: right;\n",
       "    }\n",
       "</style>\n",
       "<table border=\"1\" class=\"dataframe\">\n",
       "  <thead>\n",
       "    <tr>\n",
       "      <th></th>\n",
       "      <th colspan=\"10\" halign=\"left\">rmse</th>\n",
       "    </tr>\n",
       "    <tr>\n",
       "      <th>max_depth</th>\n",
       "      <th>NaN</th>\n",
       "      <th>1.0</th>\n",
       "      <th>2.0</th>\n",
       "      <th>5.0</th>\n",
       "      <th>10.0</th>\n",
       "      <th>20.0</th>\n",
       "      <th>50.0</th>\n",
       "      <th>100.0</th>\n",
       "      <th>200.0</th>\n",
       "      <th>500.0</th>\n",
       "    </tr>\n",
       "    <tr>\n",
       "      <th>min_samples_leaf</th>\n",
       "      <th></th>\n",
       "      <th></th>\n",
       "      <th></th>\n",
       "      <th></th>\n",
       "      <th></th>\n",
       "      <th></th>\n",
       "      <th></th>\n",
       "      <th></th>\n",
       "      <th></th>\n",
       "      <th></th>\n",
       "    </tr>\n",
       "  </thead>\n",
       "  <tbody>\n",
       "    <tr>\n",
       "      <th>1</th>\n",
       "      <td>17.418</td>\n",
       "      <td>21.161</td>\n",
       "      <td>20.545</td>\n",
       "      <td>19.240</td>\n",
       "      <td>17.947</td>\n",
       "      <td>17.350</td>\n",
       "      <td>17.789</td>\n",
       "      <td>17.267</td>\n",
       "      <td>18.461</td>\n",
       "      <td>17.786</td>\n",
       "    </tr>\n",
       "    <tr>\n",
       "      <th>2</th>\n",
       "      <td>19.212</td>\n",
       "      <td>21.161</td>\n",
       "      <td>20.545</td>\n",
       "      <td>19.261</td>\n",
       "      <td>17.881</td>\n",
       "      <td>17.591</td>\n",
       "      <td>18.002</td>\n",
       "      <td>18.467</td>\n",
       "      <td>18.421</td>\n",
       "      <td>18.395</td>\n",
       "    </tr>\n",
       "    <tr>\n",
       "      <th>5</th>\n",
       "      <td>18.495</td>\n",
       "      <td>21.161</td>\n",
       "      <td>20.545</td>\n",
       "      <td>19.282</td>\n",
       "      <td>17.991</td>\n",
       "      <td>17.509</td>\n",
       "      <td>17.898</td>\n",
       "      <td>18.559</td>\n",
       "      <td>18.482</td>\n",
       "      <td>18.557</td>\n",
       "    </tr>\n",
       "    <tr>\n",
       "      <th>10</th>\n",
       "      <td>18.341</td>\n",
       "      <td>21.161</td>\n",
       "      <td>20.545</td>\n",
       "      <td>19.301</td>\n",
       "      <td>18.064</td>\n",
       "      <td>17.629</td>\n",
       "      <td>18.344</td>\n",
       "      <td>18.347</td>\n",
       "      <td>18.350</td>\n",
       "      <td>18.320</td>\n",
       "    </tr>\n",
       "    <tr>\n",
       "      <th>20</th>\n",
       "      <td>18.097</td>\n",
       "      <td>21.161</td>\n",
       "      <td>20.545</td>\n",
       "      <td>19.294</td>\n",
       "      <td>18.267</td>\n",
       "      <td>17.698</td>\n",
       "      <td>18.097</td>\n",
       "      <td>18.097</td>\n",
       "      <td>18.097</td>\n",
       "      <td>18.097</td>\n",
       "    </tr>\n",
       "    <tr>\n",
       "      <th>50</th>\n",
       "      <td>17.914</td>\n",
       "      <td>21.161</td>\n",
       "      <td>20.544</td>\n",
       "      <td>19.266</td>\n",
       "      <td>18.165</td>\n",
       "      <td>17.847</td>\n",
       "      <td>17.914</td>\n",
       "      <td>17.914</td>\n",
       "      <td>17.914</td>\n",
       "      <td>17.914</td>\n",
       "    </tr>\n",
       "    <tr>\n",
       "      <th>100</th>\n",
       "      <td>17.876</td>\n",
       "      <td>21.161</td>\n",
       "      <td>20.532</td>\n",
       "      <td>19.300</td>\n",
       "      <td>18.207</td>\n",
       "      <td>17.861</td>\n",
       "      <td>17.876</td>\n",
       "      <td>17.876</td>\n",
       "      <td>17.876</td>\n",
       "      <td>17.876</td>\n",
       "    </tr>\n",
       "    <tr>\n",
       "      <th>200</th>\n",
       "      <td>18.028</td>\n",
       "      <td>21.161</td>\n",
       "      <td>20.532</td>\n",
       "      <td>19.294</td>\n",
       "      <td>18.196</td>\n",
       "      <td>18.028</td>\n",
       "      <td>18.028</td>\n",
       "      <td>18.028</td>\n",
       "      <td>18.028</td>\n",
       "      <td>18.028</td>\n",
       "    </tr>\n",
       "    <tr>\n",
       "      <th>500</th>\n",
       "      <td>18.254</td>\n",
       "      <td>21.161</td>\n",
       "      <td>20.533</td>\n",
       "      <td>19.323</td>\n",
       "      <td>18.281</td>\n",
       "      <td>18.254</td>\n",
       "      <td>18.254</td>\n",
       "      <td>18.254</td>\n",
       "      <td>18.254</td>\n",
       "      <td>18.254</td>\n",
       "    </tr>\n",
       "  </tbody>\n",
       "</table>\n",
       "</div>"
      ],
      "text/plain": [
       "                    rmse                                                  \\\n",
       "max_depth            NaN   1.0     2.0     5.0     10.0    20.0    50.0    \n",
       "min_samples_leaf                                                           \n",
       "1                 17.418  21.161  20.545  19.240  17.947  17.350  17.789   \n",
       "2                 19.212  21.161  20.545  19.261  17.881  17.591  18.002   \n",
       "5                 18.495  21.161  20.545  19.282  17.991  17.509  17.898   \n",
       "10                18.341  21.161  20.545  19.301  18.064  17.629  18.344   \n",
       "20                18.097  21.161  20.545  19.294  18.267  17.698  18.097   \n",
       "50                17.914  21.161  20.544  19.266  18.165  17.847  17.914   \n",
       "100               17.876  21.161  20.532  19.300  18.207  17.861  17.876   \n",
       "200               18.028  21.161  20.532  19.294  18.196  18.028  18.028   \n",
       "500               18.254  21.161  20.533  19.323  18.281  18.254  18.254   \n",
       "\n",
       "                                          \n",
       "max_depth          100.0   200.0   500.0  \n",
       "min_samples_leaf                          \n",
       "1                 17.267  18.461  17.786  \n",
       "2                 18.467  18.421  18.395  \n",
       "5                 18.559  18.482  18.557  \n",
       "10                18.347  18.350  18.320  \n",
       "20                18.097  18.097  18.097  \n",
       "50                17.914  17.914  17.914  \n",
       "100               17.876  17.876  17.876  \n",
       "200               18.028  18.028  18.028  \n",
       "500               18.254  18.254  18.254  "
      ]
     },
     "execution_count": 46,
     "metadata": {},
     "output_type": "execute_result"
    }
   ],
   "source": [
    "df_scores.sort_values(by='rmse', ascending=True)\n",
    "df_scores_pivot = df_scores.pivot(index='min_samples_leaf', \n",
    "                columns=['max_depth'],\n",
    "                values=['rmse'])\n",
    "df_scores_pivot.round(3)"
   ]
  },
  {
   "cell_type": "code",
   "execution_count": 47,
   "id": "4893c1a4-c248-4988-ba79-fdc9e364cb99",
   "metadata": {
    "execution": {
     "iopub.execute_input": "2023-12-22T23:44:58.251013Z",
     "iopub.status.busy": "2023-12-22T23:44:58.250638Z",
     "iopub.status.idle": "2023-12-22T23:44:58.545582Z",
     "shell.execute_reply": "2023-12-22T23:44:58.544941Z",
     "shell.execute_reply.started": "2023-12-22T23:44:58.250984Z"
    },
    "tags": []
   },
   "outputs": [
    {
     "data": {
      "text/plain": [
       "<Axes: xlabel='popularity', ylabel='Count'>"
      ]
     },
     "execution_count": 47,
     "metadata": {},
     "output_type": "execute_result"
    },
    {
     "data": {
      "image/png": "[encoded data removed]",
      "text/plain": [
       "<Figure size 640x480 with 1 Axes>"
      ]
     },
     "metadata": {},
     "output_type": "display_data"
    }
   ],
   "source": [
    "sns.histplot(y_pred, color='red', alpha=0.5, bins=50) #predictions\n",
    "sns.histplot(y_train, color='blue', alpha=0.5, bins=50) #target values"
   ]
  },
  {
   "cell_type": "markdown",
   "id": "eab7f3bc-88a7-4273-a04c-77aff2efbd62",
   "metadata": {
    "execution": {
     "iopub.execute_input": "2023-12-22T23:45:26.791211Z",
     "iopub.status.busy": "2023-12-22T23:45:26.790826Z",
     "iopub.status.idle": "2023-12-22T23:45:26.794623Z",
     "shell.execute_reply": "2023-12-22T23:45:26.793842Z",
     "shell.execute_reply.started": "2023-12-22T23:45:26.791182Z"
    },
    "tags": []
   },
   "source": [
    "# RANDOM FOREST"
   ]
  },
  {
   "cell_type": "code",
   "execution_count": 50,
   "id": "079a7e1c-5a43-40e0-b52c-c039f68b13f3",
   "metadata": {
    "execution": {
     "iopub.execute_input": "2023-12-23T02:18:30.463083Z",
     "iopub.status.busy": "2023-12-23T02:18:30.462702Z",
     "iopub.status.idle": "2023-12-23T02:18:52.325178Z",
     "shell.execute_reply": "2023-12-23T02:18:52.323877Z",
     "shell.execute_reply.started": "2023-12-23T02:18:30.463056Z"
    },
    "tags": []
   },
   "outputs": [
    {
     "ename": "KeyboardInterrupt",
     "evalue": "",
     "output_type": "error",
     "traceback": [
      "\u001b[0;31m---------------------------------------------------------------------------\u001b[0m",
      "\u001b[0;31mKeyboardInterrupt\u001b[0m                         Traceback (most recent call last)",
      "Cell \u001b[0;32mIn[50], line 9\u001b[0m\n\u001b[1;32m      4\u001b[0m \u001b[38;5;28;01mfor\u001b[39;00m m \u001b[38;5;129;01min\u001b[39;00m [\u001b[38;5;241m50\u001b[39m, \u001b[38;5;241m100\u001b[39m]:\n\u001b[1;32m      5\u001b[0m     rf \u001b[38;5;241m=\u001b[39m RandomForestRegressor(n_estimators\u001b[38;5;241m=\u001b[39mn, \n\u001b[1;32m      6\u001b[0m                                 max_depth\u001b[38;5;241m=\u001b[39mm,\n\u001b[1;32m      7\u001b[0m                                 min_samples_leaf\u001b[38;5;241m=\u001b[39ms,\n\u001b[1;32m      8\u001b[0m                                 random_state\u001b[38;5;241m=\u001b[39m\u001b[38;5;241m1\u001b[39m) \n\u001b[0;32m----> 9\u001b[0m     \u001b[43mrf\u001b[49m\u001b[38;5;241;43m.\u001b[39;49m\u001b[43mfit\u001b[49m\u001b[43m(\u001b[49m\u001b[43mX_train\u001b[49m\u001b[43m,\u001b[49m\u001b[43m \u001b[49m\u001b[43my_train\u001b[49m\u001b[43m)\u001b[49m\n\u001b[1;32m     11\u001b[0m     y_pred \u001b[38;5;241m=\u001b[39m rf\u001b[38;5;241m.\u001b[39mpredict(X_val)\n\u001b[1;32m     12\u001b[0m     _rmse \u001b[38;5;241m=\u001b[39m rmse(y_val, y_pred)\n",
      "File \u001b[0;32m/opt/saturncloud/envs/saturn/lib/python3.10/site-packages/sklearn/base.py:1152\u001b[0m, in \u001b[0;36m_fit_context.<locals>.decorator.<locals>.wrapper\u001b[0;34m(estimator, *args, **kwargs)\u001b[0m\n\u001b[1;32m   1145\u001b[0m     estimator\u001b[38;5;241m.\u001b[39m_validate_params()\n\u001b[1;32m   1147\u001b[0m \u001b[38;5;28;01mwith\u001b[39;00m config_context(\n\u001b[1;32m   1148\u001b[0m     skip_parameter_validation\u001b[38;5;241m=\u001b[39m(\n\u001b[1;32m   1149\u001b[0m         prefer_skip_nested_validation \u001b[38;5;129;01mor\u001b[39;00m global_skip_validation\n\u001b[1;32m   1150\u001b[0m     )\n\u001b[1;32m   1151\u001b[0m ):\n\u001b[0;32m-> 1152\u001b[0m     \u001b[38;5;28;01mreturn\u001b[39;00m \u001b[43mfit_method\u001b[49m\u001b[43m(\u001b[49m\u001b[43mestimator\u001b[49m\u001b[43m,\u001b[49m\u001b[43m \u001b[49m\u001b[38;5;241;43m*\u001b[39;49m\u001b[43margs\u001b[49m\u001b[43m,\u001b[49m\u001b[43m \u001b[49m\u001b[38;5;241;43m*\u001b[39;49m\u001b[38;5;241;43m*\u001b[39;49m\u001b[43mkwargs\u001b[49m\u001b[43m)\u001b[49m\n",
      "File \u001b[0;32m/opt/saturncloud/envs/saturn/lib/python3.10/site-packages/sklearn/ensemble/_forest.py:456\u001b[0m, in \u001b[0;36mBaseForest.fit\u001b[0;34m(self, X, y, sample_weight)\u001b[0m\n\u001b[1;32m    445\u001b[0m trees \u001b[38;5;241m=\u001b[39m [\n\u001b[1;32m    446\u001b[0m     \u001b[38;5;28mself\u001b[39m\u001b[38;5;241m.\u001b[39m_make_estimator(append\u001b[38;5;241m=\u001b[39m\u001b[38;5;28;01mFalse\u001b[39;00m, random_state\u001b[38;5;241m=\u001b[39mrandom_state)\n\u001b[1;32m    447\u001b[0m     \u001b[38;5;28;01mfor\u001b[39;00m i \u001b[38;5;129;01min\u001b[39;00m \u001b[38;5;28mrange\u001b[39m(n_more_estimators)\n\u001b[1;32m    448\u001b[0m ]\n\u001b[1;32m    450\u001b[0m \u001b[38;5;66;03m# Parallel loop: we prefer the threading backend as the Cython code\u001b[39;00m\n\u001b[1;32m    451\u001b[0m \u001b[38;5;66;03m# for fitting the trees is internally releasing the Python GIL\u001b[39;00m\n\u001b[1;32m    452\u001b[0m \u001b[38;5;66;03m# making threading more efficient than multiprocessing in\u001b[39;00m\n\u001b[1;32m    453\u001b[0m \u001b[38;5;66;03m# that case. However, for joblib 0.12+ we respect any\u001b[39;00m\n\u001b[1;32m    454\u001b[0m \u001b[38;5;66;03m# parallel_backend contexts set at a higher level,\u001b[39;00m\n\u001b[1;32m    455\u001b[0m \u001b[38;5;66;03m# since correctness does not rely on using threads.\u001b[39;00m\n\u001b[0;32m--> 456\u001b[0m trees \u001b[38;5;241m=\u001b[39m \u001b[43mParallel\u001b[49m\u001b[43m(\u001b[49m\n\u001b[1;32m    457\u001b[0m \u001b[43m    \u001b[49m\u001b[43mn_jobs\u001b[49m\u001b[38;5;241;43m=\u001b[39;49m\u001b[38;5;28;43mself\u001b[39;49m\u001b[38;5;241;43m.\u001b[39;49m\u001b[43mn_jobs\u001b[49m\u001b[43m,\u001b[49m\n\u001b[1;32m    458\u001b[0m \u001b[43m    \u001b[49m\u001b[43mverbose\u001b[49m\u001b[38;5;241;43m=\u001b[39;49m\u001b[38;5;28;43mself\u001b[39;49m\u001b[38;5;241;43m.\u001b[39;49m\u001b[43mverbose\u001b[49m\u001b[43m,\u001b[49m\n\u001b[1;32m    459\u001b[0m \u001b[43m    \u001b[49m\u001b[43mprefer\u001b[49m\u001b[38;5;241;43m=\u001b[39;49m\u001b[38;5;124;43m\"\u001b[39;49m\u001b[38;5;124;43mthreads\u001b[39;49m\u001b[38;5;124;43m\"\u001b[39;49m\u001b[43m,\u001b[49m\n\u001b[1;32m    460\u001b[0m \u001b[43m\u001b[49m\u001b[43m)\u001b[49m\u001b[43m(\u001b[49m\n\u001b[1;32m    461\u001b[0m \u001b[43m    \u001b[49m\u001b[43mdelayed\u001b[49m\u001b[43m(\u001b[49m\u001b[43m_parallel_build_trees\u001b[49m\u001b[43m)\u001b[49m\u001b[43m(\u001b[49m\n\u001b[1;32m    462\u001b[0m \u001b[43m        \u001b[49m\u001b[43mt\u001b[49m\u001b[43m,\u001b[49m\n\u001b[1;32m    463\u001b[0m \u001b[43m        \u001b[49m\u001b[38;5;28;43mself\u001b[39;49m\u001b[38;5;241;43m.\u001b[39;49m\u001b[43mbootstrap\u001b[49m\u001b[43m,\u001b[49m\n\u001b[1;32m    464\u001b[0m \u001b[43m        \u001b[49m\u001b[43mX\u001b[49m\u001b[43m,\u001b[49m\n\u001b[1;32m    465\u001b[0m \u001b[43m        \u001b[49m\u001b[43my\u001b[49m\u001b[43m,\u001b[49m\n\u001b[1;32m    466\u001b[0m \u001b[43m        \u001b[49m\u001b[43msample_weight\u001b[49m\u001b[43m,\u001b[49m\n\u001b[1;32m    467\u001b[0m \u001b[43m        \u001b[49m\u001b[43mi\u001b[49m\u001b[43m,\u001b[49m\n\u001b[1;32m    468\u001b[0m \u001b[43m        \u001b[49m\u001b[38;5;28;43mlen\u001b[39;49m\u001b[43m(\u001b[49m\u001b[43mtrees\u001b[49m\u001b[43m)\u001b[49m\u001b[43m,\u001b[49m\n\u001b[1;32m    469\u001b[0m \u001b[43m        \u001b[49m\u001b[43mverbose\u001b[49m\u001b[38;5;241;43m=\u001b[39;49m\u001b[38;5;28;43mself\u001b[39;49m\u001b[38;5;241;43m.\u001b[39;49m\u001b[43mverbose\u001b[49m\u001b[43m,\u001b[49m\n\u001b[1;32m    470\u001b[0m \u001b[43m        \u001b[49m\u001b[43mclass_weight\u001b[49m\u001b[38;5;241;43m=\u001b[39;49m\u001b[38;5;28;43mself\u001b[39;49m\u001b[38;5;241;43m.\u001b[39;49m\u001b[43mclass_weight\u001b[49m\u001b[43m,\u001b[49m\n\u001b[1;32m    471\u001b[0m \u001b[43m        \u001b[49m\u001b[43mn_samples_bootstrap\u001b[49m\u001b[38;5;241;43m=\u001b[39;49m\u001b[43mn_samples_bootstrap\u001b[49m\u001b[43m,\u001b[49m\n\u001b[1;32m    472\u001b[0m \u001b[43m    \u001b[49m\u001b[43m)\u001b[49m\n\u001b[1;32m    473\u001b[0m \u001b[43m    \u001b[49m\u001b[38;5;28;43;01mfor\u001b[39;49;00m\u001b[43m \u001b[49m\u001b[43mi\u001b[49m\u001b[43m,\u001b[49m\u001b[43m \u001b[49m\u001b[43mt\u001b[49m\u001b[43m \u001b[49m\u001b[38;5;129;43;01min\u001b[39;49;00m\u001b[43m \u001b[49m\u001b[38;5;28;43menumerate\u001b[39;49m\u001b[43m(\u001b[49m\u001b[43mtrees\u001b[49m\u001b[43m)\u001b[49m\n\u001b[1;32m    474\u001b[0m \u001b[43m\u001b[49m\u001b[43m)\u001b[49m\n\u001b[1;32m    476\u001b[0m \u001b[38;5;66;03m# Collect newly grown trees\u001b[39;00m\n\u001b[1;32m    477\u001b[0m \u001b[38;5;28mself\u001b[39m\u001b[38;5;241m.\u001b[39mestimators_\u001b[38;5;241m.\u001b[39mextend(trees)\n",
      "File \u001b[0;32m/opt/saturncloud/envs/saturn/lib/python3.10/site-packages/sklearn/utils/parallel.py:65\u001b[0m, in \u001b[0;36mParallel.__call__\u001b[0;34m(self, iterable)\u001b[0m\n\u001b[1;32m     60\u001b[0m config \u001b[38;5;241m=\u001b[39m get_config()\n\u001b[1;32m     61\u001b[0m iterable_with_config \u001b[38;5;241m=\u001b[39m (\n\u001b[1;32m     62\u001b[0m     (_with_config(delayed_func, config), args, kwargs)\n\u001b[1;32m     63\u001b[0m     \u001b[38;5;28;01mfor\u001b[39;00m delayed_func, args, kwargs \u001b[38;5;129;01min\u001b[39;00m iterable\n\u001b[1;32m     64\u001b[0m )\n\u001b[0;32m---> 65\u001b[0m \u001b[38;5;28;01mreturn\u001b[39;00m \u001b[38;5;28;43msuper\u001b[39;49m\u001b[43m(\u001b[49m\u001b[43m)\u001b[49m\u001b[38;5;241;43m.\u001b[39;49m\u001b[38;5;21;43m__call__\u001b[39;49m\u001b[43m(\u001b[49m\u001b[43miterable_with_config\u001b[49m\u001b[43m)\u001b[49m\n",
      "File \u001b[0;32m/opt/saturncloud/envs/saturn/lib/python3.10/site-packages/joblib/parallel.py:1863\u001b[0m, in \u001b[0;36mParallel.__call__\u001b[0;34m(self, iterable)\u001b[0m\n\u001b[1;32m   1861\u001b[0m     output \u001b[38;5;241m=\u001b[39m \u001b[38;5;28mself\u001b[39m\u001b[38;5;241m.\u001b[39m_get_sequential_output(iterable)\n\u001b[1;32m   1862\u001b[0m     \u001b[38;5;28mnext\u001b[39m(output)\n\u001b[0;32m-> 1863\u001b[0m     \u001b[38;5;28;01mreturn\u001b[39;00m output \u001b[38;5;28;01mif\u001b[39;00m \u001b[38;5;28mself\u001b[39m\u001b[38;5;241m.\u001b[39mreturn_generator \u001b[38;5;28;01melse\u001b[39;00m \u001b[38;5;28;43mlist\u001b[39;49m\u001b[43m(\u001b[49m\u001b[43moutput\u001b[49m\u001b[43m)\u001b[49m\n\u001b[1;32m   1865\u001b[0m \u001b[38;5;66;03m# Let's create an ID that uniquely identifies the current call. If the\u001b[39;00m\n\u001b[1;32m   1866\u001b[0m \u001b[38;5;66;03m# call is interrupted early and that the same instance is immediately\u001b[39;00m\n\u001b[1;32m   1867\u001b[0m \u001b[38;5;66;03m# re-used, this id will be used to prevent workers that were\u001b[39;00m\n\u001b[1;32m   1868\u001b[0m \u001b[38;5;66;03m# concurrently finalizing a task from the previous call to run the\u001b[39;00m\n\u001b[1;32m   1869\u001b[0m \u001b[38;5;66;03m# callback.\u001b[39;00m\n\u001b[1;32m   1870\u001b[0m \u001b[38;5;28;01mwith\u001b[39;00m \u001b[38;5;28mself\u001b[39m\u001b[38;5;241m.\u001b[39m_lock:\n",
      "File \u001b[0;32m/opt/saturncloud/envs/saturn/lib/python3.10/site-packages/joblib/parallel.py:1792\u001b[0m, in \u001b[0;36mParallel._get_sequential_output\u001b[0;34m(self, iterable)\u001b[0m\n\u001b[1;32m   1790\u001b[0m \u001b[38;5;28mself\u001b[39m\u001b[38;5;241m.\u001b[39mn_dispatched_batches \u001b[38;5;241m+\u001b[39m\u001b[38;5;241m=\u001b[39m \u001b[38;5;241m1\u001b[39m\n\u001b[1;32m   1791\u001b[0m \u001b[38;5;28mself\u001b[39m\u001b[38;5;241m.\u001b[39mn_dispatched_tasks \u001b[38;5;241m+\u001b[39m\u001b[38;5;241m=\u001b[39m \u001b[38;5;241m1\u001b[39m\n\u001b[0;32m-> 1792\u001b[0m res \u001b[38;5;241m=\u001b[39m \u001b[43mfunc\u001b[49m\u001b[43m(\u001b[49m\u001b[38;5;241;43m*\u001b[39;49m\u001b[43margs\u001b[49m\u001b[43m,\u001b[49m\u001b[43m \u001b[49m\u001b[38;5;241;43m*\u001b[39;49m\u001b[38;5;241;43m*\u001b[39;49m\u001b[43mkwargs\u001b[49m\u001b[43m)\u001b[49m\n\u001b[1;32m   1793\u001b[0m \u001b[38;5;28mself\u001b[39m\u001b[38;5;241m.\u001b[39mn_completed_tasks \u001b[38;5;241m+\u001b[39m\u001b[38;5;241m=\u001b[39m \u001b[38;5;241m1\u001b[39m\n\u001b[1;32m   1794\u001b[0m \u001b[38;5;28mself\u001b[39m\u001b[38;5;241m.\u001b[39mprint_progress()\n",
      "File \u001b[0;32m/opt/saturncloud/envs/saturn/lib/python3.10/site-packages/sklearn/utils/parallel.py:127\u001b[0m, in \u001b[0;36m_FuncWrapper.__call__\u001b[0;34m(self, *args, **kwargs)\u001b[0m\n\u001b[1;32m    125\u001b[0m     config \u001b[38;5;241m=\u001b[39m {}\n\u001b[1;32m    126\u001b[0m \u001b[38;5;28;01mwith\u001b[39;00m config_context(\u001b[38;5;241m*\u001b[39m\u001b[38;5;241m*\u001b[39mconfig):\n\u001b[0;32m--> 127\u001b[0m     \u001b[38;5;28;01mreturn\u001b[39;00m \u001b[38;5;28;43mself\u001b[39;49m\u001b[38;5;241;43m.\u001b[39;49m\u001b[43mfunction\u001b[49m\u001b[43m(\u001b[49m\u001b[38;5;241;43m*\u001b[39;49m\u001b[43margs\u001b[49m\u001b[43m,\u001b[49m\u001b[43m \u001b[49m\u001b[38;5;241;43m*\u001b[39;49m\u001b[38;5;241;43m*\u001b[39;49m\u001b[43mkwargs\u001b[49m\u001b[43m)\u001b[49m\n",
      "File \u001b[0;32m/opt/saturncloud/envs/saturn/lib/python3.10/site-packages/sklearn/ensemble/_forest.py:188\u001b[0m, in \u001b[0;36m_parallel_build_trees\u001b[0;34m(tree, bootstrap, X, y, sample_weight, tree_idx, n_trees, verbose, class_weight, n_samples_bootstrap)\u001b[0m\n\u001b[1;32m    185\u001b[0m     \u001b[38;5;28;01melif\u001b[39;00m class_weight \u001b[38;5;241m==\u001b[39m \u001b[38;5;124m\"\u001b[39m\u001b[38;5;124mbalanced_subsample\u001b[39m\u001b[38;5;124m\"\u001b[39m:\n\u001b[1;32m    186\u001b[0m         curr_sample_weight \u001b[38;5;241m*\u001b[39m\u001b[38;5;241m=\u001b[39m compute_sample_weight(\u001b[38;5;124m\"\u001b[39m\u001b[38;5;124mbalanced\u001b[39m\u001b[38;5;124m\"\u001b[39m, y, indices\u001b[38;5;241m=\u001b[39mindices)\n\u001b[0;32m--> 188\u001b[0m     \u001b[43mtree\u001b[49m\u001b[38;5;241;43m.\u001b[39;49m\u001b[43mfit\u001b[49m\u001b[43m(\u001b[49m\u001b[43mX\u001b[49m\u001b[43m,\u001b[49m\u001b[43m \u001b[49m\u001b[43my\u001b[49m\u001b[43m,\u001b[49m\u001b[43m \u001b[49m\u001b[43msample_weight\u001b[49m\u001b[38;5;241;43m=\u001b[39;49m\u001b[43mcurr_sample_weight\u001b[49m\u001b[43m,\u001b[49m\u001b[43m \u001b[49m\u001b[43mcheck_input\u001b[49m\u001b[38;5;241;43m=\u001b[39;49m\u001b[38;5;28;43;01mFalse\u001b[39;49;00m\u001b[43m)\u001b[49m\n\u001b[1;32m    189\u001b[0m \u001b[38;5;28;01melse\u001b[39;00m:\n\u001b[1;32m    190\u001b[0m     tree\u001b[38;5;241m.\u001b[39mfit(X, y, sample_weight\u001b[38;5;241m=\u001b[39msample_weight, check_input\u001b[38;5;241m=\u001b[39m\u001b[38;5;28;01mFalse\u001b[39;00m)\n",
      "File \u001b[0;32m/opt/saturncloud/envs/saturn/lib/python3.10/site-packages/sklearn/base.py:1152\u001b[0m, in \u001b[0;36m_fit_context.<locals>.decorator.<locals>.wrapper\u001b[0;34m(estimator, *args, **kwargs)\u001b[0m\n\u001b[1;32m   1145\u001b[0m     estimator\u001b[38;5;241m.\u001b[39m_validate_params()\n\u001b[1;32m   1147\u001b[0m \u001b[38;5;28;01mwith\u001b[39;00m config_context(\n\u001b[1;32m   1148\u001b[0m     skip_parameter_validation\u001b[38;5;241m=\u001b[39m(\n\u001b[1;32m   1149\u001b[0m         prefer_skip_nested_validation \u001b[38;5;129;01mor\u001b[39;00m global_skip_validation\n\u001b[1;32m   1150\u001b[0m     )\n\u001b[1;32m   1151\u001b[0m ):\n\u001b[0;32m-> 1152\u001b[0m     \u001b[38;5;28;01mreturn\u001b[39;00m \u001b[43mfit_method\u001b[49m\u001b[43m(\u001b[49m\u001b[43mestimator\u001b[49m\u001b[43m,\u001b[49m\u001b[43m \u001b[49m\u001b[38;5;241;43m*\u001b[39;49m\u001b[43margs\u001b[49m\u001b[43m,\u001b[49m\u001b[43m \u001b[49m\u001b[38;5;241;43m*\u001b[39;49m\u001b[38;5;241;43m*\u001b[39;49m\u001b[43mkwargs\u001b[49m\u001b[43m)\u001b[49m\n",
      "File \u001b[0;32m/opt/saturncloud/envs/saturn/lib/python3.10/site-packages/sklearn/tree/_classes.py:1320\u001b[0m, in \u001b[0;36mDecisionTreeRegressor.fit\u001b[0;34m(self, X, y, sample_weight, check_input)\u001b[0m\n\u001b[1;32m   1290\u001b[0m \u001b[38;5;129m@_fit_context\u001b[39m(prefer_skip_nested_validation\u001b[38;5;241m=\u001b[39m\u001b[38;5;28;01mTrue\u001b[39;00m)\n\u001b[1;32m   1291\u001b[0m \u001b[38;5;28;01mdef\u001b[39;00m \u001b[38;5;21mfit\u001b[39m(\u001b[38;5;28mself\u001b[39m, X, y, sample_weight\u001b[38;5;241m=\u001b[39m\u001b[38;5;28;01mNone\u001b[39;00m, check_input\u001b[38;5;241m=\u001b[39m\u001b[38;5;28;01mTrue\u001b[39;00m):\n\u001b[1;32m   1292\u001b[0m \u001b[38;5;250m    \u001b[39m\u001b[38;5;124;03m\"\"\"Build a decision tree regressor from the training set (X, y).\u001b[39;00m\n\u001b[1;32m   1293\u001b[0m \n\u001b[1;32m   1294\u001b[0m \u001b[38;5;124;03m    Parameters\u001b[39;00m\n\u001b[0;32m   (...)\u001b[0m\n\u001b[1;32m   1317\u001b[0m \u001b[38;5;124;03m        Fitted estimator.\u001b[39;00m\n\u001b[1;32m   1318\u001b[0m \u001b[38;5;124;03m    \"\"\"\u001b[39;00m\n\u001b[0;32m-> 1320\u001b[0m     \u001b[38;5;28;43msuper\u001b[39;49m\u001b[43m(\u001b[49m\u001b[43m)\u001b[49m\u001b[38;5;241;43m.\u001b[39;49m\u001b[43m_fit\u001b[49m\u001b[43m(\u001b[49m\n\u001b[1;32m   1321\u001b[0m \u001b[43m        \u001b[49m\u001b[43mX\u001b[49m\u001b[43m,\u001b[49m\n\u001b[1;32m   1322\u001b[0m \u001b[43m        \u001b[49m\u001b[43my\u001b[49m\u001b[43m,\u001b[49m\n\u001b[1;32m   1323\u001b[0m \u001b[43m        \u001b[49m\u001b[43msample_weight\u001b[49m\u001b[38;5;241;43m=\u001b[39;49m\u001b[43msample_weight\u001b[49m\u001b[43m,\u001b[49m\n\u001b[1;32m   1324\u001b[0m \u001b[43m        \u001b[49m\u001b[43mcheck_input\u001b[49m\u001b[38;5;241;43m=\u001b[39;49m\u001b[43mcheck_input\u001b[49m\u001b[43m,\u001b[49m\n\u001b[1;32m   1325\u001b[0m \u001b[43m    \u001b[49m\u001b[43m)\u001b[49m\n\u001b[1;32m   1326\u001b[0m     \u001b[38;5;28;01mreturn\u001b[39;00m \u001b[38;5;28mself\u001b[39m\n",
      "File \u001b[0;32m/opt/saturncloud/envs/saturn/lib/python3.10/site-packages/sklearn/tree/_classes.py:443\u001b[0m, in \u001b[0;36mBaseDecisionTree._fit\u001b[0;34m(self, X, y, sample_weight, check_input, missing_values_in_feature_mask)\u001b[0m\n\u001b[1;32m    432\u001b[0m \u001b[38;5;28;01melse\u001b[39;00m:\n\u001b[1;32m    433\u001b[0m     builder \u001b[38;5;241m=\u001b[39m BestFirstTreeBuilder(\n\u001b[1;32m    434\u001b[0m         splitter,\n\u001b[1;32m    435\u001b[0m         min_samples_split,\n\u001b[0;32m   (...)\u001b[0m\n\u001b[1;32m    440\u001b[0m         \u001b[38;5;28mself\u001b[39m\u001b[38;5;241m.\u001b[39mmin_impurity_decrease,\n\u001b[1;32m    441\u001b[0m     )\n\u001b[0;32m--> 443\u001b[0m \u001b[43mbuilder\u001b[49m\u001b[38;5;241;43m.\u001b[39;49m\u001b[43mbuild\u001b[49m\u001b[43m(\u001b[49m\u001b[38;5;28;43mself\u001b[39;49m\u001b[38;5;241;43m.\u001b[39;49m\u001b[43mtree_\u001b[49m\u001b[43m,\u001b[49m\u001b[43m \u001b[49m\u001b[43mX\u001b[49m\u001b[43m,\u001b[49m\u001b[43m \u001b[49m\u001b[43my\u001b[49m\u001b[43m,\u001b[49m\u001b[43m \u001b[49m\u001b[43msample_weight\u001b[49m\u001b[43m,\u001b[49m\u001b[43m \u001b[49m\u001b[43mmissing_values_in_feature_mask\u001b[49m\u001b[43m)\u001b[49m\n\u001b[1;32m    445\u001b[0m \u001b[38;5;28;01mif\u001b[39;00m \u001b[38;5;28mself\u001b[39m\u001b[38;5;241m.\u001b[39mn_outputs_ \u001b[38;5;241m==\u001b[39m \u001b[38;5;241m1\u001b[39m \u001b[38;5;129;01mand\u001b[39;00m is_classifier(\u001b[38;5;28mself\u001b[39m):\n\u001b[1;32m    446\u001b[0m     \u001b[38;5;28mself\u001b[39m\u001b[38;5;241m.\u001b[39mn_classes_ \u001b[38;5;241m=\u001b[39m \u001b[38;5;28mself\u001b[39m\u001b[38;5;241m.\u001b[39mn_classes_[\u001b[38;5;241m0\u001b[39m]\n",
      "\u001b[0;31mKeyboardInterrupt\u001b[0m: "
     ]
    }
   ],
   "source": [
    "scores = []\n",
    "for s in [1, 10, 50]:\n",
    "    for n in range(10, 201, 50):\n",
    "        for m in [50, 100]:\n",
    "            rf = RandomForestRegressor(n_estimators=n, \n",
    "                                        max_depth=m,\n",
    "                                        min_samples_leaf=s,\n",
    "                                        random_state=1) \n",
    "            rf.fit(X_train, y_train)\n",
    "\n",
    "            y_pred = rf.predict(X_val)\n",
    "            _rmse = rmse(y_val, y_pred)\n",
    "            scores.append((s, n, _rmse))\n",
    "\n",
    "            print((s, n, m, _rmse))"
   ]
  },
  {
   "cell_type": "code",
   "execution_count": null,
   "id": "714140a2-06c2-404e-a14b-c33eb1c8a3a2",
   "metadata": {},
   "outputs": [],
   "source": [
    "#The best: -> DA MODIFICARE\n",
    "#train\n",
    "dicts_ft = df_full_train.to_dict(orient='records')\n",
    "dv = DictVectorizer(sparse = False)\n",
    "X_full_train = dv.fit_transform(dicts_ft)\n",
    "    \n",
    "rf = RandomForestRegressor(n_estimators=110, \n",
    "                           max_depth= 160,\n",
    "                           min_samples_leaf=100,\n",
    "                           random_state=1)\n",
    "rf.fit(X_full_train, y_full_train)\n",
    "#predict\n",
    "dicts_test = df_test.to_dict(orient='records')\n",
    "   \n",
    "X_test = dv.transform(dicts_test)\n",
    "y_pred = rf.predict(X_test)\n",
    "\n",
    "_rmse = rmse(y_test, y_pred)\n",
    "_rmse"
   ]
  }
 ],
 "metadata": {
  "kernelspec": {
   "display_name": "saturn (Python 3)",
   "language": "python",
   "name": "python3"
  },
  "language_info": {
   "codemirror_mode": {
    "name": "ipython",
    "version": 3
   },
   "file_extension": ".py",
   "mimetype": "text/x-python",
   "name": "python",
   "nbconvert_exporter": "python",
   "pygments_lexer": "ipython3",
   "version": "3.10.13"
  }
 },
 "nbformat": 4,
 "nbformat_minor": 5
}
