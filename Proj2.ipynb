{
 "cells": [
  {
   "cell_type": "code",
   "execution_count": 1,
   "id": "c95e1d0c",
   "metadata": {
    "execution": {
     "iopub.execute_input": "2023-12-28T09:20:51.532994Z",
     "iopub.status.busy": "2023-12-28T09:20:51.532613Z",
     "iopub.status.idle": "2023-12-28T09:20:54.919523Z",
     "shell.execute_reply": "2023-12-28T09:20:54.918922Z",
     "shell.execute_reply.started": "2023-12-28T09:20:51.532968Z"
    },
    "tags": []
   },
   "outputs": [],
   "source": [
    "import numpy as np\n",
    "import pandas as pd\n",
    "\n",
    "from sklearn.model_selection import train_test_split\n",
    "from sklearn.feature_extraction import DictVectorizer\n",
    "from sklearn.tree import DecisionTreeRegressor\n",
    "from sklearn.tree import export_text\n",
    "from sklearn.ensemble import RandomForestRegressor\n",
    "\n",
    "import seaborn as sns\n",
    "from matplotlib import pyplot as plt\n",
    "%matplotlib inline"
   ]
  },
  {
   "cell_type": "code",
   "execution_count": 2,
   "id": "fc48ea65",
   "metadata": {
    "execution": {
     "iopub.execute_input": "2023-12-28T09:20:54.920949Z",
     "iopub.status.busy": "2023-12-28T09:20:54.920636Z",
     "iopub.status.idle": "2023-12-28T09:20:55.379114Z",
     "shell.execute_reply": "2023-12-28T09:20:55.378560Z",
     "shell.execute_reply.started": "2023-12-28T09:20:54.920927Z"
    },
    "tags": []
   },
   "outputs": [
    {
     "data": {
      "text/plain": [
       "(114000, 21)"
      ]
     },
     "execution_count": 2,
     "metadata": {},
     "output_type": "execute_result"
    }
   ],
   "source": [
    "df = pd.read_csv('data/spotify.csv')\n",
    "df.shape"
   ]
  },
  {
   "cell_type": "markdown",
   "id": "25aebab9",
   "metadata": {},
   "source": [
    "Dataset from kaggle: https://www.kaggle.com/datasets/thedevastator/spotify-tracks-genre-dataset/data"
   ]
  },
  {
   "cell_type": "code",
   "execution_count": 3,
   "id": "3433da05",
   "metadata": {
    "execution": {
     "iopub.execute_input": "2023-12-28T09:20:55.380095Z",
     "iopub.status.busy": "2023-12-28T09:20:55.379879Z",
     "iopub.status.idle": "2023-12-28T09:20:55.460352Z",
     "shell.execute_reply": "2023-12-28T09:20:55.459638Z",
     "shell.execute_reply.started": "2023-12-28T09:20:55.380074Z"
    },
    "tags": []
   },
   "outputs": [
    {
     "data": {
      "text/html": [
       "<div>\n",
       "<style scoped>\n",
       "    .dataframe tbody tr th:only-of-type {\n",
       "        vertical-align: middle;\n",
       "    }\n",
       "\n",
       "    .dataframe tbody tr th {\n",
       "        vertical-align: top;\n",
       "    }\n",
       "\n",
       "    .dataframe thead th {\n",
       "        text-align: right;\n",
       "    }\n",
       "</style>\n",
       "<table border=\"1\" class=\"dataframe\">\n",
       "  <thead>\n",
       "    <tr style=\"text-align: right;\">\n",
       "      <th></th>\n",
       "      <th>Unnamed: 0</th>\n",
       "      <th>track_id</th>\n",
       "      <th>artists</th>\n",
       "      <th>album_name</th>\n",
       "      <th>track_name</th>\n",
       "      <th>popularity</th>\n",
       "      <th>duration_ms</th>\n",
       "      <th>explicit</th>\n",
       "      <th>danceability</th>\n",
       "      <th>energy</th>\n",
       "      <th>...</th>\n",
       "      <th>loudness</th>\n",
       "      <th>mode</th>\n",
       "      <th>speechiness</th>\n",
       "      <th>acousticness</th>\n",
       "      <th>instrumentalness</th>\n",
       "      <th>liveness</th>\n",
       "      <th>valence</th>\n",
       "      <th>tempo</th>\n",
       "      <th>time_signature</th>\n",
       "      <th>track_genre</th>\n",
       "    </tr>\n",
       "  </thead>\n",
       "  <tbody>\n",
       "    <tr>\n",
       "      <th>0</th>\n",
       "      <td>0</td>\n",
       "      <td>5SuOikwiRyPMVoIQDJUgSV</td>\n",
       "      <td>Gen Hoshino</td>\n",
       "      <td>Comedy</td>\n",
       "      <td>Comedy</td>\n",
       "      <td>73</td>\n",
       "      <td>230666</td>\n",
       "      <td>False</td>\n",
       "      <td>0.676</td>\n",
       "      <td>0.4610</td>\n",
       "      <td>...</td>\n",
       "      <td>-6.746</td>\n",
       "      <td>0</td>\n",
       "      <td>0.1430</td>\n",
       "      <td>0.0322</td>\n",
       "      <td>0.000001</td>\n",
       "      <td>0.3580</td>\n",
       "      <td>0.715</td>\n",
       "      <td>87.917</td>\n",
       "      <td>4</td>\n",
       "      <td>acoustic</td>\n",
       "    </tr>\n",
       "    <tr>\n",
       "      <th>1</th>\n",
       "      <td>1</td>\n",
       "      <td>4qPNDBW1i3p13qLCt0Ki3A</td>\n",
       "      <td>Ben Woodward</td>\n",
       "      <td>Ghost (Acoustic)</td>\n",
       "      <td>Ghost - Acoustic</td>\n",
       "      <td>55</td>\n",
       "      <td>149610</td>\n",
       "      <td>False</td>\n",
       "      <td>0.420</td>\n",
       "      <td>0.1660</td>\n",
       "      <td>...</td>\n",
       "      <td>-17.235</td>\n",
       "      <td>1</td>\n",
       "      <td>0.0763</td>\n",
       "      <td>0.9240</td>\n",
       "      <td>0.000006</td>\n",
       "      <td>0.1010</td>\n",
       "      <td>0.267</td>\n",
       "      <td>77.489</td>\n",
       "      <td>4</td>\n",
       "      <td>acoustic</td>\n",
       "    </tr>\n",
       "    <tr>\n",
       "      <th>2</th>\n",
       "      <td>2</td>\n",
       "      <td>1iJBSr7s7jYXzM8EGcbK5b</td>\n",
       "      <td>Ingrid Michaelson;ZAYN</td>\n",
       "      <td>To Begin Again</td>\n",
       "      <td>To Begin Again</td>\n",
       "      <td>57</td>\n",
       "      <td>210826</td>\n",
       "      <td>False</td>\n",
       "      <td>0.438</td>\n",
       "      <td>0.3590</td>\n",
       "      <td>...</td>\n",
       "      <td>-9.734</td>\n",
       "      <td>1</td>\n",
       "      <td>0.0557</td>\n",
       "      <td>0.2100</td>\n",
       "      <td>0.000000</td>\n",
       "      <td>0.1170</td>\n",
       "      <td>0.120</td>\n",
       "      <td>76.332</td>\n",
       "      <td>4</td>\n",
       "      <td>acoustic</td>\n",
       "    </tr>\n",
       "    <tr>\n",
       "      <th>3</th>\n",
       "      <td>3</td>\n",
       "      <td>6lfxq3CG4xtTiEg7opyCyx</td>\n",
       "      <td>Kina Grannis</td>\n",
       "      <td>Crazy Rich Asians (Original Motion Picture Sou...</td>\n",
       "      <td>Can't Help Falling In Love</td>\n",
       "      <td>71</td>\n",
       "      <td>201933</td>\n",
       "      <td>False</td>\n",
       "      <td>0.266</td>\n",
       "      <td>0.0596</td>\n",
       "      <td>...</td>\n",
       "      <td>-18.515</td>\n",
       "      <td>1</td>\n",
       "      <td>0.0363</td>\n",
       "      <td>0.9050</td>\n",
       "      <td>0.000071</td>\n",
       "      <td>0.1320</td>\n",
       "      <td>0.143</td>\n",
       "      <td>181.740</td>\n",
       "      <td>3</td>\n",
       "      <td>acoustic</td>\n",
       "    </tr>\n",
       "    <tr>\n",
       "      <th>4</th>\n",
       "      <td>4</td>\n",
       "      <td>5vjLSffimiIP26QG5WcN2K</td>\n",
       "      <td>Chord Overstreet</td>\n",
       "      <td>Hold On</td>\n",
       "      <td>Hold On</td>\n",
       "      <td>82</td>\n",
       "      <td>198853</td>\n",
       "      <td>False</td>\n",
       "      <td>0.618</td>\n",
       "      <td>0.4430</td>\n",
       "      <td>...</td>\n",
       "      <td>-9.681</td>\n",
       "      <td>1</td>\n",
       "      <td>0.0526</td>\n",
       "      <td>0.4690</td>\n",
       "      <td>0.000000</td>\n",
       "      <td>0.0829</td>\n",
       "      <td>0.167</td>\n",
       "      <td>119.949</td>\n",
       "      <td>4</td>\n",
       "      <td>acoustic</td>\n",
       "    </tr>\n",
       "  </tbody>\n",
       "</table>\n",
       "<p>5 rows × 21 columns</p>\n",
       "</div>"
      ],
      "text/plain": [
       "   Unnamed: 0                track_id                 artists  \\\n",
       "0           0  5SuOikwiRyPMVoIQDJUgSV             Gen Hoshino   \n",
       "1           1  4qPNDBW1i3p13qLCt0Ki3A            Ben Woodward   \n",
       "2           2  1iJBSr7s7jYXzM8EGcbK5b  Ingrid Michaelson;ZAYN   \n",
       "3           3  6lfxq3CG4xtTiEg7opyCyx            Kina Grannis   \n",
       "4           4  5vjLSffimiIP26QG5WcN2K        Chord Overstreet   \n",
       "\n",
       "                                          album_name  \\\n",
       "0                                             Comedy   \n",
       "1                                   Ghost (Acoustic)   \n",
       "2                                     To Begin Again   \n",
       "3  Crazy Rich Asians (Original Motion Picture Sou...   \n",
       "4                                            Hold On   \n",
       "\n",
       "                   track_name  popularity  duration_ms  explicit  \\\n",
       "0                      Comedy          73       230666     False   \n",
       "1            Ghost - Acoustic          55       149610     False   \n",
       "2              To Begin Again          57       210826     False   \n",
       "3  Can't Help Falling In Love          71       201933     False   \n",
       "4                     Hold On          82       198853     False   \n",
       "\n",
       "   danceability  energy  ...  loudness  mode  speechiness  acousticness  \\\n",
       "0         0.676  0.4610  ...    -6.746     0       0.1430        0.0322   \n",
       "1         0.420  0.1660  ...   -17.235     1       0.0763        0.9240   \n",
       "2         0.438  0.3590  ...    -9.734     1       0.0557        0.2100   \n",
       "3         0.266  0.0596  ...   -18.515     1       0.0363        0.9050   \n",
       "4         0.618  0.4430  ...    -9.681     1       0.0526        0.4690   \n",
       "\n",
       "   instrumentalness  liveness  valence    tempo  time_signature  track_genre  \n",
       "0          0.000001    0.3580    0.715   87.917               4     acoustic  \n",
       "1          0.000006    0.1010    0.267   77.489               4     acoustic  \n",
       "2          0.000000    0.1170    0.120   76.332               4     acoustic  \n",
       "3          0.000071    0.1320    0.143  181.740               3     acoustic  \n",
       "4          0.000000    0.0829    0.167  119.949               4     acoustic  \n",
       "\n",
       "[5 rows x 21 columns]"
      ]
     },
     "execution_count": 3,
     "metadata": {},
     "output_type": "execute_result"
    }
   ],
   "source": [
    "df.head()"
   ]
  },
  {
   "cell_type": "code",
   "execution_count": 4,
   "id": "b9602999",
   "metadata": {
    "execution": {
     "iopub.execute_input": "2023-12-28T09:20:55.463034Z",
     "iopub.status.busy": "2023-12-28T09:20:55.462431Z",
     "iopub.status.idle": "2023-12-28T09:20:55.480773Z",
     "shell.execute_reply": "2023-12-28T09:20:55.480125Z",
     "shell.execute_reply.started": "2023-12-28T09:20:55.462996Z"
    },
    "tags": []
   },
   "outputs": [
    {
     "data": {
      "text/html": [
       "<div>\n",
       "<style scoped>\n",
       "    .dataframe tbody tr th:only-of-type {\n",
       "        vertical-align: middle;\n",
       "    }\n",
       "\n",
       "    .dataframe tbody tr th {\n",
       "        vertical-align: top;\n",
       "    }\n",
       "\n",
       "    .dataframe thead th {\n",
       "        text-align: right;\n",
       "    }\n",
       "</style>\n",
       "<table border=\"1\" class=\"dataframe\">\n",
       "  <thead>\n",
       "    <tr style=\"text-align: right;\">\n",
       "      <th></th>\n",
       "      <th>Unnamed: 0</th>\n",
       "      <th>track_id</th>\n",
       "      <th>artists</th>\n",
       "      <th>album_name</th>\n",
       "      <th>track_name</th>\n",
       "      <th>popularity</th>\n",
       "      <th>duration_ms</th>\n",
       "      <th>explicit</th>\n",
       "      <th>danceability</th>\n",
       "      <th>energy</th>\n",
       "      <th>...</th>\n",
       "      <th>loudness</th>\n",
       "      <th>mode</th>\n",
       "      <th>speechiness</th>\n",
       "      <th>acousticness</th>\n",
       "      <th>instrumentalness</th>\n",
       "      <th>liveness</th>\n",
       "      <th>valence</th>\n",
       "      <th>tempo</th>\n",
       "      <th>time_signature</th>\n",
       "      <th>track_genre</th>\n",
       "    </tr>\n",
       "  </thead>\n",
       "  <tbody>\n",
       "    <tr>\n",
       "      <th>113995</th>\n",
       "      <td>113995</td>\n",
       "      <td>2C3TZjDRiAzdyViavDJ217</td>\n",
       "      <td>Rainy Lullaby</td>\n",
       "      <td>#mindfulness - Soft Rain for Mindful Meditatio...</td>\n",
       "      <td>Sleep My Little Boy</td>\n",
       "      <td>21</td>\n",
       "      <td>384999</td>\n",
       "      <td>False</td>\n",
       "      <td>0.172</td>\n",
       "      <td>0.235</td>\n",
       "      <td>...</td>\n",
       "      <td>-16.393</td>\n",
       "      <td>1</td>\n",
       "      <td>0.0422</td>\n",
       "      <td>0.640</td>\n",
       "      <td>0.928</td>\n",
       "      <td>0.0863</td>\n",
       "      <td>0.0339</td>\n",
       "      <td>125.995</td>\n",
       "      <td>5</td>\n",
       "      <td>world-music</td>\n",
       "    </tr>\n",
       "    <tr>\n",
       "      <th>113996</th>\n",
       "      <td>113996</td>\n",
       "      <td>1hIz5L4IB9hN3WRYPOCGPw</td>\n",
       "      <td>Rainy Lullaby</td>\n",
       "      <td>#mindfulness - Soft Rain for Mindful Meditatio...</td>\n",
       "      <td>Water Into Light</td>\n",
       "      <td>22</td>\n",
       "      <td>385000</td>\n",
       "      <td>False</td>\n",
       "      <td>0.174</td>\n",
       "      <td>0.117</td>\n",
       "      <td>...</td>\n",
       "      <td>-18.318</td>\n",
       "      <td>0</td>\n",
       "      <td>0.0401</td>\n",
       "      <td>0.994</td>\n",
       "      <td>0.976</td>\n",
       "      <td>0.1050</td>\n",
       "      <td>0.0350</td>\n",
       "      <td>85.239</td>\n",
       "      <td>4</td>\n",
       "      <td>world-music</td>\n",
       "    </tr>\n",
       "    <tr>\n",
       "      <th>113997</th>\n",
       "      <td>113997</td>\n",
       "      <td>6x8ZfSoqDjuNa5SVP5QjvX</td>\n",
       "      <td>Cesária Evora</td>\n",
       "      <td>Best Of</td>\n",
       "      <td>Miss Perfumado</td>\n",
       "      <td>22</td>\n",
       "      <td>271466</td>\n",
       "      <td>False</td>\n",
       "      <td>0.629</td>\n",
       "      <td>0.329</td>\n",
       "      <td>...</td>\n",
       "      <td>-10.895</td>\n",
       "      <td>0</td>\n",
       "      <td>0.0420</td>\n",
       "      <td>0.867</td>\n",
       "      <td>0.000</td>\n",
       "      <td>0.0839</td>\n",
       "      <td>0.7430</td>\n",
       "      <td>132.378</td>\n",
       "      <td>4</td>\n",
       "      <td>world-music</td>\n",
       "    </tr>\n",
       "    <tr>\n",
       "      <th>113998</th>\n",
       "      <td>113998</td>\n",
       "      <td>2e6sXL2bYv4bSz6VTdnfLs</td>\n",
       "      <td>Michael W. Smith</td>\n",
       "      <td>Change Your World</td>\n",
       "      <td>Friends</td>\n",
       "      <td>41</td>\n",
       "      <td>283893</td>\n",
       "      <td>False</td>\n",
       "      <td>0.587</td>\n",
       "      <td>0.506</td>\n",
       "      <td>...</td>\n",
       "      <td>-10.889</td>\n",
       "      <td>1</td>\n",
       "      <td>0.0297</td>\n",
       "      <td>0.381</td>\n",
       "      <td>0.000</td>\n",
       "      <td>0.2700</td>\n",
       "      <td>0.4130</td>\n",
       "      <td>135.960</td>\n",
       "      <td>4</td>\n",
       "      <td>world-music</td>\n",
       "    </tr>\n",
       "    <tr>\n",
       "      <th>113999</th>\n",
       "      <td>113999</td>\n",
       "      <td>2hETkH7cOfqmz3LqZDHZf5</td>\n",
       "      <td>Cesária Evora</td>\n",
       "      <td>Miss Perfumado</td>\n",
       "      <td>Barbincor</td>\n",
       "      <td>22</td>\n",
       "      <td>241826</td>\n",
       "      <td>False</td>\n",
       "      <td>0.526</td>\n",
       "      <td>0.487</td>\n",
       "      <td>...</td>\n",
       "      <td>-10.204</td>\n",
       "      <td>0</td>\n",
       "      <td>0.0725</td>\n",
       "      <td>0.681</td>\n",
       "      <td>0.000</td>\n",
       "      <td>0.0893</td>\n",
       "      <td>0.7080</td>\n",
       "      <td>79.198</td>\n",
       "      <td>4</td>\n",
       "      <td>world-music</td>\n",
       "    </tr>\n",
       "  </tbody>\n",
       "</table>\n",
       "<p>5 rows × 21 columns</p>\n",
       "</div>"
      ],
      "text/plain": [
       "        Unnamed: 0                track_id           artists  \\\n",
       "113995      113995  2C3TZjDRiAzdyViavDJ217     Rainy Lullaby   \n",
       "113996      113996  1hIz5L4IB9hN3WRYPOCGPw     Rainy Lullaby   \n",
       "113997      113997  6x8ZfSoqDjuNa5SVP5QjvX     Cesária Evora   \n",
       "113998      113998  2e6sXL2bYv4bSz6VTdnfLs  Michael W. Smith   \n",
       "113999      113999  2hETkH7cOfqmz3LqZDHZf5     Cesária Evora   \n",
       "\n",
       "                                               album_name  \\\n",
       "113995  #mindfulness - Soft Rain for Mindful Meditatio...   \n",
       "113996  #mindfulness - Soft Rain for Mindful Meditatio...   \n",
       "113997                                            Best Of   \n",
       "113998                                  Change Your World   \n",
       "113999                                     Miss Perfumado   \n",
       "\n",
       "                 track_name  popularity  duration_ms  explicit  danceability  \\\n",
       "113995  Sleep My Little Boy          21       384999     False         0.172   \n",
       "113996     Water Into Light          22       385000     False         0.174   \n",
       "113997       Miss Perfumado          22       271466     False         0.629   \n",
       "113998              Friends          41       283893     False         0.587   \n",
       "113999            Barbincor          22       241826     False         0.526   \n",
       "\n",
       "        energy  ...  loudness  mode  speechiness  acousticness  \\\n",
       "113995   0.235  ...   -16.393     1       0.0422         0.640   \n",
       "113996   0.117  ...   -18.318     0       0.0401         0.994   \n",
       "113997   0.329  ...   -10.895     0       0.0420         0.867   \n",
       "113998   0.506  ...   -10.889     1       0.0297         0.381   \n",
       "113999   0.487  ...   -10.204     0       0.0725         0.681   \n",
       "\n",
       "        instrumentalness  liveness  valence    tempo  time_signature  \\\n",
       "113995             0.928    0.0863   0.0339  125.995               5   \n",
       "113996             0.976    0.1050   0.0350   85.239               4   \n",
       "113997             0.000    0.0839   0.7430  132.378               4   \n",
       "113998             0.000    0.2700   0.4130  135.960               4   \n",
       "113999             0.000    0.0893   0.7080   79.198               4   \n",
       "\n",
       "        track_genre  \n",
       "113995  world-music  \n",
       "113996  world-music  \n",
       "113997  world-music  \n",
       "113998  world-music  \n",
       "113999  world-music  \n",
       "\n",
       "[5 rows x 21 columns]"
      ]
     },
     "execution_count": 4,
     "metadata": {},
     "output_type": "execute_result"
    }
   ],
   "source": [
    "df.tail()"
   ]
  },
  {
   "cell_type": "code",
   "execution_count": 5,
   "id": "4fb5a887",
   "metadata": {
    "execution": {
     "iopub.execute_input": "2023-12-28T09:20:55.482415Z",
     "iopub.status.busy": "2023-12-28T09:20:55.481823Z",
     "iopub.status.idle": "2023-12-28T09:20:55.488510Z",
     "shell.execute_reply": "2023-12-28T09:20:55.487853Z",
     "shell.execute_reply.started": "2023-12-28T09:20:55.482379Z"
    },
    "tags": []
   },
   "outputs": [
    {
     "data": {
      "text/plain": [
       "Unnamed: 0                                  300\n",
       "track_id                 2C9ePPz58he8jmYEod9pvT\n",
       "artists                         Callum J Wright\n",
       "album_name          Isn't She Lovely (Acoustic)\n",
       "track_name          Isn't She Lovely - Acoustic\n",
       "popularity                                   54\n",
       "duration_ms                              145771\n",
       "explicit                                  False\n",
       "danceability                               0.69\n",
       "energy                                    0.306\n",
       "key                                           9\n",
       "loudness                                 -9.193\n",
       "mode                                          1\n",
       "speechiness                              0.0356\n",
       "acousticness                              0.805\n",
       "instrumentalness                            0.0\n",
       "liveness                                 0.0968\n",
       "valence                                   0.424\n",
       "tempo                                   115.671\n",
       "time_signature                                4\n",
       "track_genre                            acoustic\n",
       "Name: 300, dtype: object"
      ]
     },
     "execution_count": 5,
     "metadata": {},
     "output_type": "execute_result"
    }
   ],
   "source": [
    "df.loc[300] #tester for test.py"
   ]
  },
  {
   "cell_type": "markdown",
   "id": "1e7d2152",
   "metadata": {},
   "source": [
    "# EDA and data pre-processing"
   ]
  },
  {
   "cell_type": "markdown",
   "id": "2f76787a",
   "metadata": {},
   "source": [
    "- Check and fix dtypes\n",
    "- Check and fix null values\n",
    "- Stats for numerical columns\n",
    "- Subset data for use with prophet\n",
    "- Visualize"
   ]
  },
  {
   "cell_type": "code",
   "execution_count": 6,
   "id": "f7ef8ca6",
   "metadata": {
    "execution": {
     "iopub.execute_input": "2023-12-28T09:20:55.490071Z",
     "iopub.status.busy": "2023-12-28T09:20:55.489531Z",
     "iopub.status.idle": "2023-12-28T09:20:55.495059Z",
     "shell.execute_reply": "2023-12-28T09:20:55.494397Z",
     "shell.execute_reply.started": "2023-12-28T09:20:55.490036Z"
    },
    "tags": []
   },
   "outputs": [
    {
     "data": {
      "text/plain": [
       "Index(['Unnamed: 0', 'track_id', 'artists', 'album_name', 'track_name',\n",
       "       'popularity', 'duration_ms', 'explicit', 'danceability', 'energy',\n",
       "       'key', 'loudness', 'mode', 'speechiness', 'acousticness',\n",
       "       'instrumentalness', 'liveness', 'valence', 'tempo', 'time_signature',\n",
       "       'track_genre'],\n",
       "      dtype='object')"
      ]
     },
     "execution_count": 6,
     "metadata": {},
     "output_type": "execute_result"
    }
   ],
   "source": [
    "df.columns"
   ]
  },
  {
   "cell_type": "code",
   "execution_count": 7,
   "id": "a19fe9ca",
   "metadata": {
    "execution": {
     "iopub.execute_input": "2023-12-28T09:20:55.496547Z",
     "iopub.status.busy": "2023-12-28T09:20:55.496039Z",
     "iopub.status.idle": "2023-12-28T09:20:55.522936Z",
     "shell.execute_reply": "2023-12-28T09:20:55.522297Z",
     "shell.execute_reply.started": "2023-12-28T09:20:55.496512Z"
    },
    "tags": []
   },
   "outputs": [
    {
     "data": {
      "text/html": [
       "<div>\n",
       "<style scoped>\n",
       "    .dataframe tbody tr th:only-of-type {\n",
       "        vertical-align: middle;\n",
       "    }\n",
       "\n",
       "    .dataframe tbody tr th {\n",
       "        vertical-align: top;\n",
       "    }\n",
       "\n",
       "    .dataframe thead th {\n",
       "        text-align: right;\n",
       "    }\n",
       "</style>\n",
       "<table border=\"1\" class=\"dataframe\">\n",
       "  <thead>\n",
       "    <tr style=\"text-align: right;\">\n",
       "      <th></th>\n",
       "      <th>artists</th>\n",
       "      <th>album_name</th>\n",
       "      <th>track_name</th>\n",
       "      <th>popularity</th>\n",
       "      <th>duration_ms</th>\n",
       "      <th>explicit</th>\n",
       "      <th>danceability</th>\n",
       "      <th>energy</th>\n",
       "      <th>key</th>\n",
       "      <th>loudness</th>\n",
       "      <th>mode</th>\n",
       "      <th>speechiness</th>\n",
       "      <th>acousticness</th>\n",
       "      <th>instrumentalness</th>\n",
       "      <th>liveness</th>\n",
       "      <th>valence</th>\n",
       "      <th>tempo</th>\n",
       "      <th>time_signature</th>\n",
       "      <th>track_genre</th>\n",
       "    </tr>\n",
       "  </thead>\n",
       "  <tbody>\n",
       "    <tr>\n",
       "      <th>0</th>\n",
       "      <td>Gen Hoshino</td>\n",
       "      <td>Comedy</td>\n",
       "      <td>Comedy</td>\n",
       "      <td>73</td>\n",
       "      <td>230666</td>\n",
       "      <td>False</td>\n",
       "      <td>0.676</td>\n",
       "      <td>0.4610</td>\n",
       "      <td>1</td>\n",
       "      <td>-6.746</td>\n",
       "      <td>0</td>\n",
       "      <td>0.1430</td>\n",
       "      <td>0.0322</td>\n",
       "      <td>0.000001</td>\n",
       "      <td>0.3580</td>\n",
       "      <td>0.7150</td>\n",
       "      <td>87.917</td>\n",
       "      <td>4</td>\n",
       "      <td>acoustic</td>\n",
       "    </tr>\n",
       "    <tr>\n",
       "      <th>1</th>\n",
       "      <td>Ben Woodward</td>\n",
       "      <td>Ghost (Acoustic)</td>\n",
       "      <td>Ghost - Acoustic</td>\n",
       "      <td>55</td>\n",
       "      <td>149610</td>\n",
       "      <td>False</td>\n",
       "      <td>0.420</td>\n",
       "      <td>0.1660</td>\n",
       "      <td>1</td>\n",
       "      <td>-17.235</td>\n",
       "      <td>1</td>\n",
       "      <td>0.0763</td>\n",
       "      <td>0.9240</td>\n",
       "      <td>0.000006</td>\n",
       "      <td>0.1010</td>\n",
       "      <td>0.2670</td>\n",
       "      <td>77.489</td>\n",
       "      <td>4</td>\n",
       "      <td>acoustic</td>\n",
       "    </tr>\n",
       "    <tr>\n",
       "      <th>2</th>\n",
       "      <td>Ingrid Michaelson;ZAYN</td>\n",
       "      <td>To Begin Again</td>\n",
       "      <td>To Begin Again</td>\n",
       "      <td>57</td>\n",
       "      <td>210826</td>\n",
       "      <td>False</td>\n",
       "      <td>0.438</td>\n",
       "      <td>0.3590</td>\n",
       "      <td>0</td>\n",
       "      <td>-9.734</td>\n",
       "      <td>1</td>\n",
       "      <td>0.0557</td>\n",
       "      <td>0.2100</td>\n",
       "      <td>0.000000</td>\n",
       "      <td>0.1170</td>\n",
       "      <td>0.1200</td>\n",
       "      <td>76.332</td>\n",
       "      <td>4</td>\n",
       "      <td>acoustic</td>\n",
       "    </tr>\n",
       "    <tr>\n",
       "      <th>3</th>\n",
       "      <td>Kina Grannis</td>\n",
       "      <td>Crazy Rich Asians (Original Motion Picture Sou...</td>\n",
       "      <td>Can't Help Falling In Love</td>\n",
       "      <td>71</td>\n",
       "      <td>201933</td>\n",
       "      <td>False</td>\n",
       "      <td>0.266</td>\n",
       "      <td>0.0596</td>\n",
       "      <td>0</td>\n",
       "      <td>-18.515</td>\n",
       "      <td>1</td>\n",
       "      <td>0.0363</td>\n",
       "      <td>0.9050</td>\n",
       "      <td>0.000071</td>\n",
       "      <td>0.1320</td>\n",
       "      <td>0.1430</td>\n",
       "      <td>181.740</td>\n",
       "      <td>3</td>\n",
       "      <td>acoustic</td>\n",
       "    </tr>\n",
       "    <tr>\n",
       "      <th>4</th>\n",
       "      <td>Chord Overstreet</td>\n",
       "      <td>Hold On</td>\n",
       "      <td>Hold On</td>\n",
       "      <td>82</td>\n",
       "      <td>198853</td>\n",
       "      <td>False</td>\n",
       "      <td>0.618</td>\n",
       "      <td>0.4430</td>\n",
       "      <td>2</td>\n",
       "      <td>-9.681</td>\n",
       "      <td>1</td>\n",
       "      <td>0.0526</td>\n",
       "      <td>0.4690</td>\n",
       "      <td>0.000000</td>\n",
       "      <td>0.0829</td>\n",
       "      <td>0.1670</td>\n",
       "      <td>119.949</td>\n",
       "      <td>4</td>\n",
       "      <td>acoustic</td>\n",
       "    </tr>\n",
       "    <tr>\n",
       "      <th>...</th>\n",
       "      <td>...</td>\n",
       "      <td>...</td>\n",
       "      <td>...</td>\n",
       "      <td>...</td>\n",
       "      <td>...</td>\n",
       "      <td>...</td>\n",
       "      <td>...</td>\n",
       "      <td>...</td>\n",
       "      <td>...</td>\n",
       "      <td>...</td>\n",
       "      <td>...</td>\n",
       "      <td>...</td>\n",
       "      <td>...</td>\n",
       "      <td>...</td>\n",
       "      <td>...</td>\n",
       "      <td>...</td>\n",
       "      <td>...</td>\n",
       "      <td>...</td>\n",
       "      <td>...</td>\n",
       "    </tr>\n",
       "    <tr>\n",
       "      <th>113995</th>\n",
       "      <td>Rainy Lullaby</td>\n",
       "      <td>#mindfulness - Soft Rain for Mindful Meditatio...</td>\n",
       "      <td>Sleep My Little Boy</td>\n",
       "      <td>21</td>\n",
       "      <td>384999</td>\n",
       "      <td>False</td>\n",
       "      <td>0.172</td>\n",
       "      <td>0.2350</td>\n",
       "      <td>5</td>\n",
       "      <td>-16.393</td>\n",
       "      <td>1</td>\n",
       "      <td>0.0422</td>\n",
       "      <td>0.6400</td>\n",
       "      <td>0.928000</td>\n",
       "      <td>0.0863</td>\n",
       "      <td>0.0339</td>\n",
       "      <td>125.995</td>\n",
       "      <td>5</td>\n",
       "      <td>world-music</td>\n",
       "    </tr>\n",
       "    <tr>\n",
       "      <th>113996</th>\n",
       "      <td>Rainy Lullaby</td>\n",
       "      <td>#mindfulness - Soft Rain for Mindful Meditatio...</td>\n",
       "      <td>Water Into Light</td>\n",
       "      <td>22</td>\n",
       "      <td>385000</td>\n",
       "      <td>False</td>\n",
       "      <td>0.174</td>\n",
       "      <td>0.1170</td>\n",
       "      <td>0</td>\n",
       "      <td>-18.318</td>\n",
       "      <td>0</td>\n",
       "      <td>0.0401</td>\n",
       "      <td>0.9940</td>\n",
       "      <td>0.976000</td>\n",
       "      <td>0.1050</td>\n",
       "      <td>0.0350</td>\n",
       "      <td>85.239</td>\n",
       "      <td>4</td>\n",
       "      <td>world-music</td>\n",
       "    </tr>\n",
       "    <tr>\n",
       "      <th>113997</th>\n",
       "      <td>Cesária Evora</td>\n",
       "      <td>Best Of</td>\n",
       "      <td>Miss Perfumado</td>\n",
       "      <td>22</td>\n",
       "      <td>271466</td>\n",
       "      <td>False</td>\n",
       "      <td>0.629</td>\n",
       "      <td>0.3290</td>\n",
       "      <td>0</td>\n",
       "      <td>-10.895</td>\n",
       "      <td>0</td>\n",
       "      <td>0.0420</td>\n",
       "      <td>0.8670</td>\n",
       "      <td>0.000000</td>\n",
       "      <td>0.0839</td>\n",
       "      <td>0.7430</td>\n",
       "      <td>132.378</td>\n",
       "      <td>4</td>\n",
       "      <td>world-music</td>\n",
       "    </tr>\n",
       "    <tr>\n",
       "      <th>113998</th>\n",
       "      <td>Michael W. Smith</td>\n",
       "      <td>Change Your World</td>\n",
       "      <td>Friends</td>\n",
       "      <td>41</td>\n",
       "      <td>283893</td>\n",
       "      <td>False</td>\n",
       "      <td>0.587</td>\n",
       "      <td>0.5060</td>\n",
       "      <td>7</td>\n",
       "      <td>-10.889</td>\n",
       "      <td>1</td>\n",
       "      <td>0.0297</td>\n",
       "      <td>0.3810</td>\n",
       "      <td>0.000000</td>\n",
       "      <td>0.2700</td>\n",
       "      <td>0.4130</td>\n",
       "      <td>135.960</td>\n",
       "      <td>4</td>\n",
       "      <td>world-music</td>\n",
       "    </tr>\n",
       "    <tr>\n",
       "      <th>113999</th>\n",
       "      <td>Cesária Evora</td>\n",
       "      <td>Miss Perfumado</td>\n",
       "      <td>Barbincor</td>\n",
       "      <td>22</td>\n",
       "      <td>241826</td>\n",
       "      <td>False</td>\n",
       "      <td>0.526</td>\n",
       "      <td>0.4870</td>\n",
       "      <td>1</td>\n",
       "      <td>-10.204</td>\n",
       "      <td>0</td>\n",
       "      <td>0.0725</td>\n",
       "      <td>0.6810</td>\n",
       "      <td>0.000000</td>\n",
       "      <td>0.0893</td>\n",
       "      <td>0.7080</td>\n",
       "      <td>79.198</td>\n",
       "      <td>4</td>\n",
       "      <td>world-music</td>\n",
       "    </tr>\n",
       "  </tbody>\n",
       "</table>\n",
       "<p>114000 rows × 19 columns</p>\n",
       "</div>"
      ],
      "text/plain": [
       "                       artists  \\\n",
       "0                  Gen Hoshino   \n",
       "1                 Ben Woodward   \n",
       "2       Ingrid Michaelson;ZAYN   \n",
       "3                 Kina Grannis   \n",
       "4             Chord Overstreet   \n",
       "...                        ...   \n",
       "113995           Rainy Lullaby   \n",
       "113996           Rainy Lullaby   \n",
       "113997           Cesária Evora   \n",
       "113998        Michael W. Smith   \n",
       "113999           Cesária Evora   \n",
       "\n",
       "                                               album_name  \\\n",
       "0                                                  Comedy   \n",
       "1                                        Ghost (Acoustic)   \n",
       "2                                          To Begin Again   \n",
       "3       Crazy Rich Asians (Original Motion Picture Sou...   \n",
       "4                                                 Hold On   \n",
       "...                                                   ...   \n",
       "113995  #mindfulness - Soft Rain for Mindful Meditatio...   \n",
       "113996  #mindfulness - Soft Rain for Mindful Meditatio...   \n",
       "113997                                            Best Of   \n",
       "113998                                  Change Your World   \n",
       "113999                                     Miss Perfumado   \n",
       "\n",
       "                        track_name  popularity  duration_ms  explicit  \\\n",
       "0                           Comedy          73       230666     False   \n",
       "1                 Ghost - Acoustic          55       149610     False   \n",
       "2                   To Begin Again          57       210826     False   \n",
       "3       Can't Help Falling In Love          71       201933     False   \n",
       "4                          Hold On          82       198853     False   \n",
       "...                            ...         ...          ...       ...   \n",
       "113995         Sleep My Little Boy          21       384999     False   \n",
       "113996            Water Into Light          22       385000     False   \n",
       "113997              Miss Perfumado          22       271466     False   \n",
       "113998                     Friends          41       283893     False   \n",
       "113999                   Barbincor          22       241826     False   \n",
       "\n",
       "        danceability  energy  key  loudness  mode  speechiness  acousticness  \\\n",
       "0              0.676  0.4610    1    -6.746     0       0.1430        0.0322   \n",
       "1              0.420  0.1660    1   -17.235     1       0.0763        0.9240   \n",
       "2              0.438  0.3590    0    -9.734     1       0.0557        0.2100   \n",
       "3              0.266  0.0596    0   -18.515     1       0.0363        0.9050   \n",
       "4              0.618  0.4430    2    -9.681     1       0.0526        0.4690   \n",
       "...              ...     ...  ...       ...   ...          ...           ...   \n",
       "113995         0.172  0.2350    5   -16.393     1       0.0422        0.6400   \n",
       "113996         0.174  0.1170    0   -18.318     0       0.0401        0.9940   \n",
       "113997         0.629  0.3290    0   -10.895     0       0.0420        0.8670   \n",
       "113998         0.587  0.5060    7   -10.889     1       0.0297        0.3810   \n",
       "113999         0.526  0.4870    1   -10.204     0       0.0725        0.6810   \n",
       "\n",
       "        instrumentalness  liveness  valence    tempo  time_signature  \\\n",
       "0               0.000001    0.3580   0.7150   87.917               4   \n",
       "1               0.000006    0.1010   0.2670   77.489               4   \n",
       "2               0.000000    0.1170   0.1200   76.332               4   \n",
       "3               0.000071    0.1320   0.1430  181.740               3   \n",
       "4               0.000000    0.0829   0.1670  119.949               4   \n",
       "...                  ...       ...      ...      ...             ...   \n",
       "113995          0.928000    0.0863   0.0339  125.995               5   \n",
       "113996          0.976000    0.1050   0.0350   85.239               4   \n",
       "113997          0.000000    0.0839   0.7430  132.378               4   \n",
       "113998          0.000000    0.2700   0.4130  135.960               4   \n",
       "113999          0.000000    0.0893   0.7080   79.198               4   \n",
       "\n",
       "        track_genre  \n",
       "0          acoustic  \n",
       "1          acoustic  \n",
       "2          acoustic  \n",
       "3          acoustic  \n",
       "4          acoustic  \n",
       "...             ...  \n",
       "113995  world-music  \n",
       "113996  world-music  \n",
       "113997  world-music  \n",
       "113998  world-music  \n",
       "113999  world-music  \n",
       "\n",
       "[114000 rows x 19 columns]"
      ]
     },
     "execution_count": 7,
     "metadata": {},
     "output_type": "execute_result"
    }
   ],
   "source": [
    "df = df.drop([\"Unnamed: 0\", \"track_id\"], axis = 1)\n",
    "df"
   ]
  },
  {
   "cell_type": "code",
   "execution_count": 8,
   "id": "2bec9706",
   "metadata": {
    "execution": {
     "iopub.execute_input": "2023-12-28T09:20:55.524517Z",
     "iopub.status.busy": "2023-12-28T09:20:55.523913Z",
     "iopub.status.idle": "2023-12-28T09:20:55.603418Z",
     "shell.execute_reply": "2023-12-28T09:20:55.602718Z",
     "shell.execute_reply.started": "2023-12-28T09:20:55.524483Z"
    },
    "tags": []
   },
   "outputs": [
    {
     "name": "stdout",
     "output_type": "stream",
     "text": [
      "<class 'pandas.core.frame.DataFrame'>\n",
      "RangeIndex: 114000 entries, 0 to 113999\n",
      "Data columns (total 19 columns):\n",
      " #   Column            Non-Null Count   Dtype  \n",
      "---  ------            --------------   -----  \n",
      " 0   artists           113999 non-null  object \n",
      " 1   album_name        113999 non-null  object \n",
      " 2   track_name        113999 non-null  object \n",
      " 3   popularity        114000 non-null  int64  \n",
      " 4   duration_ms       114000 non-null  int64  \n",
      " 5   explicit          114000 non-null  bool   \n",
      " 6   danceability      114000 non-null  float64\n",
      " 7   energy            114000 non-null  float64\n",
      " 8   key               114000 non-null  int64  \n",
      " 9   loudness          114000 non-null  float64\n",
      " 10  mode              114000 non-null  int64  \n",
      " 11  speechiness       114000 non-null  float64\n",
      " 12  acousticness      114000 non-null  float64\n",
      " 13  instrumentalness  114000 non-null  float64\n",
      " 14  liveness          114000 non-null  float64\n",
      " 15  valence           114000 non-null  float64\n",
      " 16  tempo             114000 non-null  float64\n",
      " 17  time_signature    114000 non-null  int64  \n",
      " 18  track_genre       114000 non-null  object \n",
      "dtypes: bool(1), float64(9), int64(5), object(4)\n",
      "memory usage: 15.8+ MB\n"
     ]
    }
   ],
   "source": [
    "df.info()"
   ]
  },
  {
   "cell_type": "code",
   "execution_count": 9,
   "id": "5c5ca22b",
   "metadata": {
    "execution": {
     "iopub.execute_input": "2023-12-28T09:20:55.605089Z",
     "iopub.status.busy": "2023-12-28T09:20:55.604492Z",
     "iopub.status.idle": "2023-12-28T09:20:55.673072Z",
     "shell.execute_reply": "2023-12-28T09:20:55.672356Z",
     "shell.execute_reply.started": "2023-12-28T09:20:55.605051Z"
    },
    "tags": []
   },
   "outputs": [
    {
     "name": "stdout",
     "output_type": "stream",
     "text": [
      "<class 'pandas.core.frame.DataFrame'>\n",
      "RangeIndex: 114000 entries, 0 to 113999\n",
      "Data columns (total 19 columns):\n",
      " #   Column            Non-Null Count   Dtype  \n",
      "---  ------            --------------   -----  \n",
      " 0   artists           113999 non-null  object \n",
      " 1   album_name        113999 non-null  object \n",
      " 2   track_name        113999 non-null  object \n",
      " 3   popularity        114000 non-null  int64  \n",
      " 4   duration_ms       114000 non-null  int64  \n",
      " 5   explicit          114000 non-null  int64  \n",
      " 6   danceability      114000 non-null  float64\n",
      " 7   energy            114000 non-null  float64\n",
      " 8   key               114000 non-null  int64  \n",
      " 9   loudness          114000 non-null  float64\n",
      " 10  mode              114000 non-null  int64  \n",
      " 11  speechiness       114000 non-null  float64\n",
      " 12  acousticness      114000 non-null  float64\n",
      " 13  instrumentalness  114000 non-null  float64\n",
      " 14  liveness          114000 non-null  float64\n",
      " 15  valence           114000 non-null  float64\n",
      " 16  tempo             114000 non-null  float64\n",
      " 17  time_signature    114000 non-null  int64  \n",
      " 18  track_genre       114000 non-null  object \n",
      "dtypes: float64(9), int64(6), object(4)\n",
      "memory usage: 16.5+ MB\n"
     ]
    }
   ],
   "source": [
    "df[\"explicit\"] = df[\"explicit\"].astype(int)\n",
    "df.info()"
   ]
  },
  {
   "cell_type": "code",
   "execution_count": 10,
   "id": "439c923b",
   "metadata": {
    "execution": {
     "iopub.execute_input": "2023-12-28T09:20:55.676528Z",
     "iopub.status.busy": "2023-12-28T09:20:55.675938Z",
     "iopub.status.idle": "2023-12-28T09:20:55.740462Z",
     "shell.execute_reply": "2023-12-28T09:20:55.739749Z",
     "shell.execute_reply.started": "2023-12-28T09:20:55.676492Z"
    },
    "tags": []
   },
   "outputs": [
    {
     "data": {
      "text/plain": [
       "artists             1\n",
       "album_name          1\n",
       "track_name          1\n",
       "popularity          0\n",
       "duration_ms         0\n",
       "explicit            0\n",
       "danceability        0\n",
       "energy              0\n",
       "key                 0\n",
       "loudness            0\n",
       "mode                0\n",
       "speechiness         0\n",
       "acousticness        0\n",
       "instrumentalness    0\n",
       "liveness            0\n",
       "valence             0\n",
       "tempo               0\n",
       "time_signature      0\n",
       "track_genre         0\n",
       "dtype: int64"
      ]
     },
     "execution_count": 10,
     "metadata": {},
     "output_type": "execute_result"
    }
   ],
   "source": [
    "df.isnull().sum()"
   ]
  },
  {
   "cell_type": "code",
   "execution_count": 11,
   "id": "a19bfd1d",
   "metadata": {
    "execution": {
     "iopub.execute_input": "2023-12-28T09:20:55.741775Z",
     "iopub.status.busy": "2023-12-28T09:20:55.741296Z",
     "iopub.status.idle": "2023-12-28T09:20:55.870383Z",
     "shell.execute_reply": "2023-12-28T09:20:55.869803Z",
     "shell.execute_reply.started": "2023-12-28T09:20:55.741751Z"
    },
    "tags": []
   },
   "outputs": [
    {
     "data": {
      "text/plain": [
       "artists             0\n",
       "album_name          0\n",
       "track_name          0\n",
       "popularity          0\n",
       "duration_ms         0\n",
       "explicit            0\n",
       "danceability        0\n",
       "energy              0\n",
       "key                 0\n",
       "loudness            0\n",
       "mode                0\n",
       "speechiness         0\n",
       "acousticness        0\n",
       "instrumentalness    0\n",
       "liveness            0\n",
       "valence             0\n",
       "tempo               0\n",
       "time_signature      0\n",
       "track_genre         0\n",
       "dtype: int64"
      ]
     },
     "execution_count": 11,
     "metadata": {},
     "output_type": "execute_result"
    }
   ],
   "source": [
    "df = df.dropna() #deleting the few small null raws\n",
    "df.isnull().sum()"
   ]
  },
  {
   "cell_type": "code",
   "execution_count": 12,
   "id": "88a47a80",
   "metadata": {
    "execution": {
     "iopub.execute_input": "2023-12-28T09:20:55.871488Z",
     "iopub.status.busy": "2023-12-28T09:20:55.871216Z",
     "iopub.status.idle": "2023-12-28T09:20:55.876156Z",
     "shell.execute_reply": "2023-12-28T09:20:55.875645Z",
     "shell.execute_reply.started": "2023-12-28T09:20:55.871465Z"
    },
    "tags": []
   },
   "outputs": [
    {
     "data": {
      "text/plain": [
       "artists              object\n",
       "album_name           object\n",
       "track_name           object\n",
       "popularity            int64\n",
       "duration_ms           int64\n",
       "explicit              int64\n",
       "danceability        float64\n",
       "energy              float64\n",
       "key                   int64\n",
       "loudness            float64\n",
       "mode                  int64\n",
       "speechiness         float64\n",
       "acousticness        float64\n",
       "instrumentalness    float64\n",
       "liveness            float64\n",
       "valence             float64\n",
       "tempo               float64\n",
       "time_signature        int64\n",
       "track_genre          object\n",
       "dtype: object"
      ]
     },
     "execution_count": 12,
     "metadata": {},
     "output_type": "execute_result"
    }
   ],
   "source": [
    "df.dtypes"
   ]
  },
  {
   "cell_type": "code",
   "execution_count": 13,
   "id": "f6803c52",
   "metadata": {
    "execution": {
     "iopub.execute_input": "2023-12-28T09:20:55.877214Z",
     "iopub.status.busy": "2023-12-28T09:20:55.876937Z",
     "iopub.status.idle": "2023-12-28T09:20:55.966488Z",
     "shell.execute_reply": "2023-12-28T09:20:55.965924Z",
     "shell.execute_reply.started": "2023-12-28T09:20:55.877192Z"
    },
    "tags": []
   },
   "outputs": [
    {
     "data": {
      "text/html": [
       "<div>\n",
       "<style scoped>\n",
       "    .dataframe tbody tr th:only-of-type {\n",
       "        vertical-align: middle;\n",
       "    }\n",
       "\n",
       "    .dataframe tbody tr th {\n",
       "        vertical-align: top;\n",
       "    }\n",
       "\n",
       "    .dataframe thead th {\n",
       "        text-align: right;\n",
       "    }\n",
       "</style>\n",
       "<table border=\"1\" class=\"dataframe\">\n",
       "  <thead>\n",
       "    <tr style=\"text-align: right;\">\n",
       "      <th></th>\n",
       "      <th>count</th>\n",
       "      <th>mean</th>\n",
       "      <th>std</th>\n",
       "      <th>min</th>\n",
       "      <th>25%</th>\n",
       "      <th>50%</th>\n",
       "      <th>75%</th>\n",
       "      <th>max</th>\n",
       "    </tr>\n",
       "  </thead>\n",
       "  <tbody>\n",
       "    <tr>\n",
       "      <th>popularity</th>\n",
       "      <td>113999.0</td>\n",
       "      <td>33.238827</td>\n",
       "      <td>22.304959</td>\n",
       "      <td>0.000</td>\n",
       "      <td>17.0000</td>\n",
       "      <td>35.000000</td>\n",
       "      <td>50.0000</td>\n",
       "      <td>100.000</td>\n",
       "    </tr>\n",
       "    <tr>\n",
       "      <th>duration_ms</th>\n",
       "      <td>113999.0</td>\n",
       "      <td>228031.153387</td>\n",
       "      <td>107296.057716</td>\n",
       "      <td>8586.000</td>\n",
       "      <td>174066.0000</td>\n",
       "      <td>212906.000000</td>\n",
       "      <td>261506.0000</td>\n",
       "      <td>5237295.000</td>\n",
       "    </tr>\n",
       "    <tr>\n",
       "      <th>explicit</th>\n",
       "      <td>113999.0</td>\n",
       "      <td>0.085501</td>\n",
       "      <td>0.279627</td>\n",
       "      <td>0.000</td>\n",
       "      <td>0.0000</td>\n",
       "      <td>0.000000</td>\n",
       "      <td>0.0000</td>\n",
       "      <td>1.000</td>\n",
       "    </tr>\n",
       "    <tr>\n",
       "      <th>danceability</th>\n",
       "      <td>113999.0</td>\n",
       "      <td>0.566801</td>\n",
       "      <td>0.173543</td>\n",
       "      <td>0.000</td>\n",
       "      <td>0.4560</td>\n",
       "      <td>0.580000</td>\n",
       "      <td>0.6950</td>\n",
       "      <td>0.985</td>\n",
       "    </tr>\n",
       "    <tr>\n",
       "      <th>energy</th>\n",
       "      <td>113999.0</td>\n",
       "      <td>0.641383</td>\n",
       "      <td>0.251530</td>\n",
       "      <td>0.000</td>\n",
       "      <td>0.4720</td>\n",
       "      <td>0.685000</td>\n",
       "      <td>0.8540</td>\n",
       "      <td>1.000</td>\n",
       "    </tr>\n",
       "    <tr>\n",
       "      <th>key</th>\n",
       "      <td>113999.0</td>\n",
       "      <td>5.309126</td>\n",
       "      <td>3.559999</td>\n",
       "      <td>0.000</td>\n",
       "      <td>2.0000</td>\n",
       "      <td>5.000000</td>\n",
       "      <td>8.0000</td>\n",
       "      <td>11.000</td>\n",
       "    </tr>\n",
       "    <tr>\n",
       "      <th>loudness</th>\n",
       "      <td>113999.0</td>\n",
       "      <td>-8.258950</td>\n",
       "      <td>5.029357</td>\n",
       "      <td>-49.531</td>\n",
       "      <td>-10.0130</td>\n",
       "      <td>-7.004000</td>\n",
       "      <td>-5.0030</td>\n",
       "      <td>4.532</td>\n",
       "    </tr>\n",
       "    <tr>\n",
       "      <th>mode</th>\n",
       "      <td>113999.0</td>\n",
       "      <td>0.637558</td>\n",
       "      <td>0.480708</td>\n",
       "      <td>0.000</td>\n",
       "      <td>0.0000</td>\n",
       "      <td>1.000000</td>\n",
       "      <td>1.0000</td>\n",
       "      <td>1.000</td>\n",
       "    </tr>\n",
       "    <tr>\n",
       "      <th>speechiness</th>\n",
       "      <td>113999.0</td>\n",
       "      <td>0.084652</td>\n",
       "      <td>0.105733</td>\n",
       "      <td>0.000</td>\n",
       "      <td>0.0359</td>\n",
       "      <td>0.048900</td>\n",
       "      <td>0.0845</td>\n",
       "      <td>0.965</td>\n",
       "    </tr>\n",
       "    <tr>\n",
       "      <th>acousticness</th>\n",
       "      <td>113999.0</td>\n",
       "      <td>0.314907</td>\n",
       "      <td>0.332522</td>\n",
       "      <td>0.000</td>\n",
       "      <td>0.0169</td>\n",
       "      <td>0.169000</td>\n",
       "      <td>0.5975</td>\n",
       "      <td>0.996</td>\n",
       "    </tr>\n",
       "    <tr>\n",
       "      <th>instrumentalness</th>\n",
       "      <td>113999.0</td>\n",
       "      <td>0.156051</td>\n",
       "      <td>0.309556</td>\n",
       "      <td>0.000</td>\n",
       "      <td>0.0000</td>\n",
       "      <td>0.000042</td>\n",
       "      <td>0.0490</td>\n",
       "      <td>1.000</td>\n",
       "    </tr>\n",
       "    <tr>\n",
       "      <th>liveness</th>\n",
       "      <td>113999.0</td>\n",
       "      <td>0.213554</td>\n",
       "      <td>0.190378</td>\n",
       "      <td>0.000</td>\n",
       "      <td>0.0980</td>\n",
       "      <td>0.132000</td>\n",
       "      <td>0.2730</td>\n",
       "      <td>1.000</td>\n",
       "    </tr>\n",
       "    <tr>\n",
       "      <th>valence</th>\n",
       "      <td>113999.0</td>\n",
       "      <td>0.474066</td>\n",
       "      <td>0.259261</td>\n",
       "      <td>0.000</td>\n",
       "      <td>0.2600</td>\n",
       "      <td>0.464000</td>\n",
       "      <td>0.6830</td>\n",
       "      <td>0.995</td>\n",
       "    </tr>\n",
       "    <tr>\n",
       "      <th>tempo</th>\n",
       "      <td>113999.0</td>\n",
       "      <td>122.147695</td>\n",
       "      <td>29.978290</td>\n",
       "      <td>0.000</td>\n",
       "      <td>99.2185</td>\n",
       "      <td>122.017000</td>\n",
       "      <td>140.0710</td>\n",
       "      <td>243.372</td>\n",
       "    </tr>\n",
       "    <tr>\n",
       "      <th>time_signature</th>\n",
       "      <td>113999.0</td>\n",
       "      <td>3.904034</td>\n",
       "      <td>0.432623</td>\n",
       "      <td>0.000</td>\n",
       "      <td>4.0000</td>\n",
       "      <td>4.000000</td>\n",
       "      <td>4.0000</td>\n",
       "      <td>5.000</td>\n",
       "    </tr>\n",
       "  </tbody>\n",
       "</table>\n",
       "</div>"
      ],
      "text/plain": [
       "                     count           mean            std       min  \\\n",
       "popularity        113999.0      33.238827      22.304959     0.000   \n",
       "duration_ms       113999.0  228031.153387  107296.057716  8586.000   \n",
       "explicit          113999.0       0.085501       0.279627     0.000   \n",
       "danceability      113999.0       0.566801       0.173543     0.000   \n",
       "energy            113999.0       0.641383       0.251530     0.000   \n",
       "key               113999.0       5.309126       3.559999     0.000   \n",
       "loudness          113999.0      -8.258950       5.029357   -49.531   \n",
       "mode              113999.0       0.637558       0.480708     0.000   \n",
       "speechiness       113999.0       0.084652       0.105733     0.000   \n",
       "acousticness      113999.0       0.314907       0.332522     0.000   \n",
       "instrumentalness  113999.0       0.156051       0.309556     0.000   \n",
       "liveness          113999.0       0.213554       0.190378     0.000   \n",
       "valence           113999.0       0.474066       0.259261     0.000   \n",
       "tempo             113999.0     122.147695      29.978290     0.000   \n",
       "time_signature    113999.0       3.904034       0.432623     0.000   \n",
       "\n",
       "                          25%            50%          75%          max  \n",
       "popularity            17.0000      35.000000      50.0000      100.000  \n",
       "duration_ms       174066.0000  212906.000000  261506.0000  5237295.000  \n",
       "explicit               0.0000       0.000000       0.0000        1.000  \n",
       "danceability           0.4560       0.580000       0.6950        0.985  \n",
       "energy                 0.4720       0.685000       0.8540        1.000  \n",
       "key                    2.0000       5.000000       8.0000       11.000  \n",
       "loudness             -10.0130      -7.004000      -5.0030        4.532  \n",
       "mode                   0.0000       1.000000       1.0000        1.000  \n",
       "speechiness            0.0359       0.048900       0.0845        0.965  \n",
       "acousticness           0.0169       0.169000       0.5975        0.996  \n",
       "instrumentalness       0.0000       0.000042       0.0490        1.000  \n",
       "liveness               0.0980       0.132000       0.2730        1.000  \n",
       "valence                0.2600       0.464000       0.6830        0.995  \n",
       "tempo                 99.2185     122.017000     140.0710      243.372  \n",
       "time_signature         4.0000       4.000000       4.0000        5.000  "
      ]
     },
     "execution_count": 13,
     "metadata": {},
     "output_type": "execute_result"
    }
   ],
   "source": [
    "# stats for numerical columns\n",
    "df.describe().T"
   ]
  },
  {
   "cell_type": "code",
   "execution_count": 14,
   "id": "0927d53f",
   "metadata": {
    "execution": {
     "iopub.execute_input": "2023-12-28T09:20:55.967593Z",
     "iopub.status.busy": "2023-12-28T09:20:55.967306Z",
     "iopub.status.idle": "2023-12-28T09:20:55.972003Z",
     "shell.execute_reply": "2023-12-28T09:20:55.971512Z",
     "shell.execute_reply.started": "2023-12-28T09:20:55.967571Z"
    },
    "tags": []
   },
   "outputs": [
    {
     "data": {
      "text/plain": [
       "['artists', 'album_name', 'track_name', 'track_genre']"
      ]
     },
     "execution_count": 14,
     "metadata": {},
     "output_type": "execute_result"
    }
   ],
   "source": [
    "strings = list(df.dtypes[df.dtypes == 'object'].index) #ottengo gli indici che hanno solo valori string\n",
    "strings"
   ]
  },
  {
   "cell_type": "code",
   "execution_count": 15,
   "id": "cf4a5cc0",
   "metadata": {
    "execution": {
     "iopub.execute_input": "2023-12-28T09:20:55.973140Z",
     "iopub.status.busy": "2023-12-28T09:20:55.972720Z",
     "iopub.status.idle": "2023-12-28T09:20:56.902495Z",
     "shell.execute_reply": "2023-12-28T09:20:56.901917Z",
     "shell.execute_reply.started": "2023-12-28T09:20:55.973119Z"
    },
    "tags": []
   },
   "outputs": [
    {
     "data": {
      "text/plain": [
       "<AxesSubplot:xlabel='danceability', ylabel='Count'>"
      ]
     },
     "execution_count": 15,
     "metadata": {},
     "output_type": "execute_result"
    },
    {
     "data": {
      "image/png": "[encoded data removed]",
      "text/plain": [
       "<Figure size 640x480 with 1 Axes>"
      ]
     },
     "metadata": {},
     "output_type": "display_data"
    }
   ],
   "source": [
    "sns.histplot(df.danceability, bins=500)"
   ]
  },
  {
   "cell_type": "code",
   "execution_count": 16,
   "id": "5f318a1c",
   "metadata": {
    "execution": {
     "iopub.execute_input": "2023-12-28T09:20:56.903627Z",
     "iopub.status.busy": "2023-12-28T09:20:56.903330Z",
     "iopub.status.idle": "2023-12-28T09:20:57.754131Z",
     "shell.execute_reply": "2023-12-28T09:20:57.753565Z",
     "shell.execute_reply.started": "2023-12-28T09:20:56.903604Z"
    },
    "tags": []
   },
   "outputs": [
    {
     "data": {
      "text/plain": [
       "<AxesSubplot:xlabel='energy', ylabel='Count'>"
      ]
     },
     "execution_count": 16,
     "metadata": {},
     "output_type": "execute_result"
    },
    {
     "data": {
      "image/png": "[encoded data removed]",
      "text/plain": [
       "<Figure size 640x480 with 1 Axes>"
      ]
     },
     "metadata": {},
     "output_type": "display_data"
    }
   ],
   "source": [
    "sns.histplot(df.energy, bins=500)"
   ]
  },
  {
   "cell_type": "code",
   "execution_count": 17,
   "id": "391b6964",
   "metadata": {
    "execution": {
     "iopub.execute_input": "2023-12-28T09:20:57.755259Z",
     "iopub.status.busy": "2023-12-28T09:20:57.754962Z",
     "iopub.status.idle": "2023-12-28T09:20:58.667321Z",
     "shell.execute_reply": "2023-12-28T09:20:58.666754Z",
     "shell.execute_reply.started": "2023-12-28T09:20:57.755235Z"
    },
    "tags": []
   },
   "outputs": [
    {
     "data": {
      "text/plain": [
       "<AxesSubplot:xlabel='liveness', ylabel='Count'>"
      ]
     },
     "execution_count": 17,
     "metadata": {},
     "output_type": "execute_result"
    },
    {
     "data": {
      "image/png": "[encoded data removed]",
      "text/plain": [
       "<Figure size 640x480 with 1 Axes>"
      ]
     },
     "metadata": {},
     "output_type": "display_data"
    }
   ],
   "source": [
    "sns.histplot(df.liveness, bins=500)"
   ]
  },
  {
   "cell_type": "code",
   "execution_count": 18,
   "id": "aa816420",
   "metadata": {
    "execution": {
     "iopub.execute_input": "2023-12-28T09:20:58.669759Z",
     "iopub.status.busy": "2023-12-28T09:20:58.669443Z",
     "iopub.status.idle": "2023-12-28T09:20:59.508267Z",
     "shell.execute_reply": "2023-12-28T09:20:59.507699Z",
     "shell.execute_reply.started": "2023-12-28T09:20:58.669735Z"
    },
    "tags": []
   },
   "outputs": [
    {
     "data": {
      "text/plain": [
       "<AxesSubplot:xlabel='loudness', ylabel='Count'>"
      ]
     },
     "execution_count": 18,
     "metadata": {},
     "output_type": "execute_result"
    },
    {
     "data": {
      "image/png": "[encoded data removed]",
      "text/plain": [
       "<Figure size 640x480 with 1 Axes>"
      ]
     },
     "metadata": {},
     "output_type": "display_data"
    }
   ],
   "source": [
    "sns.histplot(df.loudness, bins=500)"
   ]
  },
  {
   "cell_type": "code",
   "execution_count": 19,
   "id": "540287c7",
   "metadata": {
    "execution": {
     "iopub.execute_input": "2023-12-28T09:20:59.509252Z",
     "iopub.status.busy": "2023-12-28T09:20:59.509034Z",
     "iopub.status.idle": "2023-12-28T09:21:00.435375Z",
     "shell.execute_reply": "2023-12-28T09:21:00.434803Z",
     "shell.execute_reply.started": "2023-12-28T09:20:59.509231Z"
    },
    "tags": []
   },
   "outputs": [
    {
     "data": {
      "text/plain": [
       "<AxesSubplot:xlabel='tempo', ylabel='Count'>"
      ]
     },
     "execution_count": 19,
     "metadata": {},
     "output_type": "execute_result"
    },
    {
     "data": {
      "image/png": "[encoded data removed]",
      "text/plain": [
       "<Figure size 640x480 with 1 Axes>"
      ]
     },
     "metadata": {},
     "output_type": "display_data"
    }
   ],
   "source": [
    "sns.histplot(df.tempo, bins=500)"
   ]
  },
  {
   "cell_type": "code",
   "execution_count": 20,
   "id": "6e607ecd",
   "metadata": {
    "execution": {
     "iopub.execute_input": "2023-12-28T09:21:00.436529Z",
     "iopub.status.busy": "2023-12-28T09:21:00.436226Z",
     "iopub.status.idle": "2023-12-28T09:21:01.269903Z",
     "shell.execute_reply": "2023-12-28T09:21:01.269320Z",
     "shell.execute_reply.started": "2023-12-28T09:21:00.436506Z"
    },
    "tags": []
   },
   "outputs": [
    {
     "data": {
      "text/plain": [
       "<AxesSubplot:xlabel='valence', ylabel='Count'>"
      ]
     },
     "execution_count": 20,
     "metadata": {},
     "output_type": "execute_result"
    },
    {
     "data": {
      "image/png": "[encoded data removed]",
      "text/plain": [
       "<Figure size 640x480 with 1 Axes>"
      ]
     },
     "metadata": {},
     "output_type": "display_data"
    }
   ],
   "source": [
    "sns.histplot(df.valence, bins=500)"
   ]
  },
  {
   "cell_type": "code",
   "execution_count": 21,
   "id": "63ac3a21",
   "metadata": {
    "execution": {
     "iopub.execute_input": "2023-12-28T09:21:01.271116Z",
     "iopub.status.busy": "2023-12-28T09:21:01.270818Z",
     "iopub.status.idle": "2023-12-28T09:21:02.219711Z",
     "shell.execute_reply": "2023-12-28T09:21:02.219150Z",
     "shell.execute_reply.started": "2023-12-28T09:21:01.271093Z"
    },
    "tags": []
   },
   "outputs": [
    {
     "data": {
      "text/plain": [
       "<AxesSubplot:xlabel='acousticness', ylabel='Count'>"
      ]
     },
     "execution_count": 21,
     "metadata": {},
     "output_type": "execute_result"
    },
    {
     "data": {
      "image/png": "[encoded data removed]",
      "text/plain": [
       "<Figure size 640x480 with 1 Axes>"
      ]
     },
     "metadata": {},
     "output_type": "display_data"
    }
   ],
   "source": [
    "sns.histplot(df.acousticness, bins=500)"
   ]
  },
  {
   "cell_type": "code",
   "execution_count": 22,
   "id": "46e58aeb",
   "metadata": {
    "execution": {
     "iopub.execute_input": "2023-12-28T09:21:02.220834Z",
     "iopub.status.busy": "2023-12-28T09:21:02.220532Z",
     "iopub.status.idle": "2023-12-28T09:21:03.058511Z",
     "shell.execute_reply": "2023-12-28T09:21:03.057926Z",
     "shell.execute_reply.started": "2023-12-28T09:21:02.220810Z"
    },
    "tags": []
   },
   "outputs": [
    {
     "data": {
      "text/plain": [
       "<AxesSubplot:xlabel='duration_ms', ylabel='Count'>"
      ]
     },
     "execution_count": 22,
     "metadata": {},
     "output_type": "execute_result"
    },
    {
     "data": {
      "image/png": "[encoded data removed]",
      "text/plain": [
       "<Figure size 640x480 with 1 Axes>"
      ]
     },
     "metadata": {},
     "output_type": "display_data"
    }
   ],
   "source": [
    "sns.histplot(df.duration_ms, bins=500)"
   ]
  },
  {
   "cell_type": "code",
   "execution_count": 23,
   "id": "a7790762",
   "metadata": {
    "execution": {
     "iopub.execute_input": "2023-12-28T09:21:03.059652Z",
     "iopub.status.busy": "2023-12-28T09:21:03.059350Z",
     "iopub.status.idle": "2023-12-28T09:21:03.200675Z",
     "shell.execute_reply": "2023-12-28T09:21:03.200088Z",
     "shell.execute_reply.started": "2023-12-28T09:21:03.059628Z"
    },
    "tags": []
   },
   "outputs": [
    {
     "name": "stderr",
     "output_type": "stream",
     "text": [
      "/tmp/ipykernel_2800/3949653695.py:1: SettingWithCopyWarning: \n",
      "A value is trying to be set on a copy of a slice from a DataFrame.\n",
      "Try using .loc[row_indexer,col_indexer] = value instead\n",
      "\n",
      "See the caveats in the documentation: https://pandas.pydata.org/pandas-docs/stable/user_guide/indexing.html#returning-a-view-versus-a-copy\n",
      "  df['duration_ms'] = np.log1p(df['duration_ms'])\n"
     ]
    }
   ],
   "source": [
    "df['duration_ms'] = np.log1p(df['duration_ms'])"
   ]
  },
  {
   "cell_type": "code",
   "execution_count": 24,
   "id": "26ae833a",
   "metadata": {
    "execution": {
     "iopub.execute_input": "2023-12-28T09:21:03.201789Z",
     "iopub.status.busy": "2023-12-28T09:21:03.201479Z",
     "iopub.status.idle": "2023-12-28T09:21:04.036516Z",
     "shell.execute_reply": "2023-12-28T09:21:04.035944Z",
     "shell.execute_reply.started": "2023-12-28T09:21:03.201766Z"
    },
    "tags": []
   },
   "outputs": [
    {
     "data": {
      "text/plain": [
       "<AxesSubplot:xlabel='duration_ms', ylabel='Count'>"
      ]
     },
     "execution_count": 24,
     "metadata": {},
     "output_type": "execute_result"
    },
    {
     "data": {
      "image/png": "[encoded data removed]",
      "text/plain": [
       "<Figure size 640x480 with 1 Axes>"
      ]
     },
     "metadata": {},
     "output_type": "display_data"
    }
   ],
   "source": [
    "sns.histplot(df.duration_ms, bins=500)"
   ]
  },
  {
   "cell_type": "code",
   "execution_count": 25,
   "id": "19e08fc8",
   "metadata": {
    "execution": {
     "iopub.execute_input": "2023-12-28T09:21:04.038218Z",
     "iopub.status.busy": "2023-12-28T09:21:04.037780Z",
     "iopub.status.idle": "2023-12-28T09:21:04.049950Z",
     "shell.execute_reply": "2023-12-28T09:21:04.049246Z",
     "shell.execute_reply.started": "2023-12-28T09:21:04.038169Z"
    },
    "tags": []
   },
   "outputs": [
    {
     "data": {
      "text/plain": [
       "array(['acoustic', 'afrobeat', 'alt-rock', 'alternative', 'ambient',\n",
       "       'anime', 'black-metal', 'bluegrass', 'blues', 'brazil',\n",
       "       'breakbeat', 'british', 'cantopop', 'chicago-house', 'children',\n",
       "       'chill', 'classical', 'club', 'comedy', 'country', 'dance',\n",
       "       'dancehall', 'death-metal', 'deep-house', 'detroit-techno',\n",
       "       'disco', 'disney', 'drum-and-bass', 'dub', 'dubstep', 'edm',\n",
       "       'electro', 'electronic', 'emo', 'folk', 'forro', 'french', 'funk',\n",
       "       'garage', 'german', 'gospel', 'goth', 'grindcore', 'groove',\n",
       "       'grunge', 'guitar', 'happy', 'hard-rock', 'hardcore', 'hardstyle',\n",
       "       'heavy-metal', 'hip-hop', 'honky-tonk', 'house', 'idm', 'indian',\n",
       "       'indie-pop', 'indie', 'industrial', 'iranian', 'j-dance', 'j-idol',\n",
       "       'j-pop', 'j-rock', 'jazz', 'k-pop', 'kids', 'latin', 'latino',\n",
       "       'malay', 'mandopop', 'metal', 'metalcore', 'minimal-techno', 'mpb',\n",
       "       'new-age', 'opera', 'pagode', 'party', 'piano', 'pop-film', 'pop',\n",
       "       'power-pop', 'progressive-house', 'psych-rock', 'punk-rock',\n",
       "       'punk', 'r-n-b', 'reggae', 'reggaeton', 'rock-n-roll', 'rock',\n",
       "       'rockabilly', 'romance', 'sad', 'salsa', 'samba', 'sertanejo',\n",
       "       'show-tunes', 'singer-songwriter', 'ska', 'sleep', 'songwriter',\n",
       "       'soul', 'spanish', 'study', 'swedish', 'synth-pop', 'tango',\n",
       "       'techno', 'trance', 'trip-hop', 'turkish', 'world-music'],\n",
       "      dtype=object)"
      ]
     },
     "execution_count": 25,
     "metadata": {},
     "output_type": "execute_result"
    }
   ],
   "source": [
    "df.track_genre.unique()"
   ]
  },
  {
   "cell_type": "code",
   "execution_count": 26,
   "id": "94381c61",
   "metadata": {
    "execution": {
     "iopub.execute_input": "2023-12-28T09:21:04.051635Z",
     "iopub.status.busy": "2023-12-28T09:21:04.050995Z",
     "iopub.status.idle": "2023-12-28T09:21:04.210296Z",
     "shell.execute_reply": "2023-12-28T09:21:04.209542Z",
     "shell.execute_reply.started": "2023-12-28T09:21:04.051598Z"
    },
    "tags": []
   },
   "outputs": [
    {
     "name": "stderr",
     "output_type": "stream",
     "text": [
      "/tmp/ipykernel_2800/52875821.py:2: SettingWithCopyWarning: \n",
      "A value is trying to be set on a copy of a slice from a DataFrame.\n",
      "Try using .loc[row_indexer,col_indexer] = value instead\n",
      "\n",
      "See the caveats in the documentation: https://pandas.pydata.org/pandas-docs/stable/user_guide/indexing.html#returning-a-view-versus-a-copy\n",
      "  df[col] = df[col].str.lower()\n"
     ]
    }
   ],
   "source": [
    "for col in strings: #loop per ogni colonna\n",
    "    df[col] = df[col].str.lower()"
   ]
  },
  {
   "cell_type": "code",
   "execution_count": 27,
   "id": "b272c79c",
   "metadata": {
    "execution": {
     "iopub.execute_input": "2023-12-28T09:21:04.211858Z",
     "iopub.status.busy": "2023-12-28T09:21:04.211454Z",
     "iopub.status.idle": "2023-12-28T09:21:04.362305Z",
     "shell.execute_reply": "2023-12-28T09:21:04.361546Z",
     "shell.execute_reply.started": "2023-12-28T09:21:04.211818Z"
    },
    "tags": []
   },
   "outputs": [
    {
     "name": "stdout",
     "output_type": "stream",
     "text": [
      "artists\n",
      "['gen hoshino' 'ben woodward' 'ingrid michaelson;zayn' 'kina grannis'\n",
      " 'chord overstreet']\n",
      "31429\n",
      "\n",
      "album_name\n",
      "['comedy' 'ghost (acoustic)' 'to begin again'\n",
      " 'crazy rich asians (original motion picture soundtrack)' 'hold on']\n",
      "46155\n",
      "\n",
      "track_name\n",
      "['comedy' 'ghost - acoustic' 'to begin again' \"can't help falling in love\"\n",
      " 'hold on']\n",
      "72396\n",
      "\n",
      "popularity\n",
      "[73 55 57 71 82]\n",
      "101\n",
      "\n",
      "duration_ms\n",
      "[12.34873039 11.91579387 12.25879317 12.21569619 12.20032617]\n",
      "50696\n",
      "\n",
      "explicit\n",
      "[0 1]\n",
      "2\n",
      "\n",
      "danceability\n",
      "[0.676 0.42  0.438 0.266 0.618]\n",
      "1174\n",
      "\n",
      "energy\n",
      "[0.461  0.166  0.359  0.0596 0.443 ]\n",
      "2083\n",
      "\n",
      "key\n",
      "[ 1  0  2  6 11]\n",
      "12\n",
      "\n",
      "loudness\n",
      "[ -6.746 -17.235  -9.734 -18.515  -9.681]\n",
      "19480\n",
      "\n",
      "mode\n",
      "[0 1]\n",
      "2\n",
      "\n",
      "speechiness\n",
      "[0.143  0.0763 0.0557 0.0363 0.0526]\n",
      "1489\n",
      "\n",
      "acousticness\n",
      "[0.0322 0.924  0.21   0.905  0.469 ]\n",
      "5061\n",
      "\n",
      "instrumentalness\n",
      "[1.01e-06 5.56e-06 0.00e+00 7.07e-05 2.89e-06]\n",
      "5346\n",
      "\n",
      "liveness\n",
      "[0.358  0.101  0.117  0.132  0.0829]\n",
      "1722\n",
      "\n",
      "valence\n",
      "[0.715 0.267 0.12  0.143 0.167]\n",
      "1790\n",
      "\n",
      "tempo\n",
      "[ 87.917  77.489  76.332 181.74  119.949]\n",
      "45652\n",
      "\n",
      "time_signature\n",
      "[4 3 1 5 0]\n",
      "5\n",
      "\n",
      "track_genre\n",
      "['acoustic' 'afrobeat' 'alt-rock' 'alternative' 'ambient']\n",
      "114\n",
      "\n"
     ]
    }
   ],
   "source": [
    "for col in df.columns:\n",
    "    print(col)\n",
    "    print(df[col].unique()[:5]) #stampo solo i primi 5 valori diversi\n",
    "    print(df[col].nunique())\n",
    "    print()"
   ]
  },
  {
   "cell_type": "markdown",
   "id": "2ec15c5a",
   "metadata": {},
   "source": [
    "# Splitting the Data"
   ]
  },
  {
   "cell_type": "code",
   "execution_count": 28,
   "id": "17dff2bd",
   "metadata": {
    "execution": {
     "iopub.execute_input": "2023-12-28T09:21:04.363874Z",
     "iopub.status.busy": "2023-12-28T09:21:04.363452Z",
     "iopub.status.idle": "2023-12-28T09:21:04.441752Z",
     "shell.execute_reply": "2023-12-28T09:21:04.441101Z",
     "shell.execute_reply.started": "2023-12-28T09:21:04.363837Z"
    },
    "tags": []
   },
   "outputs": [],
   "source": [
    "df_full_train, df_test = train_test_split(df, test_size=0.2, random_state=11)\n",
    "df_train, df_val = train_test_split(df_full_train, test_size=0.25, random_state=11)"
   ]
  },
  {
   "cell_type": "code",
   "execution_count": 29,
   "id": "6d15f83e",
   "metadata": {
    "execution": {
     "iopub.execute_input": "2023-12-28T09:21:04.445769Z",
     "iopub.status.busy": "2023-12-28T09:21:04.445114Z",
     "iopub.status.idle": "2023-12-28T09:21:04.486585Z",
     "shell.execute_reply": "2023-12-28T09:21:04.485979Z",
     "shell.execute_reply.started": "2023-12-28T09:21:04.445740Z"
    },
    "tags": []
   },
   "outputs": [],
   "source": [
    "df_train = df_train.reset_index(drop=True)\n",
    "df_val = df_val.reset_index(drop=True)\n",
    "df_test = df_test.reset_index(drop=True)\n",
    "df_full_train = df_full_train.reset_index(drop=True)"
   ]
  },
  {
   "cell_type": "code",
   "execution_count": 30,
   "id": "6a65f2a7",
   "metadata": {
    "execution": {
     "iopub.execute_input": "2023-12-28T09:21:04.487994Z",
     "iopub.status.busy": "2023-12-28T09:21:04.487578Z",
     "iopub.status.idle": "2023-12-28T09:21:04.493428Z",
     "shell.execute_reply": "2023-12-28T09:21:04.492775Z",
     "shell.execute_reply.started": "2023-12-28T09:21:04.487954Z"
    },
    "tags": []
   },
   "outputs": [
    {
     "data": {
      "text/plain": [
       "(68399, 22800, 22800)"
      ]
     },
     "execution_count": 30,
     "metadata": {},
     "output_type": "execute_result"
    }
   ],
   "source": [
    "len(df_train), len(df_test), len(df_val)"
   ]
  },
  {
   "cell_type": "code",
   "execution_count": 31,
   "id": "59c3497c",
   "metadata": {
    "execution": {
     "iopub.execute_input": "2023-12-28T09:21:04.495030Z",
     "iopub.status.busy": "2023-12-28T09:21:04.494525Z",
     "iopub.status.idle": "2023-12-28T09:21:04.499077Z",
     "shell.execute_reply": "2023-12-28T09:21:04.498432Z",
     "shell.execute_reply.started": "2023-12-28T09:21:04.494994Z"
    },
    "tags": []
   },
   "outputs": [],
   "source": [
    "y_train = df_train.popularity\n",
    "y_val = df_val.popularity\n",
    "y_test = df_test.popularity\n",
    "y_full_train = df_full_train.popularity"
   ]
  },
  {
   "cell_type": "code",
   "execution_count": 32,
   "id": "6c12354a",
   "metadata": {
    "execution": {
     "iopub.execute_input": "2023-12-28T09:21:04.500595Z",
     "iopub.status.busy": "2023-12-28T09:21:04.500091Z",
     "iopub.status.idle": "2023-12-28T09:21:04.505715Z",
     "shell.execute_reply": "2023-12-28T09:21:04.505041Z",
     "shell.execute_reply.started": "2023-12-28T09:21:04.500559Z"
    },
    "tags": []
   },
   "outputs": [],
   "source": [
    "del df_train['popularity']\n",
    "del df_val['popularity']\n",
    "del df_test['popularity']\n",
    "del df_full_train['popularity']"
   ]
  },
  {
   "cell_type": "code",
   "execution_count": 33,
   "id": "bca94b56",
   "metadata": {
    "execution": {
     "iopub.execute_input": "2023-12-28T09:21:04.507206Z",
     "iopub.status.busy": "2023-12-28T09:21:04.506720Z",
     "iopub.status.idle": "2023-12-28T09:21:04.511299Z",
     "shell.execute_reply": "2023-12-28T09:21:04.510642Z",
     "shell.execute_reply.started": "2023-12-28T09:21:04.507171Z"
    },
    "tags": []
   },
   "outputs": [],
   "source": [
    "def rmse(y, y_pred):\n",
    "    error = y - y_pred #calcolo errore tra i 2 array\n",
    "    se = error **2 #quadrato della differenza\n",
    "    mse = se.mean() #media della differenza\n",
    "    return np.sqrt(mse) #radice del valore medio"
   ]
  },
  {
   "cell_type": "markdown",
   "id": "483f6a40",
   "metadata": {},
   "source": [
    "# DECISION TREES"
   ]
  },
  {
   "cell_type": "code",
   "execution_count": 34,
   "id": "d28d1035",
   "metadata": {
    "execution": {
     "iopub.execute_input": "2023-12-28T09:21:04.512854Z",
     "iopub.status.busy": "2023-12-28T09:21:04.512296Z",
     "iopub.status.idle": "2023-12-28T09:21:14.140899Z",
     "shell.execute_reply": "2023-12-28T09:21:14.140248Z",
     "shell.execute_reply.started": "2023-12-28T09:21:04.512819Z"
    },
    "tags": []
   },
   "outputs": [],
   "source": [
    "#train\n",
    "train_dicts = df_train.to_dict(orient='records')\n",
    "dv = DictVectorizer(sparse=False)\n",
    "X_train = dv.fit_transform(train_dicts)\n",
    "#val\n",
    "val_dicts = df_val.to_dict(orient='records')\n",
    "X_val = dv.transform(val_dicts)\n",
    "#ft\n",
    "#train\n",
    "dicts_ft = df_full_train.to_dict(orient='records')\n",
    "dv = DictVectorizer(sparse = False)\n",
    "X_full_train = dv.fit_transform(dicts_ft)\n",
    "#test\n",
    "dicts_test = df_test.to_dict(orient='records')\n",
    "X_test = dv.transform(dicts_test)"
   ]
  },
  {
   "cell_type": "code",
   "execution_count": 35,
   "id": "132b7346-d8c3-4a3a-99bb-5b1290889f1b",
   "metadata": {
    "execution": {
     "iopub.execute_input": "2023-12-24T21:06:04.432493Z",
     "iopub.status.busy": "2023-12-24T21:06:04.432095Z",
     "iopub.status.idle": "2023-12-25T03:27:40.286447Z",
     "shell.execute_reply": "2023-12-25T03:27:40.285551Z",
     "shell.execute_reply.started": "2023-12-24T21:06:04.432465Z"
    },
    "tags": []
   },
   "outputs": [
    {
     "name": "stdout",
     "output_type": "stream",
     "text": [
      "(1, 1, 22.076826129624493)\n",
      "(1, 100, 22.076826129624493)\n",
      "(1, 500, 22.076826129624493)\n",
      "(10, 1, 20.996694549115592)\n",
      "(10, 100, 21.034734758465678)\n",
      "(10, 500, 21.06316166225377)\n",
      "(50, 1, 19.12854077047366)\n",
      "(50, 100, 19.26074419219002)\n",
      "(50, 500, 20.13630975687539)\n",
      "(None, 1, 18.619343012322595)\n",
      "(None, 100, 19.139181655263048)\n",
      "(None, 500, 20.13630975687539)\n"
     ]
    },
    {
     "data": {
      "text/html": [
       "<div>\n",
       "<style scoped>\n",
       "    .dataframe tbody tr th:only-of-type {\n",
       "        vertical-align: middle;\n",
       "    }\n",
       "\n",
       "    .dataframe tbody tr th {\n",
       "        vertical-align: top;\n",
       "    }\n",
       "\n",
       "    .dataframe thead th {\n",
       "        text-align: right;\n",
       "    }\n",
       "</style>\n",
       "<table border=\"1\" class=\"dataframe\">\n",
       "  <thead>\n",
       "    <tr style=\"text-align: right;\">\n",
       "      <th></th>\n",
       "      <th>max_depth</th>\n",
       "      <th>min_samples_leaf</th>\n",
       "      <th>rmse</th>\n",
       "    </tr>\n",
       "  </thead>\n",
       "  <tbody>\n",
       "    <tr>\n",
       "      <th>0</th>\n",
       "      <td>1.0</td>\n",
       "      <td>1</td>\n",
       "      <td>22.076826</td>\n",
       "    </tr>\n",
       "    <tr>\n",
       "      <th>1</th>\n",
       "      <td>1.0</td>\n",
       "      <td>100</td>\n",
       "      <td>22.076826</td>\n",
       "    </tr>\n",
       "    <tr>\n",
       "      <th>2</th>\n",
       "      <td>1.0</td>\n",
       "      <td>500</td>\n",
       "      <td>22.076826</td>\n",
       "    </tr>\n",
       "    <tr>\n",
       "      <th>3</th>\n",
       "      <td>10.0</td>\n",
       "      <td>1</td>\n",
       "      <td>20.996695</td>\n",
       "    </tr>\n",
       "    <tr>\n",
       "      <th>4</th>\n",
       "      <td>10.0</td>\n",
       "      <td>100</td>\n",
       "      <td>21.034735</td>\n",
       "    </tr>\n",
       "    <tr>\n",
       "      <th>5</th>\n",
       "      <td>10.0</td>\n",
       "      <td>500</td>\n",
       "      <td>21.063162</td>\n",
       "    </tr>\n",
       "    <tr>\n",
       "      <th>6</th>\n",
       "      <td>50.0</td>\n",
       "      <td>1</td>\n",
       "      <td>19.128541</td>\n",
       "    </tr>\n",
       "    <tr>\n",
       "      <th>7</th>\n",
       "      <td>50.0</td>\n",
       "      <td>100</td>\n",
       "      <td>19.260744</td>\n",
       "    </tr>\n",
       "    <tr>\n",
       "      <th>8</th>\n",
       "      <td>50.0</td>\n",
       "      <td>500</td>\n",
       "      <td>20.136310</td>\n",
       "    </tr>\n",
       "    <tr>\n",
       "      <th>9</th>\n",
       "      <td>NaN</td>\n",
       "      <td>1</td>\n",
       "      <td>18.619343</td>\n",
       "    </tr>\n",
       "    <tr>\n",
       "      <th>10</th>\n",
       "      <td>NaN</td>\n",
       "      <td>100</td>\n",
       "      <td>19.139182</td>\n",
       "    </tr>\n",
       "    <tr>\n",
       "      <th>11</th>\n",
       "      <td>NaN</td>\n",
       "      <td>500</td>\n",
       "      <td>20.136310</td>\n",
       "    </tr>\n",
       "  </tbody>\n",
       "</table>\n",
       "</div>"
      ],
      "text/plain": [
       "    max_depth  min_samples_leaf       rmse\n",
       "0         1.0                 1  22.076826\n",
       "1         1.0               100  22.076826\n",
       "2         1.0               500  22.076826\n",
       "3        10.0                 1  20.996695\n",
       "4        10.0               100  21.034735\n",
       "5        10.0               500  21.063162\n",
       "6        50.0                 1  19.128541\n",
       "7        50.0               100  19.260744\n",
       "8        50.0               500  20.136310\n",
       "9         NaN                 1  18.619343\n",
       "10        NaN               100  19.139182\n",
       "11        NaN               500  20.136310"
      ]
     },
     "execution_count": 35,
     "metadata": {},
     "output_type": "execute_result"
    }
   ],
   "source": [
    "scores = []\n",
    "\n",
    "for d in [1,10,50, None]: \n",
    "    for s in [1,100,500]: \n",
    "        dt = DecisionTreeRegressor( max_depth=d, min_samples_leaf=s)\n",
    "        dt.fit(X_train, y_train)\n",
    "\n",
    "        y_pred = dt.predict(X_val)\n",
    "        _rmse = rmse(y_val, y_pred)\n",
    "        scores.append((d,s,_rmse))\n",
    "        print((d,s,_rmse))\n",
    "col = ['max_depth', 'min_samples_leaf', 'rmse']\n",
    "df_scores = pd.DataFrame(scores, columns=col)\n",
    "df_scores"
   ]
  },
  {
   "cell_type": "code",
   "execution_count": 36,
   "id": "e2b85614-ff01-4ce7-af56-02bfb8d68f25",
   "metadata": {
    "execution": {
     "iopub.execute_input": "2023-12-25T03:27:40.288088Z",
     "iopub.status.busy": "2023-12-25T03:27:40.287759Z",
     "iopub.status.idle": "2023-12-25T03:27:40.304350Z",
     "shell.execute_reply": "2023-12-25T03:27:40.303820Z",
     "shell.execute_reply.started": "2023-12-25T03:27:40.288063Z"
    },
    "tags": []
   },
   "outputs": [
    {
     "data": {
      "text/html": [
       "<div>\n",
       "<style scoped>\n",
       "    .dataframe tbody tr th:only-of-type {\n",
       "        vertical-align: middle;\n",
       "    }\n",
       "\n",
       "    .dataframe tbody tr th {\n",
       "        vertical-align: top;\n",
       "    }\n",
       "\n",
       "    .dataframe thead tr th {\n",
       "        text-align: left;\n",
       "    }\n",
       "\n",
       "    .dataframe thead tr:last-of-type th {\n",
       "        text-align: right;\n",
       "    }\n",
       "</style>\n",
       "<table border=\"1\" class=\"dataframe\">\n",
       "  <thead>\n",
       "    <tr>\n",
       "      <th></th>\n",
       "      <th colspan=\"4\" halign=\"left\">rmse</th>\n",
       "    </tr>\n",
       "    <tr>\n",
       "      <th>max_depth</th>\n",
       "      <th>NaN</th>\n",
       "      <th>1.0</th>\n",
       "      <th>10.0</th>\n",
       "      <th>50.0</th>\n",
       "    </tr>\n",
       "    <tr>\n",
       "      <th>min_samples_leaf</th>\n",
       "      <th></th>\n",
       "      <th></th>\n",
       "      <th></th>\n",
       "      <th></th>\n",
       "    </tr>\n",
       "  </thead>\n",
       "  <tbody>\n",
       "    <tr>\n",
       "      <th>1</th>\n",
       "      <td>18.619</td>\n",
       "      <td>22.077</td>\n",
       "      <td>20.997</td>\n",
       "      <td>19.129</td>\n",
       "    </tr>\n",
       "    <tr>\n",
       "      <th>100</th>\n",
       "      <td>19.139</td>\n",
       "      <td>22.077</td>\n",
       "      <td>21.035</td>\n",
       "      <td>19.261</td>\n",
       "    </tr>\n",
       "    <tr>\n",
       "      <th>500</th>\n",
       "      <td>20.136</td>\n",
       "      <td>22.077</td>\n",
       "      <td>21.063</td>\n",
       "      <td>20.136</td>\n",
       "    </tr>\n",
       "  </tbody>\n",
       "</table>\n",
       "</div>"
      ],
      "text/plain": [
       "                    rmse                        \n",
       "max_depth            NaN    1.0     10.0    50.0\n",
       "min_samples_leaf                                \n",
       "1                 18.619  22.077  20.997  19.129\n",
       "100               19.139  22.077  21.035  19.261\n",
       "500               20.136  22.077  21.063  20.136"
      ]
     },
     "execution_count": 36,
     "metadata": {},
     "output_type": "execute_result"
    }
   ],
   "source": [
    "df_scores.sort_values(by='rmse', ascending=True)\n",
    "df_scores_pivot = df_scores.pivot(index='min_samples_leaf', \n",
    "                columns=['max_depth'],\n",
    "                values=['rmse'])\n",
    "df_scores_pivot.round(3)"
   ]
  },
  {
   "cell_type": "code",
   "execution_count": 37,
   "id": "4893c1a4-c248-4988-ba79-fdc9e364cb99",
   "metadata": {
    "execution": {
     "iopub.execute_input": "2023-12-25T03:27:40.305423Z",
     "iopub.status.busy": "2023-12-25T03:27:40.305114Z",
     "iopub.status.idle": "2023-12-25T03:27:40.612777Z",
     "shell.execute_reply": "2023-12-25T03:27:40.612181Z",
     "shell.execute_reply.started": "2023-12-25T03:27:40.305399Z"
    },
    "tags": []
   },
   "outputs": [
    {
     "data": {
      "text/plain": [
       "<AxesSubplot:xlabel='popularity', ylabel='Count'>"
      ]
     },
     "execution_count": 37,
     "metadata": {},
     "output_type": "execute_result"
    },
    {
     "data": {
      "image/png": "[encoded data removed]",
      "text/plain": [
       "<Figure size 640x480 with 1 Axes>"
      ]
     },
     "metadata": {},
     "output_type": "display_data"
    }
   ],
   "source": [
    "sns.histplot(y_pred, color='red', alpha=0.5, bins=50) #predictions\n",
    "sns.histplot(y_train, color='blue', alpha=0.5, bins=50) #target values"
   ]
  },
  {
   "cell_type": "markdown",
   "id": "eab7f3bc-88a7-4273-a04c-77aff2efbd62",
   "metadata": {
    "execution": {
     "iopub.execute_input": "2023-12-22T23:45:26.791211Z",
     "iopub.status.busy": "2023-12-22T23:45:26.790826Z",
     "iopub.status.idle": "2023-12-22T23:45:26.794623Z",
     "shell.execute_reply": "2023-12-22T23:45:26.793842Z",
     "shell.execute_reply.started": "2023-12-22T23:45:26.791182Z"
    },
    "tags": []
   },
   "source": [
    "# RANDOM FOREST"
   ]
  },
  {
   "cell_type": "code",
   "execution_count": 40,
   "id": "079a7e1c-5a43-40e0-b52c-c039f68b13f3",
   "metadata": {
    "execution": {
     "iopub.execute_input": "2023-12-27T19:04:50.762126Z",
     "iopub.status.busy": "2023-12-27T19:04:50.761711Z",
     "iopub.status.idle": "2023-12-27T19:48:38.417694Z",
     "shell.execute_reply": "2023-12-27T19:48:38.417095Z",
     "shell.execute_reply.started": "2023-12-27T19:04:50.762098Z"
    },
    "tags": []
   },
   "outputs": [
    {
     "name": "stdout",
     "output_type": "stream",
     "text": [
      "(50, 19.652942815864268)\n",
      "(100, 19.725144049876807)\n"
     ]
    }
   ],
   "source": [
    "scores = []\n",
    "for m in [50, 100]:\n",
    "    rf = RandomForestRegressor(n_estimators=1, \n",
    "        max_depth=m,\n",
    "        min_samples_leaf=1,\n",
    "        random_state=1) \n",
    "    rf.fit(X_train, y_train)\n",
    "\n",
    "    y_pred = rf.predict(X_val)\n",
    "    _rmse = rmse(y_val, y_pred)\n",
    "    scores.append((m, _rmse))\n",
    "\n",
    "    print((m, _rmse))"
   ]
  },
  {
   "cell_type": "code",
   "execution_count": 35,
   "id": "c04bc7bd-e168-4db5-85d5-46e29c694253",
   "metadata": {
    "execution": {
     "iopub.execute_input": "2023-12-28T09:21:14.142823Z",
     "iopub.status.busy": "2023-12-28T09:21:14.142519Z",
     "iopub.status.idle": "2023-12-28T10:31:30.676355Z",
     "shell.execute_reply": "2023-12-28T10:31:30.675467Z",
     "shell.execute_reply.started": "2023-12-28T09:21:14.142800Z"
    },
    "tags": []
   },
   "outputs": [
    {
     "name": "stdout",
     "output_type": "stream",
     "text": [
      "18.57627412928426\n"
     ]
    }
   ],
   "source": [
    "\n",
    "model = DecisionTreeRegressor( max_depth=None, min_samples_leaf=1)\n",
    "model.fit(X_train, y_train)\n",
    "\n",
    "y_pred = model.predict(X_val)\n",
    "_rmse = rmse(y_val, y_pred)\n",
    "print(_rmse)"
   ]
  },
  {
   "cell_type": "code",
   "execution_count": 36,
   "id": "70d53a4a-0fc4-4192-ac4f-fcc8a7f6132a",
   "metadata": {
    "execution": {
     "iopub.execute_input": "2023-12-28T10:31:30.677683Z",
     "iopub.status.busy": "2023-12-28T10:31:30.677341Z",
     "iopub.status.idle": "2023-12-28T10:31:30.743218Z",
     "shell.execute_reply": "2023-12-28T10:31:30.742602Z",
     "shell.execute_reply.started": "2023-12-28T10:31:30.677659Z"
    },
    "tags": []
   },
   "outputs": [],
   "source": [
    "\n",
    "import pickle\n",
    "\n",
    "output_file = 'song_model.bin'\n",
    "with open(output_file, 'wb') as f_out: \n",
    "    pickle.dump((dv, model), f_out)"
   ]
  },
  {
   "cell_type": "code",
   "execution_count": null,
   "id": "a829de27-1fc4-4bc9-9f36-c584d569524d",
   "metadata": {},
   "outputs": [],
   "source": []
  }
 ],
 "metadata": {
  "kernelspec": {
   "display_name": "saturn (Python 3)",
   "language": "python",
   "name": "python3"
  },
  "language_info": {
   "codemirror_mode": {
    "name": "ipython",
    "version": 3
   },
   "file_extension": ".py",
   "mimetype": "text/x-python",
   "name": "python",
   "nbconvert_exporter": "python",
   "pygments_lexer": "ipython3",
   "version": "3.9.15"
  }
 },
 "nbformat": 4,
 "nbformat_minor": 5
}
